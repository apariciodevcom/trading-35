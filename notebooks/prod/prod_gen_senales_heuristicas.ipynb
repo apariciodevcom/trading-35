{
 "cells": [
  {
   "cell_type": "code",
   "execution_count": 1,
   "id": "b20f031c-fa05-404c-8699-7f4cb91b72ea",
   "metadata": {},
   "outputs": [
    {
     "name": "stdout",
     "output_type": "stream",
     "text": [
      "D:\\trading_env\\Scripts\\python.exe\n"
     ]
    }
   ],
   "source": [
    "import sys\n",
    "print(sys.executable)\n"
   ]
  },
  {
   "cell_type": "code",
   "execution_count": 2,
   "id": "7a8f009b-813b-490e-8c7d-45cf2bc24092",
   "metadata": {},
   "outputs": [],
   "source": [
    "#!pip list\n"
   ]
  },
  {
   "cell_type": "code",
   "execution_count": 3,
   "id": "7c00515e-3a32-43a3-903d-fde400ef19ce",
   "metadata": {},
   "outputs": [],
   "source": [
    "# Celda 1 - configuracion de entorno\n",
    "from datetime import datetime\n",
    "from pathlib import Path\n",
    "import subprocess\n",
    "\n",
    "FECHA_HOY = datetime.now().strftime(\"%Y-%m-%d\")\n",
    "LOG_DIR = Path(\"D:/trading/logs/staging\")\n",
    "LOG_DIR.mkdir(parents=True, exist_ok=True)\n",
    "LOG_PATH = LOG_DIR / f\"gen_senales_heuristicas_{FECHA_HOY}.log\"\n",
    "\n",
    "def log_event(status, mensaje):\n",
    "    timestamp = datetime.now().strftime(\"%Y-%m-%d %H:%M:%S\")\n",
    "    with open(LOG_PATH, \"a\", encoding=\"utf-8\") as f:\n",
    "        f.write(f\"{timestamp},{status},{mensaje}\\n\")\n",
    "    print(f\"[{timestamp}] {status}: {mensaje}\")"
   ]
  },
  {
   "cell_type": "code",
   "execution_count": 4,
   "id": "5b763f1e-f525-4a1e-ab6c-9923647c3009",
   "metadata": {},
   "outputs": [
    {
     "name": "stdout",
     "output_type": "stream",
     "text": [
      "[2025-05-28 11:48:51] START: Ejecutando shp.py para generar señales heuristicas\n",
      "[2025-05-28 11:48:59] OK: shp.py ejecutado correctamente\n",
      "Simbolos a procesar: 46\n",
      "Iniciando procesamiento serial...\n",
      "\n",
      "\n",
      "\n",
      "\n",
      "\n",
      "\n",
      "\n",
      "\n",
      "\n",
      "\n",
      "\n",
      "\n",
      "\n",
      "\n",
      "\n",
      "\n",
      "\n",
      "\n",
      "\n",
      "\n",
      "\n",
      "\n",
      "\n",
      "\n",
      "\n",
      "\n",
      "\n",
      "\n",
      "\n",
      "\n",
      "\n",
      "\n",
      "\n",
      "\n",
      "\n",
      "\n",
      "\n",
      "\n",
      "\n",
      "\n",
      "\n",
      "\n",
      "\n",
      "\n",
      "\n",
      "\n",
      "\n",
      "Senales guardadas en: D:\\trading\\reports\\senales_heuristicas\\senales_heuristicas_2025-05-28.csv\n",
      "Total senales: 305383\n",
      "\n",
      "Duracion total: 7.46 segundos\n",
      "\n"
     ]
    }
   ],
   "source": [
    "# Celda 2 - ejecucion del script shp.py\n",
    "log_event(\"START\", \"Ejecutando shp.py para generar señales heuristicas\")\n",
    "\n",
    "try:\n",
    "    ruta_script = \"D:/trading/scripts/utils/shp.py\"\n",
    "    resultado = subprocess.run([\"D:/trading_env/Scripts/python.exe\", ruta_script], capture_output=True, text=True)\n",
    "\n",
    "    if resultado.returncode == 0:\n",
    "        log_event(\"OK\", \"shp.py ejecutado correctamente\")\n",
    "        print(resultado.stdout)\n",
    "    else:\n",
    "        log_event(\"ERROR\", f\"shp.py fallo con returncode {resultado.returncode}\")\n",
    "        print(resultado.stderr)\n",
    "except Exception as e:\n",
    "    log_event(\"ERROR\", f\"Fallo al ejecutar shp.py: {str(e)}\")\n",
    "    raise\n"
   ]
  },
  {
   "cell_type": "code",
   "execution_count": 5,
   "id": "b283fb3e-3f99-4c5c-8d1b-1b11bb2168b3",
   "metadata": {},
   "outputs": [
    {
     "name": "stdout",
     "output_type": "stream",
     "text": [
      "[2025-05-28 11:49:00] OK: 305383 señales heurísticas generadas\n"
     ]
    }
   ],
   "source": [
    "# Celda 3 - ver ultimas lineas del archivo generado\n",
    "from pathlib import Path\n",
    "import pandas as pd\n",
    "\n",
    "output_dir = Path(\"D:/trading/reports/senales_heuristicas\")\n",
    "archivo_csv = output_dir / f\"senales_heuristicas_{FECHA_HOY}.csv\"\n",
    "\n",
    "if archivo_csv.exists():\n",
    "    df = pd.read_csv(archivo_csv)\n",
    "    log_event(\"OK\", f\"{len(df)} señales heurísticas generadas\")\n",
    "    df.tail(10)\n",
    "else:\n",
    "    log_event(\"WARNING\", \"No se generó el archivo de señales heurísticas\")\n",
    "    print(\"Archivo no encontrado:\", archivo_csv)\n"
   ]
  },
  {
   "cell_type": "code",
   "execution_count": null,
   "id": "63f35747-43e2-473b-93ae-e156f1c9eacc",
   "metadata": {},
   "outputs": [],
   "source": []
  }
 ],
 "metadata": {
  "kernelspec": {
   "display_name": "Python 3 (ipykernel)",
   "language": "python",
   "name": "python3"
  },
  "language_info": {
   "codemirror_mode": {
    "name": "ipython",
    "version": 3
   },
   "file_extension": ".py",
   "mimetype": "text/x-python",
   "name": "python",
   "nbconvert_exporter": "python",
   "pygments_lexer": "ipython3",
   "version": "3.11.9"
  }
 },
 "nbformat": 4,
 "nbformat_minor": 5
}
