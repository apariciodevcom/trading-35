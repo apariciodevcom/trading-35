{
 "cells": [
  {
   "cell_type": "code",
   "execution_count": 1,
   "id": "e94258c6",
   "metadata": {},
   "outputs": [
    {
     "name": "stdout",
     "output_type": "stream",
     "text": [
      "Total operaciones: 5128411\n",
      "Columnas: ['simbolo', 'estrategia', 'fecha_entry', 'fecha_exit', 'signal', 'entry', 'exit', 'retorno', 'tp_hit', 'sl_hit']\n"
     ]
    },
    {
     "data": {
      "text/html": [
       "<div>\n",
       "<style scoped>\n",
       "    .dataframe tbody tr th:only-of-type {\n",
       "        vertical-align: middle;\n",
       "    }\n",
       "\n",
       "    .dataframe tbody tr th {\n",
       "        vertical-align: top;\n",
       "    }\n",
       "\n",
       "    .dataframe thead th {\n",
       "        text-align: right;\n",
       "    }\n",
       "</style>\n",
       "<table border=\"1\" class=\"dataframe\">\n",
       "  <thead>\n",
       "    <tr style=\"text-align: right;\">\n",
       "      <th></th>\n",
       "      <th>simbolo</th>\n",
       "      <th>estrategia</th>\n",
       "      <th>fecha_entry</th>\n",
       "      <th>fecha_exit</th>\n",
       "      <th>signal</th>\n",
       "      <th>entry</th>\n",
       "      <th>exit</th>\n",
       "      <th>retorno</th>\n",
       "      <th>tp_hit</th>\n",
       "      <th>sl_hit</th>\n",
       "    </tr>\n",
       "  </thead>\n",
       "  <tbody>\n",
       "    <tr>\n",
       "      <th>0</th>\n",
       "      <td>A</td>\n",
       "      <td>gap_open_strategy</td>\n",
       "      <td>2005-08-15</td>\n",
       "      <td>2005-08-24</td>\n",
       "      <td>buy</td>\n",
       "      <td>21.69528</td>\n",
       "      <td>21.56652</td>\n",
       "      <td>-0.0059</td>\n",
       "      <td>False</td>\n",
       "      <td>False</td>\n",
       "    </tr>\n",
       "    <tr>\n",
       "      <th>1</th>\n",
       "      <td>A</td>\n",
       "      <td>gap_open_strategy</td>\n",
       "      <td>2005-10-14</td>\n",
       "      <td>2005-10-25</td>\n",
       "      <td>buy</td>\n",
       "      <td>22.12446</td>\n",
       "      <td>22.30329</td>\n",
       "      <td>0.0081</td>\n",
       "      <td>False</td>\n",
       "      <td>False</td>\n",
       "    </tr>\n",
       "    <tr>\n",
       "      <th>2</th>\n",
       "      <td>A</td>\n",
       "      <td>gap_open_strategy</td>\n",
       "      <td>2005-11-15</td>\n",
       "      <td>2005-11-25</td>\n",
       "      <td>buy</td>\n",
       "      <td>24.67811</td>\n",
       "      <td>25.52933</td>\n",
       "      <td>0.0345</td>\n",
       "      <td>False</td>\n",
       "      <td>False</td>\n",
       "    </tr>\n",
       "  </tbody>\n",
       "</table>\n",
       "</div>"
      ],
      "text/plain": [
       "  simbolo         estrategia fecha_entry fecha_exit signal     entry  \\\n",
       "0       A  gap_open_strategy  2005-08-15 2005-08-24    buy  21.69528   \n",
       "1       A  gap_open_strategy  2005-10-14 2005-10-25    buy  22.12446   \n",
       "2       A  gap_open_strategy  2005-11-15 2005-11-25    buy  24.67811   \n",
       "\n",
       "       exit  retorno  tp_hit  sl_hit  \n",
       "0  21.56652  -0.0059   False   False  \n",
       "1  22.30329   0.0081   False   False  \n",
       "2  25.52933   0.0345   False   False  "
      ]
     },
     "execution_count": 1,
     "metadata": {},
     "output_type": "execute_result"
    }
   ],
   "source": [
    "import pandas as pd\n",
    "from pathlib import Path\n",
    "from datetime import date\n",
    "\n",
    "# Ruta del archivo (ajustar si usás otra fecha)\n",
    "BASE_PATH = Path(\"..\").resolve().parent\n",
    "FECHA = date.today().isoformat()\n",
    "BT_FILE = BASE_PATH / \"reports\" / \"backtesting\" / f\"bt_heuristicas_{FECHA}.csv\"\n",
    "\n",
    "# Cargar archivo\n",
    "df = pd.read_csv(BT_FILE)\n",
    "df[\"fecha_entry\"] = pd.to_datetime(df[\"fecha_entry\"], errors=\"coerce\")\n",
    "df[\"fecha_exit\"] = pd.to_datetime(df[\"fecha_exit\"], errors=\"coerce\")\n",
    "\n",
    "print(f\"Total operaciones: {len(df)}\")\n",
    "print(\"Columnas:\", list(df.columns))\n",
    "df.head(3)\n"
   ]
  },
  {
   "cell_type": "code",
   "execution_count": null,
   "id": "1a4cd2bc",
   "metadata": {},
   "outputs": [],
   "source": [
    "resumen_estrategia = (\n",
    "    df.groupby(\"estrategia\")\n",
    "    .agg(\n",
    "        total_op=(\"retorno\", \"count\"),\n",
    "        winrate=(\"retorno\", lambda x: round((x > 0).sum() / len(x), 2)),\n",
    "        retorno_total=(\"retorno\", \"sum\"),\n",
    "        sharpe=(\"retorno\", lambda x: round(x.mean() / x.std(), 2) if x.std() > 0 else 0),\n",
    "        profit_factor=(\"retorno\", lambda x: round(x[x > 0].sum() / abs(x[x < 0].sum()), 2) if x[x < 0].sum() != 0 else float(\"inf\"))\n",
    "    )\n",
    "    .sort_values(\"retorno_total\", ascending=False)\n",
    ")\n",
    "\n",
    "print(\"Resumen por estrategia:\")\n",
    "display(resumen_estrategia)\n"
   ]
  },
  {
   "cell_type": "code",
   "execution_count": null,
   "id": "95e8495c",
   "metadata": {},
   "outputs": [],
   "source": [
    "resumen_simbolo = (\n",
    "    df.groupby(\"simbolo\")\n",
    "    .agg(\n",
    "        total_op=(\"retorno\", \"count\"),\n",
    "        winrate=(\"retorno\", lambda x: round((x > 0).sum() / len(x), 2)),\n",
    "        retorno_total=(\"retorno\", \"sum\"),\n",
    "        sharpe=(\"retorno\", lambda x: round(x.mean() / x.std(), 2) if x.std() > 0 else 0),\n",
    "        profit_factor=(\"retorno\", lambda x: round(x[x > 0].sum() / abs(x[x < 0].sum()), 2) if x[x < 0].sum() != 0 else float(\"inf\"))\n",
    "    )\n",
    "    .sort_values(\"retorno_total\", ascending=False)\n",
    ")\n",
    "\n",
    "print(\"Resumen por simbolo:\")\n",
    "display(resumen_simbolo)\n"
   ]
  },
  {
   "cell_type": "code",
   "execution_count": null,
   "id": "8692136c",
   "metadata": {},
   "outputs": [],
   "source": [
    "top_combinaciones = (\n",
    "    df.groupby([\"estrategia\", \"simbolo\"])\n",
    "    .agg(\n",
    "        total_op=(\"retorno\", \"count\"),\n",
    "        retorno_total=(\"retorno\", \"sum\"),\n",
    "        winrate=(\"retorno\", lambda x: round((x > 0).sum() / len(x), 2)),\n",
    "        sharpe=(\"retorno\", lambda x: round(x.mean() / x.std(), 2) if x.std() > 0 else 0)\n",
    "    )\n",
    "    .reset_index()\n",
    "    .sort_values(\"retorno_total\", ascending=False)\n",
    ")\n",
    "\n",
    "print(\"Top combinaciones estrategia + simbolo:\")\n",
    "display(top_combinaciones.head(20))\n"
   ]
  },
  {
   "cell_type": "code",
   "execution_count": null,
   "id": "c176c1de",
   "metadata": {},
   "outputs": [],
   "source": [
    "print(\"Resumen de métricas globales en top_combinaciones:\\n\")\n",
    "print(\"Total combinaciones:\", len(top_combinaciones))\n",
    "print(\"Sharpe ratio - min:\", round(top_combinaciones[\"sharpe\"].min(), 2), \"| max:\", round(top_combinaciones[\"sharpe\"].max(), 2))\n",
    "print(\"Winrate - min:\", round(top_combinaciones[\"winrate\"].min(), 2), \"| max:\", round(top_combinaciones[\"winrate\"].max(), 2))\n",
    "print(\"Operaciones - min:\", top_combinaciones[\"total_op\"].min(), \"| max:\", top_combinaciones[\"total_op\"].max())\n",
    "print(\"Retorno total - min:\", round(top_combinaciones[\"retorno_total\"].min(), 2), \"| max:\", round(top_combinaciones[\"retorno_total\"].max(), 2))"
   ]
  },
  {
   "cell_type": "code",
   "execution_count": null,
   "id": "6203f775",
   "metadata": {},
   "outputs": [],
   "source": [
    "# Mostrar top 10 por retorno\n",
    "print(\"\\nTop 10 por retorno total:\")\n",
    "display(top_combinaciones.sort_values(\"retorno_total\", ascending=False).head(20))"
   ]
  },
  {
   "cell_type": "code",
   "execution_count": null,
   "id": "6494d5eb",
   "metadata": {},
   "outputs": [],
   "source": [
    "# === Top combinaciones por winrate ===\n",
    "top_winrate = (\n",
    "    top_combinaciones\n",
    "    .sort_values(\"winrate\", ascending=False)\n",
    "    .head(20)  # puedes ajustar a 10, 50, etc\n",
    ")\n",
    "\n",
    "print(\"Top combinaciones por winrate:\")\n",
    "display(top_winrate[[\"estrategia\", \"simbolo\", \"total_op\", \"retorno_total\", \"winrate\", \"sharpe\"]])\n"
   ]
  },
  {
   "cell_type": "code",
   "execution_count": null,
   "id": "7ede5121",
   "metadata": {},
   "outputs": [],
   "source": [
    "# === Top combinaciones por winrate ===\n",
    "top_winrate = (\n",
    "    top_combinaciones\n",
    "    .sort_values(\"winrate\", ascending=False)\n",
    "    .head(20)  # puedes ajustar a 10, 50, etc\n",
    ")\n",
    "\n",
    "print(\"Top combinaciones por winrate:\")\n",
    "display(top_winrate[[\"estrategia\", \"simbolo\", \"total_op\", \"retorno_total\", \"winrate\", \"sharpe\"]])\n"
   ]
  },
  {
   "cell_type": "code",
   "execution_count": null,
   "id": "b4f5e7d5",
   "metadata": {},
   "outputs": [],
   "source": [
    "# Winrate alto y al menos 50 operaciones\n",
    "top_winrate_filtrado = top_combinaciones[top_combinaciones[\"total_op\"] >= 100] \\\n",
    "    .sort_values(\"winrate\", ascending=False).head(20)\n",
    "\n",
    "display(top_winrate_filtrado)\n"
   ]
  },
  {
   "cell_type": "code",
   "execution_count": null,
   "id": "995e84ba",
   "metadata": {},
   "outputs": [],
   "source": [
    "# === Top 20 combinaciones por retorno_total ===\n",
    "top_rentables = (\n",
    "    top_combinaciones\n",
    "    .sort_values(\"retorno_total\", ascending=False)\n",
    "    .head(20)\n",
    ")\n",
    "\n",
    "print(\"Top 20 combinaciones por retorno total:\")\n",
    "display(top_rentables[[\"estrategia\", \"simbolo\", \"total_op\", \"retorno_total\", \"winrate\", \"sharpe\"]])\n"
   ]
  },
  {
   "cell_type": "code",
   "execution_count": null,
   "id": "9992278f",
   "metadata": {},
   "outputs": [],
   "source": [
    "import matplotlib.pyplot as plt\n",
    "\n",
    "plt.figure(figsize=(10, 6))\n",
    "plt.barh(top_rentables[\"simbolo\"] + \" | \" + top_rentables[\"estrategia\"], top_rentables[\"retorno_total\"])\n",
    "plt.xlabel(\"Retorno total\")\n",
    "plt.title(\"Top combinaciones por retorno total\")\n",
    "plt.gca().invert_yaxis()\n",
    "plt.tight_layout()\n",
    "plt.show()\n"
   ]
  },
  {
   "cell_type": "code",
   "execution_count": null,
   "id": "4b364981",
   "metadata": {},
   "outputs": [],
   "source": [
    "min_op = 100  # puedes ajustar este umbral\n",
    "top_rentables_filtradas = (\n",
    "    top_combinaciones[top_combinaciones[\"total_op\"] >= min_op]\n",
    "    .sort_values(\"retorno_total\", ascending=False)\n",
    "    .head(20)\n",
    ")\n",
    "\n",
    "print(f\"Top 20 combinaciones rentables con al menos {min_op} operaciones:\")\n",
    "display(top_rentables_filtradas)\n"
   ]
  },
  {
   "cell_type": "code",
   "execution_count": null,
   "id": "d2bcfe27",
   "metadata": {},
   "outputs": [],
   "source": [
    "import pandas as pd\n",
    "from pathlib import Path\n",
    "from datetime import date\n",
    "\n",
    "# === Rutas\n",
    "BASE_PATH = Path(\"..\").resolve().parent\n",
    "BT_DIR = BASE_PATH / \"reports\" / \"backtesting\"\n",
    "FECHA = date.today().isoformat()\n",
    "ARCHIVO = BT_DIR / f\"bt_heuristicas_{FECHA}.csv\"\n",
    "\n",
    "# === Cargar archivo\n",
    "df_bt = pd.read_csv(ARCHIVO, parse_dates=[\"fecha_entry\", \"fecha_exit\"])\n",
    "print(f\"Total operaciones: {len(df_bt)}\")\n",
    "display(df_bt.head())\n",
    "\n"
   ]
  },
  {
   "cell_type": "code",
   "execution_count": null,
   "id": "2838d013",
   "metadata": {},
   "outputs": [],
   "source": [
    "print(\"Columnas:\", list(df_bt.columns))\n",
    "print(\"\\nTipos:\")\n",
    "print(df_bt.dtypes)\n",
    "\n",
    "print(\"\\nFechas:\")\n",
    "print(\"Min:\", df_bt[\"fecha_entry\"].min(), \"→ Max:\", df_bt[\"fecha_exit\"].max())\n",
    "\n",
    "print(\"\\nEstrategias únicas:\", df_bt[\"estrategia\"].nunique())\n",
    "print(\"Símbolos únicos:\", df_bt[\"simbolo\"].nunique())\n",
    "print(\"Signals:\", df_bt[\"signal\"].unique())\n"
   ]
  },
  {
   "cell_type": "code",
   "execution_count": null,
   "id": "7329c35a",
   "metadata": {},
   "outputs": [],
   "source": [
    "top_combinaciones = (\n",
    "    df_bt.groupby([\"estrategia\", \"simbolo\"])\n",
    "    .agg(\n",
    "        total_op=(\"retorno\", \"count\"),\n",
    "        retorno_total=(\"retorno\", \"sum\"),\n",
    "        winrate=(\"retorno\", lambda x: round((x > 0).sum() / len(x), 2)),\n",
    "        sharpe=(\"retorno\", lambda x: round(x.mean() / x.std(), 2) if x.std() > 0 else 0)\n",
    "    )\n",
    "    .reset_index()\n",
    "    .sort_values(\"retorno_total\", ascending=False)\n",
    ")\n",
    "display(top_combinaciones.head(10))\n"
   ]
  },
  {
   "cell_type": "code",
   "execution_count": null,
   "id": "bf55d9f8",
   "metadata": {},
   "outputs": [],
   "source": [
    "min_op = 100\n",
    "min_sharpe = 0.3\n",
    "min_winrate = 0.6\n",
    "\n",
    "ganadoras = top_combinaciones[\n",
    "    (top_combinaciones[\"total_op\"] >= min_op) &\n",
    "    (top_combinaciones[\"sharpe\"] >= min_sharpe) &\n",
    "    (top_combinaciones[\"winrate\"] >= min_winrate)\n",
    "].sort_values(\"retorno_total\", ascending=False)\n",
    "\n",
    "print(f\"\\nCombinaciones ganadoras (op≥{min_op}, Sharpe≥{min_sharpe}, winrate≥{min_winrate}):\")\n",
    "display(ganadoras)\n"
   ]
  },
  {
   "cell_type": "code",
   "execution_count": null,
   "id": "7c48bfcc",
   "metadata": {},
   "outputs": [],
   "source": [
    "top_rentables = top_combinaciones.sort_values(\"retorno_total\", ascending=False).head(20)\n",
    "display(top_rentables)\n"
   ]
  },
  {
   "cell_type": "code",
   "execution_count": null,
   "id": "4b856a1c",
   "metadata": {},
   "outputs": [],
   "source": [
    "top_sharpe = top_combinaciones.sort_values(\"sharpe\", ascending=False).head(20)\n",
    "display(top_sharpe)\n"
   ]
  },
  {
   "cell_type": "code",
   "execution_count": null,
   "id": "112a226a",
   "metadata": {},
   "outputs": [],
   "source": [
    "top_winrate = top_combinaciones.sort_values(\"winrate\", ascending=False).head(20)\n",
    "display(top_winrate)\n"
   ]
  },
  {
   "cell_type": "code",
   "execution_count": null,
   "id": "69330bd3",
   "metadata": {},
   "outputs": [],
   "source": [
    "from pathlib import Path\n",
    "import json\n",
    "\n",
    "# === Ruta de salida\n",
    "EXPORT_PATH = BASE_PATH / \"config\" / \"json\" / \"combinaciones_filtradas.json\"\n",
    "EXPORT_PATH.parent.mkdir(parents=True, exist_ok=True)\n",
    "\n",
    "# === Preparar estructura de salida\n",
    "lista_final = [\n",
    "    {\"simbolo\": row[\"simbolo\"], \"estrategia\": row[\"estrategia\"]}\n",
    "    for _, row in ganadoras.iterrows()\n",
    "]\n",
    "\n",
    "# === Guardar como JSON\n",
    "with open(EXPORT_PATH, \"w\") as f:\n",
    "    json.dump({\"combinaciones\": lista_final}, f, indent=2)\n",
    "\n",
    "print(f\"Combinaciones ganadoras exportadas a: {EXPORT_PATH}\")\n",
    "print(f\"Total: {len(lista_final)} combinaciones\")\n"
   ]
  },
  {
   "cell_type": "code",
   "execution_count": null,
   "id": "c6ef8bf4",
   "metadata": {},
   "outputs": [],
   "source": [
    "# === Filtros personalizados ===\n",
    "min_op = 50\n",
    "min_sharpe = 0.5\n",
    "min_winrate = 0.50\n",
    "\n",
    "top_filtrado = (\n",
    "    top_combinaciones[\n",
    "        (top_combinaciones[\"total_op\"] >= min_op) &\n",
    "        (top_combinaciones[\"sharpe\"] > min_sharpe) &\n",
    "        (top_combinaciones[\"winrate\"] >= min_winrate)\n",
    "    ]\n",
    "    .sort_values(\"retorno_total\", ascending=False)\n",
    "    .head(30)\n",
    ")\n",
    "\n",
    "print(f\"Combinaciones con op≥{min_op}, Sharpe>{min_sharpe}, winrate≥{min_winrate} (top 30 por retorno total):\")\n",
    "display(top_filtrado)\n"
   ]
  },
  {
   "cell_type": "code",
   "execution_count": null,
   "id": "d20cac9d",
   "metadata": {},
   "outputs": [],
   "source": [
    "len(top_filtrado)"
   ]
  },
  {
   "cell_type": "code",
   "execution_count": null,
   "id": "5bb110df",
   "metadata": {},
   "outputs": [],
   "source": [
    "# === Extraer listas únicas ===\n",
    "lista_simbolos = sorted(top_filtrado[\"simbolo\"].unique().tolist())\n",
    "lista_estrategias = sorted(top_filtrado[\"estrategia\"].unique().tolist())\n",
    "\n",
    "print(f\"Simbolos seleccionados ({len(lista_simbolos)}):\\n{lista_simbolos}\")\n",
    "print(f\"\\nEstrategias seleccionadas ({len(lista_estrategias)}):\\n{lista_estrategias}\")\n"
   ]
  },
  {
   "cell_type": "code",
   "execution_count": null,
   "id": "3ca325ee",
   "metadata": {},
   "outputs": [],
   "source": [
    "import json\n",
    "\n",
    "# === Directorio de salida (ajustable si lo necesitas) ===\n",
    "OUTPUT_DIR = Path(\"notebooks/test/config/filtrados\")\n",
    "OUTPUT_DIR.mkdir(parents=True, exist_ok=True)\n",
    "\n",
    "# === Extraer listas únicas ===\n",
    "lista_simbolos = sorted(top_filtrado[\"simbolo\"].unique().tolist())\n",
    "lista_estrategias = sorted(top_filtrado[\"estrategia\"].unique().tolist())\n",
    "\n",
    "# === Mostrar en consola ===\n",
    "print(f\"Simbolos seleccionados ({len(lista_simbolos)}):\\n{lista_simbolos}\")\n",
    "print(f\"\\nEstrategias seleccionadas ({len(lista_estrategias)}):\\n{lista_estrategias}\")\n",
    "\n",
    "# === Guardar como JSON ===\n",
    "with open(OUTPUT_DIR / \"simbolos_filtrados.json\", \"w\") as f:\n",
    "    json.dump({\"simbolos\": lista_simbolos}, f, indent=2)\n",
    "\n",
    "with open(OUTPUT_DIR / \"estrategias_filtradas.json\", \"w\") as f:\n",
    "    json.dump({\"estrategias\": lista_estrategias}, f, indent=2)\n",
    "\n",
    "# === Guardar como TXT simple ===\n",
    "with open(OUTPUT_DIR / \"simbolos_filtrados.txt\", \"w\") as f:\n",
    "    f.write(\"\\n\".join(lista_simbolos))\n",
    "\n",
    "with open(OUTPUT_DIR / \"estrategias_filtradas.txt\", \"w\") as f:\n",
    "    f.write(\"\\n\".join(lista_estrategias))\n",
    "\n",
    "print(\"\\nArchivos guardados en:\", OUTPUT_DIR.resolve())\n"
   ]
  },
  {
   "cell_type": "code",
   "execution_count": null,
   "id": "d55faecd",
   "metadata": {},
   "outputs": [],
   "source": []
  }
 ],
 "metadata": {
  "kernelspec": {
   "display_name": "Python 3 (ipykernel)",
   "language": "python",
   "name": "python3"
  },
  "language_info": {
   "codemirror_mode": {
    "name": "ipython",
    "version": 3
   },
   "file_extension": ".py",
   "mimetype": "text/x-python",
   "name": "python",
   "nbconvert_exporter": "python",
   "pygments_lexer": "ipython3",
   "version": "3.11.5"
  }
 },
 "nbformat": 4,
 "nbformat_minor": 5
}
