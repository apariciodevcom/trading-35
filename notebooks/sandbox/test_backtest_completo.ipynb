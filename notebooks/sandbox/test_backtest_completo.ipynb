{
 "cells": [
  {
   "cell_type": "code",
   "execution_count": 3,
   "id": "3d321207",
   "metadata": {},
   "outputs": [
    {
     "name": "stdout",
     "output_type": "stream",
     "text": [
      "Archivo symbols.json generado con 673 simbolos:\n",
      "['A', 'AAPL', 'ABBV', 'ABNB', 'ABT', 'ACI', 'ACM', 'ADBE', 'ADI', 'ADM', 'ADP', 'ADSK', 'AEE', 'AEP', 'AFG', 'AFL', 'AFRM', 'AGNCL', 'AGNCM', 'AGNCN', 'AGNCO', 'AGNCP', 'AIG', 'AJG', 'AKAM', 'ALAB', 'ALGN', 'ALL', 'ALLE', 'ALLY', 'ALNY', 'AMAT', 'AMD', 'AME', 'AMGN', 'AMH', 'AMP', 'AMT', 'AMZN', 'ANET', 'ANSS', 'AON', 'APD', 'APG', 'APH', 'APO', 'APOS', 'APP', 'AQNB', 'AR', 'ARCC', 'ARE', 'ARES', 'ARMK', 'ATI', 'ATO', 'ATR', 'AUR', 'AVB', 'AVGO', 'AVY', 'AWK', 'AXON', 'AXP', 'AZO', 'BA', 'BAC', 'BAH', 'BALL', 'BAX', 'BBY', 'BDX', 'BEN', 'BEPC', 'BG', 'BIIB', 'BJ', 'BK', 'BKNG', 'BKR', 'BLDR', 'BLK', 'BMRN', 'BMY', 'BR', 'BRO', 'BROS', 'BSX', 'BSY', 'BTSGU', 'BURL', 'BX', 'BXP', 'C', 'CACI', 'CAG', 'CAH', 'CARR', 'CART', 'CASY', 'CAT', 'CBRE', 'CCI', 'CCK', 'CCL', 'CCZ', 'CDNS', 'CDW', 'CEG', 'CF', 'CFG', 'CG', 'CHD', 'CHRW', 'CHTR', 'CHWY', 'CI', 'CIEN', 'CINF', 'CL', 'CLH', 'CLX', 'CMCSA', 'CME', 'CMG', 'CMI', 'CMS', 'CNA', 'CNC', 'CNM', 'CNP', 'COF', 'COHR', 'COIN', 'COO', 'COP', 'COR', 'COST', 'CPAY', 'CPB', 'CPNG', 'CPRT', 'CPT', 'CQP', 'CRBG', 'CRDO', 'CRM', 'CRS', 'CRWD', 'CRWV', 'CSCO', 'CSGP', 'CSL', 'CSX', 'CTAS', 'CTRA', 'CTSH', 'CTVA', 'CUK', 'CVNA', 'CVS', 'CVX', 'CW', 'D', 'DAL', 'DASH', 'DD', 'DDOG', 'DE', 'DECK', 'DELL', 'DG', 'DGX', 'DHI', 'DHR', 'DIS', 'DKNG', 'DKS', 'DLR', 'DLTR', 'DOC', 'DOCU', 'DOV', 'DOW', 'DPZ', 'DRI', 'DT', 'DTE', 'DTM', 'DUK', 'DUKB', 'DUOL', 'DVA', 'DVN', 'DXCM', 'EA', 'EBAY', 'ECCF', 'ECL', 'ED', 'EFX', 'EHC', 'EIX', 'EL', 'ELS', 'ELV', 'EME', 'EMR', 'ENTG', 'EOG', 'EPAM', 'EPD', 'EQH', 'EQIX', 'EQR', 'EQT', 'ERIE', 'ES', 'ESS', 'ET', 'ETR', 'EVRG', 'EW', 'EWBC', 'EXAS', 'EXC', 'EXE', 'EXEEL', 'EXEEZ', 'EXEL', 'EXPD', 'EXPE', 'EXR', 'F', 'FANG', 'FAST', 'FCNCA', 'FCX', 'FDX', 'FE', 'FFIV', 'FHN', 'FI', 'FICO', 'FIS', 'FITB', 'FITBI', 'FITBO', 'FITBP', 'FIX', 'FNF', 'FOX', 'FOXA', 'FSLR', 'FTAI', 'FTNT', 'FTS', 'FTV', 'FWONA', 'FWONK', 'GAP', 'GD', 'GDDY', 'GE', 'GEHC', 'GEN', 'GEV', 'GFS', 'GGG', 'GILD', 'GIS', 'GLPI', 'GLW', 'GM', 'GME', 'GOOG', 'GOOGL', 'GPC', 'GPN', 'GS', 'GWRE', 'GWW', 'H', 'HAL', 'HBAN', 'HBANL', 'HBANM', 'HBANP', 'HCA', 'HD', 'HEI', 'HES', 'HIG', 'HIMS', 'HLI', 'HLT', 'HOLX', 'HON', 'HOOD', 'HPE', 'HPQ', 'HRL', 'HST', 'HSY', 'HUBB', 'HUBS', 'HUM', 'HWM', 'IBKR', 'IBM', 'ICE', 'IDXX', 'IEX', 'IFF', 'ILMN', 'INCY', 'INSM', 'INTC', 'INTU', 'INVH', 'IONQ', 'IOT', 'IP', 'IQV', 'IR', 'IRM', 'ISRG', 'IT', 'ITT', 'ITW', 'J', 'JBHT', 'JBL', 'JEF', 'JKHY', 'JLL', 'JNJ', 'JNPR', 'JPM', 'K', 'KDP', 'KEY', 'KEYS', 'KHC', 'KIM', 'KKR', 'KKRS', 'KLAC', 'KMB', 'KMI', 'KNSL', 'KO', 'KR', 'KVUE', 'L', 'LAMR', 'LBRDA', 'LBRDK', 'LDOS', 'LECO', 'LEN', 'LH', 'LHX', 'LII', 'LIN', 'LINE', 'LKQ', 'LLY', 'LMT', 'LNG', 'LNT', 'LOGI', 'LOW', 'LPLA', 'LRCX', 'LUV', 'LVS', 'LYV', 'MA', 'MAA', 'MANH', 'MAR', 'MAS', 'MCD', 'MCHP', 'MCHPP', 'MCK', 'MCO', 'MDB', 'MDLZ', 'MDT', 'MET', 'META', 'MKC', 'MKL', 'MLM', 'MMC', 'MMM', 'MNST', 'MO', 'MOH', 'MORN', 'MOS', 'MPC', 'MPLX', 'MPWR', 'MRK', 'MRNA', 'MRVL', 'MS', 'MSCI', 'MSFT', 'MSI', 'MSTR', 'MTB', 'MTZ', 'MU', 'NBIX', 'NDAQ', 'NDSN', 'NEE', 'NEM', 'NET', 'NFLX', 'NI', 'NKE', 'NLY', 'NOC', 'NOW', 'NRG', 'NSC', 'NTAP', 'NTNX', 'NTRA', 'NTRS', 'NUE', 'NVDA', 'NVR', 'NWS', 'NWSA', 'O', 'OC', 'ODFL', 'OHI', 'OKE', 'OKTA', 'OMC', 'ON', 'ORCL', 'ORLY', 'OTIS', 'OWL', 'OXY', 'PAA', 'PAG', 'PANW', 'PARAA', 'PAYC', 'PAYX', 'PCAR', 'PCG', 'PCOR', 'PCTY', 'PEG', 'PEN', 'PEP', 'PFE', 'PFG', 'PFGC', 'PG', 'PGR', 'PH', 'PHM', 'PINS', 'PKG', 'PLD', 'PLTR', 'PM', 'PNC', 'PNW', 'PODD', 'POOL', 'PPC', 'PPG', 'PPL', 'PR', 'PRMB', 'PRU', 'PSA', 'PSTG', 'PSX', 'PTC', 'PWR', 'PYPL', 'QCOM', 'RBC', 'RBLX', 'RBRK', 'RCL', 'RDDT', 'REG', 'REGN', 'RF', 'RGA', 'RGLD', 'RIVN', 'RJF', 'RKLB', 'RKT', 'RL', 'RMD', 'ROK', 'ROKU', 'ROL', 'ROP', 'ROST', 'RPM', 'RPRX', 'RS', 'RSG', 'RTO', 'RTX', 'RVTY', 'RYAN', 'SBAC', 'SBUX', 'SCCO', 'SCHW', 'SCI', 'SE', 'SEIC', 'SFM', 'SGI', 'SHW', 'SJM', 'SLMBP', 'SMCI', 'SN', 'SNA', 'SNAP', 'SNOW', 'SNPS', 'SNX', 'SO', 'SOFI', 'SOJC', 'SOJD', 'SOJE', 'SOLV', 'SPG', 'SPGI', 'SRE', 'SREA', 'SSNC', 'STE', 'STLD', 'STRF', 'STRK', 'STT', 'STZ', 'SUI', 'SWK', 'SWKS', 'SYF', 'SYK', 'SYM', 'SYY', 'T', 'TBB', 'TDG', 'TDY', 'TEM', 'TER', 'TFC', 'TGT', 'THC', 'TJX', 'TKO', 'TLN', 'TME', 'TMO', 'TMUS', 'TOL', 'TOST', 'TPG', 'TPL', 'TPR', 'TRGP', 'TRI', 'TRMB', 'TROW', 'TRU', 'TRV', 'TSCO', 'TSLA', 'TSN', 'TTAN', 'TTD', 'TTWO', 'TW', 'TWLO', 'TXN', 'TXRH', 'TXT', 'TYL', 'UAL', 'UBER', 'UDR', 'UHAL', 'UHS', 'UI', 'ULS', 'ULTA', 'UNH', 'UNM', 'UNP', 'UPS', 'URI', 'USB', 'USFD', 'UTHR', 'V', 'VEEV', 'VICI', 'VIK', 'VLO', 'VLTO', 'VLYPN', 'VLYPO', 'VLYPP', 'VMC', 'VNOM', 'VRSK', 'VRSN', 'VRT', 'VRTX', 'VST', 'VTR', 'WAB', 'WAT', 'WBD', 'WDAY', 'WDC', 'WEC', 'WELL', 'WES', 'WFC', 'WM', 'WMB', 'WMG', 'WMT', 'WPC', 'WRB', 'WSM', 'WSO', 'WST', 'WTRG', 'WWD', 'WY', 'XEL', 'XOM', 'XPO', 'XYL', 'XYZ', 'YUM', 'YUMC', 'Z', 'ZBH', 'ZBRA', 'ZG', 'ZM', 'ZS', 'ZTS']\n"
     ]
    }
   ],
   "source": [
    "# Conteo de simbolos presentes en el historico y generacion de symbols.json\n",
    "\n",
    "import json\n",
    "from pathlib import Path\n",
    "\n",
    "# === Rutas\n",
    "BASE_PATH = Path(\"..\").resolve().parent\n",
    "HISTORIC_DIR = BASE_PATH / \"data\" / \"historic\"\n",
    "CONFIG_PATH = Path(\"config/json/symbols.json\")\n",
    "CONFIG_PATH.parent.mkdir(parents=True, exist_ok=True)\n",
    "\n",
    "# === Extraer simbolos desde nombres de archivo\n",
    "symbolos_detectados = sorted([f.stem.upper() for f in HISTORIC_DIR.glob(\"*.parquet\")])\n",
    "\n",
    "# === Guardar JSON\n",
    "with open(CONFIG_PATH, \"w\") as f:\n",
    "    json.dump({\"simbolos\": symbolos_detectados}, f, indent=4)\n",
    "\n",
    "print(f\"Archivo symbols.json generado con {len(symbolos_detectados)} simbolos:\")\n",
    "print(symbolos_detectados)"
   ]
  },
  {
   "cell_type": "code",
   "execution_count": null,
   "id": "370d7371",
   "metadata": {},
   "outputs": [],
   "source": [
    "!python ../../scripts/core/gen_senales_parallel.py"
   ]
  },
  {
   "cell_type": "code",
   "execution_count": 1,
   "id": "f16840e8",
   "metadata": {},
   "outputs": [
    {
     "name": "stdout",
     "output_type": "stream",
     "text": [
      "Ejecutando backtest: ../../scripts/core/run_backtest_heuristicoV2.py\n",
      "Leyendo archivo de simbolos desde: D:\\trading\\notebooks\\test\\config\\json\\symbols.json\n",
      "Backtest guardado en: D:\\trading\\reports\\backtesting\\bt_heuristicas_2025-05-27.csv\n",
      "Total operaciones: 244413\n",
      "Resumen guardado en: D:\\trading\\reports\\backtesting\\resumen_metricas_2025-05-27.csv\n",
      "Duracion total: 333.05 segundos\n",
      "\n",
      "Duracion total: 0:05:46.192575\n"
     ]
    }
   ],
   "source": [
    "import subprocess\n",
    "from datetime import datetime\n",
    "\n",
    "# === Ejecutar el script\n",
    "ruta_script = \"../../scripts/core/run_backtest_heuristicoV2.py\"\n",
    "print(f\"Ejecutando backtest: {ruta_script}\")\n",
    "inicio = datetime.now()\n",
    "\n",
    "# Subprocess con salida en vivo\n",
    "proceso = subprocess.Popen([\"python\", ruta_script], stdout=subprocess.PIPE, stderr=subprocess.STDOUT, text=True)\n",
    "\n",
    "# Mostrar salida en tiempo real\n",
    "for linea in proceso.stdout:\n",
    "    print(linea.strip())\n",
    "\n",
    "# Confirmar fin\n",
    "fin = datetime.now()\n",
    "print(f\"\\nDuracion total: {fin - inicio}\")"
   ]
  },
  {
   "cell_type": "code",
   "execution_count": 2,
   "id": "c4529d8d",
   "metadata": {},
   "outputs": [
    {
     "name": "stdout",
     "output_type": "stream",
     "text": [
      "Total operaciones: 244413\n",
      "Columnas: ['simbolo', 'estrategia', 'fecha_entry', 'fecha_exit', 'signal', 'entry', 'exit', 'retorno', 'tp_hit', 'sl_hit']\n"
     ]
    },
    {
     "data": {
      "text/html": [
       "<div>\n",
       "<style scoped>\n",
       "    .dataframe tbody tr th:only-of-type {\n",
       "        vertical-align: middle;\n",
       "    }\n",
       "\n",
       "    .dataframe tbody tr th {\n",
       "        vertical-align: top;\n",
       "    }\n",
       "\n",
       "    .dataframe thead th {\n",
       "        text-align: right;\n",
       "    }\n",
       "</style>\n",
       "<table border=\"1\" class=\"dataframe\">\n",
       "  <thead>\n",
       "    <tr style=\"text-align: right;\">\n",
       "      <th></th>\n",
       "      <th>simbolo</th>\n",
       "      <th>estrategia</th>\n",
       "      <th>fecha_entry</th>\n",
       "      <th>fecha_exit</th>\n",
       "      <th>signal</th>\n",
       "      <th>entry</th>\n",
       "      <th>exit</th>\n",
       "      <th>retorno</th>\n",
       "      <th>tp_hit</th>\n",
       "      <th>sl_hit</th>\n",
       "    </tr>\n",
       "  </thead>\n",
       "  <tbody>\n",
       "    <tr>\n",
       "      <th>0</th>\n",
       "      <td>AEP</td>\n",
       "      <td>gap_open_strategy</td>\n",
       "      <td>2006-10-10</td>\n",
       "      <td>2006-10-18</td>\n",
       "      <td>buy</td>\n",
       "      <td>39.31</td>\n",
       "      <td>41.19</td>\n",
       "      <td>0.0478</td>\n",
       "      <td>True</td>\n",
       "      <td>False</td>\n",
       "    </tr>\n",
       "    <tr>\n",
       "      <th>1</th>\n",
       "      <td>AEP</td>\n",
       "      <td>gap_open_strategy</td>\n",
       "      <td>2007-08-06</td>\n",
       "      <td>2007-08-14</td>\n",
       "      <td>buy</td>\n",
       "      <td>46.31</td>\n",
       "      <td>44.93</td>\n",
       "      <td>-0.0298</td>\n",
       "      <td>False</td>\n",
       "      <td>True</td>\n",
       "    </tr>\n",
       "    <tr>\n",
       "      <th>2</th>\n",
       "      <td>AEP</td>\n",
       "      <td>gap_open_strategy</td>\n",
       "      <td>2007-08-09</td>\n",
       "      <td>2007-08-14</td>\n",
       "      <td>sell</td>\n",
       "      <td>46.97</td>\n",
       "      <td>44.93</td>\n",
       "      <td>0.0434</td>\n",
       "      <td>True</td>\n",
       "      <td>False</td>\n",
       "    </tr>\n",
       "  </tbody>\n",
       "</table>\n",
       "</div>"
      ],
      "text/plain": [
       "  simbolo         estrategia fecha_entry fecha_exit signal  entry   exit  \\\n",
       "0     AEP  gap_open_strategy  2006-10-10 2006-10-18    buy  39.31  41.19   \n",
       "1     AEP  gap_open_strategy  2007-08-06 2007-08-14    buy  46.31  44.93   \n",
       "2     AEP  gap_open_strategy  2007-08-09 2007-08-14   sell  46.97  44.93   \n",
       "\n",
       "   retorno  tp_hit  sl_hit  \n",
       "0   0.0478    True   False  \n",
       "1  -0.0298   False    True  \n",
       "2   0.0434    True   False  "
      ]
     },
     "execution_count": 2,
     "metadata": {},
     "output_type": "execute_result"
    }
   ],
   "source": [
    "import pandas as pd\n",
    "from pathlib import Path\n",
    "from datetime import date\n",
    "\n",
    "# Ruta del archivo (ajustar si usás otra fecha)\n",
    "BASE_PATH = Path(\"..\").resolve().parent\n",
    "FECHA = date.today().isoformat()\n",
    "BT_FILE = BASE_PATH / \"reports\" / \"backtesting\" / f\"bt_heuristicas_{FECHA}.csv\"\n",
    "\n",
    "# Cargar archivo\n",
    "df = pd.read_csv(BT_FILE)\n",
    "df[\"fecha_entry\"] = pd.to_datetime(df[\"fecha_entry\"], errors=\"coerce\")\n",
    "df[\"fecha_exit\"] = pd.to_datetime(df[\"fecha_exit\"], errors=\"coerce\")\n",
    "\n",
    "print(f\"Total operaciones: {len(df)}\")\n",
    "print(\"Columnas:\", list(df.columns))\n",
    "df.head(3)\n"
   ]
  },
  {
   "cell_type": "code",
   "execution_count": null,
   "id": "e234b52f",
   "metadata": {},
   "outputs": [],
   "source": []
  }
 ],
 "metadata": {
  "kernelspec": {
   "display_name": "Python 3 (ipykernel)",
   "language": "python",
   "name": "python3"
  },
  "language_info": {
   "codemirror_mode": {
    "name": "ipython",
    "version": 3
   },
   "file_extension": ".py",
   "mimetype": "text/x-python",
   "name": "python",
   "nbconvert_exporter": "python",
   "pygments_lexer": "ipython3",
   "version": "3.11.5"
  }
 },
 "nbformat": 4,
 "nbformat_minor": 5
}
