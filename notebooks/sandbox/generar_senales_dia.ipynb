{
 "cells": [
  {
   "cell_type": "code",
   "execution_count": 1,
   "id": "17e5bf0c-62a6-49a0-b86e-dac542fc3cbe",
   "metadata": {},
   "outputs": [
    {
     "name": "stdout",
     "output_type": "stream",
     "text": [
      "⏭️ Ingesta omitida. Continuando con el proceso...\n"
     ]
    }
   ],
   "source": [
    "from nbconvert.preprocessors import ExecutePreprocessor\n",
    "import nbformat\n",
    "\n",
    "# ✅ Flag de control\n",
    "ejecutar_ingestion = False  # ← cambialo a True si querés ejecutar la ingesta\n",
    "\n",
    "if ejecutar_ingestion:\n",
    "    ruta_ingesta = \"D:/trading/notebooks/sandbox/test_ingestion_Twelve_Data_API.ipynb\"\n",
    "    with open(ruta_ingesta, encoding=\"utf-8\") as f:\n",
    "        nb = nbformat.read(f, as_version=4)\n",
    "\n",
    "    print(\"🚀 Ejecutando notebook de ingesta de datos...\")\n",
    "    ep = ExecutePreprocessor(timeout=600, kernel_name=\"python3\")\n",
    "    ep.preprocess(nb, {\"metadata\": {\"path\": \"D:/trading/notebooks/sandbox\"}})\n",
    "    print(\"✅ Ingesta finalizada.\")\n",
    "else:\n",
    "    print(\"⏭️ Ingesta omitida. Continuando con el proceso...\")\n"
   ]
  },
  {
   "cell_type": "code",
   "execution_count": 2,
   "id": "7f026df8-141c-4361-9c17-324ea5fdea8e",
   "metadata": {},
   "outputs": [],
   "source": [
    "# ✅ Paso 2: Importar dependencias\n",
    "import os\n",
    "import pandas as pd\n",
    "from datetime import datetime\n",
    "from pathlib import Path\n",
    "from importlib import import_module\n",
    "import sys"
   ]
  },
  {
   "cell_type": "code",
   "execution_count": 3,
   "id": "5c612684-267c-4b92-9f5b-d7bef88a479f",
   "metadata": {},
   "outputs": [],
   "source": [
    "# ✅ Paso 3: Configuracion de rutas\n",
    "BASE_DIR = Path(\"D:/trading\")\n",
    "HISTORIC_DIR = BASE_DIR / \"data/historic_reciente\"\n",
    "ESTRATEGIAS_PATH = BASE_DIR / \"my_modules/estrategias\"\n",
    "OUTPUT_PATH = BASE_DIR / \"reports/senales_heuristicas/diarias\"\n",
    "CONFIG_PATH = BASE_DIR / \"config/symbol_groups.json\""
   ]
  },
  {
   "cell_type": "code",
   "execution_count": 4,
   "id": "c33b3943-ade3-4b07-bc04-21ddec7f1fae",
   "metadata": {},
   "outputs": [
    {
     "name": "stdout",
     "output_type": "stream",
     "text": [
      "✅ Estrategia cargada: adx_filter_trend_v4\n",
      "✅ Estrategia cargada: bollinger_breakout_v4\n",
      "✅ Estrategia cargada: breakout_volumen_v4\n",
      "✅ Estrategia cargada: cruce_medias_v4\n",
      "✅ Estrategia cargada: ema_9_21_cruce_v4\n",
      "✅ Estrategia cargada: ema_pullback_v4\n",
      "✅ Estrategia cargada: gap_open_strategy_v4\n"
     ]
    }
   ],
   "source": [
    "# ✅ Paso 4: Cargar estrategias tuneadas\n",
    "desarrollos = {}\n",
    "sys.path.append(str(BASE_DIR))  # para que my_modules sea importable\n",
    "\n",
    "for archivo in os.listdir(ESTRATEGIAS_PATH):\n",
    "    if archivo.endswith(\".py\"):\n",
    "        nombre_modulo = archivo[:-3]\n",
    "        try:\n",
    "            mod = import_module(f\"my_modules.estrategias.{nombre_modulo}\")\n",
    "            desarrollos[nombre_modulo] = mod.generar_senales\n",
    "            print(f\"✅ Estrategia cargada: {nombre_modulo}\")\n",
    "        except Exception as e:\n",
    "            print(f\"❌ No se pudo cargar {nombre_modulo}: {e}\")"
   ]
  },
  {
   "cell_type": "code",
   "execution_count": 5,
   "id": "8300890d-b1e5-4608-a428-99e78e98e451",
   "metadata": {},
   "outputs": [],
   "source": [
    "# ✅ Paso 5: Cargar símbolos\n",
    "grupos = pd.read_json(CONFIG_PATH)\n",
    "simbolos = sorted(set(sum(grupos.values.tolist(), [])))"
   ]
  },
  {
   "cell_type": "code",
   "execution_count": 6,
   "id": "9eea3f6b-5444-40da-b338-d17600669412",
   "metadata": {},
   "outputs": [
    {
     "name": "stderr",
     "output_type": "stream",
     "text": [
      "D:\\trading\\my_modules\\estrategias\\ema_pullback_v4.py:90: FutureWarning: Downcasting object dtype arrays on .fillna, .ffill, .bfill is deprecated and will change in a future version. Call result.infer_objects(copy=False) instead. To opt-in to the future behavior, set `pd.set_option('future.no_silent_downcasting', True)`\n",
      "  df[\"prev_buy\"] = pd.Series(df[\"buy_cond\"].shift(1)).fillna(False).astype(bool)\n"
     ]
    },
    {
     "name": "stdout",
     "output_type": "stream",
     "text": [
      "✅ Señales generadas para AAPL.\n"
     ]
    },
    {
     "name": "stderr",
     "output_type": "stream",
     "text": [
      "D:\\trading\\my_modules\\estrategias\\ema_pullback_v4.py:90: FutureWarning: Downcasting object dtype arrays on .fillna, .ffill, .bfill is deprecated and will change in a future version. Call result.infer_objects(copy=False) instead. To opt-in to the future behavior, set `pd.set_option('future.no_silent_downcasting', True)`\n",
      "  df[\"prev_buy\"] = pd.Series(df[\"buy_cond\"].shift(1)).fillna(False).astype(bool)\n"
     ]
    },
    {
     "name": "stdout",
     "output_type": "stream",
     "text": [
      "✅ Señales generadas para AMD.\n"
     ]
    },
    {
     "name": "stderr",
     "output_type": "stream",
     "text": [
      "D:\\trading\\my_modules\\estrategias\\ema_pullback_v4.py:90: FutureWarning: Downcasting object dtype arrays on .fillna, .ffill, .bfill is deprecated and will change in a future version. Call result.infer_objects(copy=False) instead. To opt-in to the future behavior, set `pd.set_option('future.no_silent_downcasting', True)`\n",
      "  df[\"prev_buy\"] = pd.Series(df[\"buy_cond\"].shift(1)).fillna(False).astype(bool)\n"
     ]
    },
    {
     "name": "stdout",
     "output_type": "stream",
     "text": [
      "✅ Señales generadas para AMZN.\n"
     ]
    },
    {
     "name": "stderr",
     "output_type": "stream",
     "text": [
      "D:\\trading\\my_modules\\estrategias\\ema_pullback_v4.py:90: FutureWarning: Downcasting object dtype arrays on .fillna, .ffill, .bfill is deprecated and will change in a future version. Call result.infer_objects(copy=False) instead. To opt-in to the future behavior, set `pd.set_option('future.no_silent_downcasting', True)`\n",
      "  df[\"prev_buy\"] = pd.Series(df[\"buy_cond\"].shift(1)).fillna(False).astype(bool)\n"
     ]
    },
    {
     "name": "stdout",
     "output_type": "stream",
     "text": [
      "✅ Señales generadas para AVGO.\n"
     ]
    },
    {
     "name": "stderr",
     "output_type": "stream",
     "text": [
      "D:\\trading\\my_modules\\estrategias\\ema_pullback_v4.py:90: FutureWarning: Downcasting object dtype arrays on .fillna, .ffill, .bfill is deprecated and will change in a future version. Call result.infer_objects(copy=False) instead. To opt-in to the future behavior, set `pd.set_option('future.no_silent_downcasting', True)`\n",
      "  df[\"prev_buy\"] = pd.Series(df[\"buy_cond\"].shift(1)).fillna(False).astype(bool)\n"
     ]
    },
    {
     "name": "stdout",
     "output_type": "stream",
     "text": [
      "✅ Señales generadas para BABA.\n"
     ]
    },
    {
     "name": "stderr",
     "output_type": "stream",
     "text": [
      "D:\\trading\\my_modules\\estrategias\\ema_pullback_v4.py:90: FutureWarning: Downcasting object dtype arrays on .fillna, .ffill, .bfill is deprecated and will change in a future version. Call result.infer_objects(copy=False) instead. To opt-in to the future behavior, set `pd.set_option('future.no_silent_downcasting', True)`\n",
      "  df[\"prev_buy\"] = pd.Series(df[\"buy_cond\"].shift(1)).fillna(False).astype(bool)\n"
     ]
    },
    {
     "name": "stdout",
     "output_type": "stream",
     "text": [
      "✅ Señales generadas para BAC.\n"
     ]
    },
    {
     "name": "stderr",
     "output_type": "stream",
     "text": [
      "D:\\trading\\my_modules\\estrategias\\ema_pullback_v4.py:90: FutureWarning: Downcasting object dtype arrays on .fillna, .ffill, .bfill is deprecated and will change in a future version. Call result.infer_objects(copy=False) instead. To opt-in to the future behavior, set `pd.set_option('future.no_silent_downcasting', True)`\n",
      "  df[\"prev_buy\"] = pd.Series(df[\"buy_cond\"].shift(1)).fillna(False).astype(bool)\n"
     ]
    },
    {
     "name": "stdout",
     "output_type": "stream",
     "text": [
      "✅ Señales generadas para CRM.\n"
     ]
    },
    {
     "name": "stderr",
     "output_type": "stream",
     "text": [
      "D:\\trading\\my_modules\\estrategias\\ema_pullback_v4.py:90: FutureWarning: Downcasting object dtype arrays on .fillna, .ffill, .bfill is deprecated and will change in a future version. Call result.infer_objects(copy=False) instead. To opt-in to the future behavior, set `pd.set_option('future.no_silent_downcasting', True)`\n",
      "  df[\"prev_buy\"] = pd.Series(df[\"buy_cond\"].shift(1)).fillna(False).astype(bool)\n"
     ]
    },
    {
     "name": "stdout",
     "output_type": "stream",
     "text": [
      "✅ Señales generadas para CTVA.\n",
      "⚠️ Historico no encontrado para DEL. Saltado.\n"
     ]
    },
    {
     "name": "stderr",
     "output_type": "stream",
     "text": [
      "D:\\trading\\my_modules\\estrategias\\ema_pullback_v4.py:90: FutureWarning: Downcasting object dtype arrays on .fillna, .ffill, .bfill is deprecated and will change in a future version. Call result.infer_objects(copy=False) instead. To opt-in to the future behavior, set `pd.set_option('future.no_silent_downcasting', True)`\n",
      "  df[\"prev_buy\"] = pd.Series(df[\"buy_cond\"].shift(1)).fillna(False).astype(bool)\n"
     ]
    },
    {
     "name": "stdout",
     "output_type": "stream",
     "text": [
      "✅ Señales generadas para DGX.\n"
     ]
    },
    {
     "name": "stderr",
     "output_type": "stream",
     "text": [
      "D:\\trading\\my_modules\\estrategias\\ema_pullback_v4.py:90: FutureWarning: Downcasting object dtype arrays on .fillna, .ffill, .bfill is deprecated and will change in a future version. Call result.infer_objects(copy=False) instead. To opt-in to the future behavior, set `pd.set_option('future.no_silent_downcasting', True)`\n",
      "  df[\"prev_buy\"] = pd.Series(df[\"buy_cond\"].shift(1)).fillna(False).astype(bool)\n"
     ]
    },
    {
     "name": "stdout",
     "output_type": "stream",
     "text": [
      "✅ Señales generadas para ED.\n",
      "⚠️ Historico no encontrado para EQCF. Saltado.\n"
     ]
    },
    {
     "name": "stderr",
     "output_type": "stream",
     "text": [
      "D:\\trading\\my_modules\\estrategias\\ema_pullback_v4.py:90: FutureWarning: Downcasting object dtype arrays on .fillna, .ffill, .bfill is deprecated and will change in a future version. Call result.infer_objects(copy=False) instead. To opt-in to the future behavior, set `pd.set_option('future.no_silent_downcasting', True)`\n",
      "  df[\"prev_buy\"] = pd.Series(df[\"buy_cond\"].shift(1)).fillna(False).astype(bool)\n"
     ]
    },
    {
     "name": "stdout",
     "output_type": "stream",
     "text": [
      "✅ Señales generadas para EQR.\n"
     ]
    },
    {
     "name": "stderr",
     "output_type": "stream",
     "text": [
      "D:\\trading\\my_modules\\estrategias\\ema_pullback_v4.py:90: FutureWarning: Downcasting object dtype arrays on .fillna, .ffill, .bfill is deprecated and will change in a future version. Call result.infer_objects(copy=False) instead. To opt-in to the future behavior, set `pd.set_option('future.no_silent_downcasting', True)`\n",
      "  df[\"prev_buy\"] = pd.Series(df[\"buy_cond\"].shift(1)).fillna(False).astype(bool)\n"
     ]
    },
    {
     "name": "stdout",
     "output_type": "stream",
     "text": [
      "✅ Señales generadas para EXE.\n"
     ]
    },
    {
     "name": "stderr",
     "output_type": "stream",
     "text": [
      "D:\\trading\\my_modules\\estrategias\\ema_pullback_v4.py:90: FutureWarning: Downcasting object dtype arrays on .fillna, .ffill, .bfill is deprecated and will change in a future version. Call result.infer_objects(copy=False) instead. To opt-in to the future behavior, set `pd.set_option('future.no_silent_downcasting', True)`\n",
      "  df[\"prev_buy\"] = pd.Series(df[\"buy_cond\"].shift(1)).fillna(False).astype(bool)\n"
     ]
    },
    {
     "name": "stdout",
     "output_type": "stream",
     "text": [
      "✅ Señales generadas para F.\n"
     ]
    },
    {
     "name": "stderr",
     "output_type": "stream",
     "text": [
      "D:\\trading\\my_modules\\estrategias\\ema_pullback_v4.py:90: FutureWarning: Downcasting object dtype arrays on .fillna, .ffill, .bfill is deprecated and will change in a future version. Call result.infer_objects(copy=False) instead. To opt-in to the future behavior, set `pd.set_option('future.no_silent_downcasting', True)`\n",
      "  df[\"prev_buy\"] = pd.Series(df[\"buy_cond\"].shift(1)).fillna(False).astype(bool)\n"
     ]
    },
    {
     "name": "stdout",
     "output_type": "stream",
     "text": [
      "✅ Señales generadas para FITBO.\n"
     ]
    },
    {
     "name": "stderr",
     "output_type": "stream",
     "text": [
      "D:\\trading\\my_modules\\estrategias\\ema_pullback_v4.py:90: FutureWarning: Downcasting object dtype arrays on .fillna, .ffill, .bfill is deprecated and will change in a future version. Call result.infer_objects(copy=False) instead. To opt-in to the future behavior, set `pd.set_option('future.no_silent_downcasting', True)`\n",
      "  df[\"prev_buy\"] = pd.Series(df[\"buy_cond\"].shift(1)).fillna(False).astype(bool)\n"
     ]
    },
    {
     "name": "stdout",
     "output_type": "stream",
     "text": [
      "✅ Señales generadas para FWONA.\n"
     ]
    },
    {
     "name": "stderr",
     "output_type": "stream",
     "text": [
      "D:\\trading\\my_modules\\estrategias\\ema_pullback_v4.py:90: FutureWarning: Downcasting object dtype arrays on .fillna, .ffill, .bfill is deprecated and will change in a future version. Call result.infer_objects(copy=False) instead. To opt-in to the future behavior, set `pd.set_option('future.no_silent_downcasting', True)`\n",
      "  df[\"prev_buy\"] = pd.Series(df[\"buy_cond\"].shift(1)).fillna(False).astype(bool)\n"
     ]
    },
    {
     "name": "stdout",
     "output_type": "stream",
     "text": [
      "✅ Señales generadas para GOOGL.\n"
     ]
    },
    {
     "name": "stderr",
     "output_type": "stream",
     "text": [
      "D:\\trading\\my_modules\\estrategias\\ema_pullback_v4.py:90: FutureWarning: Downcasting object dtype arrays on .fillna, .ffill, .bfill is deprecated and will change in a future version. Call result.infer_objects(copy=False) instead. To opt-in to the future behavior, set `pd.set_option('future.no_silent_downcasting', True)`\n",
      "  df[\"prev_buy\"] = pd.Series(df[\"buy_cond\"].shift(1)).fillna(False).astype(bool)\n"
     ]
    },
    {
     "name": "stdout",
     "output_type": "stream",
     "text": [
      "✅ Señales generadas para HBANL.\n"
     ]
    },
    {
     "name": "stderr",
     "output_type": "stream",
     "text": [
      "D:\\trading\\my_modules\\estrategias\\ema_pullback_v4.py:90: FutureWarning: Downcasting object dtype arrays on .fillna, .ffill, .bfill is deprecated and will change in a future version. Call result.infer_objects(copy=False) instead. To opt-in to the future behavior, set `pd.set_option('future.no_silent_downcasting', True)`\n",
      "  df[\"prev_buy\"] = pd.Series(df[\"buy_cond\"].shift(1)).fillna(False).astype(bool)\n"
     ]
    },
    {
     "name": "stdout",
     "output_type": "stream",
     "text": [
      "✅ Señales generadas para HBANM.\n"
     ]
    },
    {
     "name": "stderr",
     "output_type": "stream",
     "text": [
      "D:\\trading\\my_modules\\estrategias\\ema_pullback_v4.py:90: FutureWarning: Downcasting object dtype arrays on .fillna, .ffill, .bfill is deprecated and will change in a future version. Call result.infer_objects(copy=False) instead. To opt-in to the future behavior, set `pd.set_option('future.no_silent_downcasting', True)`\n",
      "  df[\"prev_buy\"] = pd.Series(df[\"buy_cond\"].shift(1)).fillna(False).astype(bool)\n"
     ]
    },
    {
     "name": "stdout",
     "output_type": "stream",
     "text": [
      "✅ Señales generadas para HBANP.\n"
     ]
    },
    {
     "name": "stderr",
     "output_type": "stream",
     "text": [
      "D:\\trading\\my_modules\\estrategias\\ema_pullback_v4.py:90: FutureWarning: Downcasting object dtype arrays on .fillna, .ffill, .bfill is deprecated and will change in a future version. Call result.infer_objects(copy=False) instead. To opt-in to the future behavior, set `pd.set_option('future.no_silent_downcasting', True)`\n",
      "  df[\"prev_buy\"] = pd.Series(df[\"buy_cond\"].shift(1)).fillna(False).astype(bool)\n"
     ]
    },
    {
     "name": "stdout",
     "output_type": "stream",
     "text": [
      "✅ Señales generadas para HIMS.\n"
     ]
    },
    {
     "name": "stderr",
     "output_type": "stream",
     "text": [
      "D:\\trading\\my_modules\\estrategias\\ema_pullback_v4.py:90: FutureWarning: Downcasting object dtype arrays on .fillna, .ffill, .bfill is deprecated and will change in a future version. Call result.infer_objects(copy=False) instead. To opt-in to the future behavior, set `pd.set_option('future.no_silent_downcasting', True)`\n",
      "  df[\"prev_buy\"] = pd.Series(df[\"buy_cond\"].shift(1)).fillna(False).astype(bool)\n"
     ]
    },
    {
     "name": "stdout",
     "output_type": "stream",
     "text": [
      "✅ Señales generadas para HOOD.\n"
     ]
    },
    {
     "name": "stderr",
     "output_type": "stream",
     "text": [
      "D:\\trading\\my_modules\\estrategias\\ema_pullback_v4.py:90: FutureWarning: Downcasting object dtype arrays on .fillna, .ffill, .bfill is deprecated and will change in a future version. Call result.infer_objects(copy=False) instead. To opt-in to the future behavior, set `pd.set_option('future.no_silent_downcasting', True)`\n",
      "  df[\"prev_buy\"] = pd.Series(df[\"buy_cond\"].shift(1)).fillna(False).astype(bool)\n"
     ]
    },
    {
     "name": "stdout",
     "output_type": "stream",
     "text": [
      "✅ Señales generadas para INTC.\n"
     ]
    },
    {
     "name": "stderr",
     "output_type": "stream",
     "text": [
      "D:\\trading\\my_modules\\estrategias\\ema_pullback_v4.py:90: FutureWarning: Downcasting object dtype arrays on .fillna, .ffill, .bfill is deprecated and will change in a future version. Call result.infer_objects(copy=False) instead. To opt-in to the future behavior, set `pd.set_option('future.no_silent_downcasting', True)`\n",
      "  df[\"prev_buy\"] = pd.Series(df[\"buy_cond\"].shift(1)).fillna(False).astype(bool)\n"
     ]
    },
    {
     "name": "stdout",
     "output_type": "stream",
     "text": [
      "✅ Señales generadas para JPM.\n"
     ]
    },
    {
     "name": "stderr",
     "output_type": "stream",
     "text": [
      "D:\\trading\\my_modules\\estrategias\\ema_pullback_v4.py:90: FutureWarning: Downcasting object dtype arrays on .fillna, .ffill, .bfill is deprecated and will change in a future version. Call result.infer_objects(copy=False) instead. To opt-in to the future behavior, set `pd.set_option('future.no_silent_downcasting', True)`\n",
      "  df[\"prev_buy\"] = pd.Series(df[\"buy_cond\"].shift(1)).fillna(False).astype(bool)\n"
     ]
    },
    {
     "name": "stdout",
     "output_type": "stream",
     "text": [
      "✅ Señales generadas para KHC.\n"
     ]
    },
    {
     "name": "stderr",
     "output_type": "stream",
     "text": [
      "D:\\trading\\my_modules\\estrategias\\ema_pullback_v4.py:90: FutureWarning: Downcasting object dtype arrays on .fillna, .ffill, .bfill is deprecated and will change in a future version. Call result.infer_objects(copy=False) instead. To opt-in to the future behavior, set `pd.set_option('future.no_silent_downcasting', True)`\n",
      "  df[\"prev_buy\"] = pd.Series(df[\"buy_cond\"].shift(1)).fillna(False).astype(bool)\n"
     ]
    },
    {
     "name": "stdout",
     "output_type": "stream",
     "text": [
      "✅ Señales generadas para LLY.\n"
     ]
    },
    {
     "name": "stderr",
     "output_type": "stream",
     "text": [
      "D:\\trading\\my_modules\\estrategias\\ema_pullback_v4.py:90: FutureWarning: Downcasting object dtype arrays on .fillna, .ffill, .bfill is deprecated and will change in a future version. Call result.infer_objects(copy=False) instead. To opt-in to the future behavior, set `pd.set_option('future.no_silent_downcasting', True)`\n",
      "  df[\"prev_buy\"] = pd.Series(df[\"buy_cond\"].shift(1)).fillna(False).astype(bool)\n"
     ]
    },
    {
     "name": "stdout",
     "output_type": "stream",
     "text": [
      "✅ Señales generadas para MCHPP.\n"
     ]
    },
    {
     "name": "stderr",
     "output_type": "stream",
     "text": [
      "D:\\trading\\my_modules\\estrategias\\ema_pullback_v4.py:90: FutureWarning: Downcasting object dtype arrays on .fillna, .ffill, .bfill is deprecated and will change in a future version. Call result.infer_objects(copy=False) instead. To opt-in to the future behavior, set `pd.set_option('future.no_silent_downcasting', True)`\n",
      "  df[\"prev_buy\"] = pd.Series(df[\"buy_cond\"].shift(1)).fillna(False).astype(bool)\n"
     ]
    },
    {
     "name": "stdout",
     "output_type": "stream",
     "text": [
      "✅ Señales generadas para META.\n"
     ]
    },
    {
     "name": "stderr",
     "output_type": "stream",
     "text": [
      "D:\\trading\\my_modules\\estrategias\\ema_pullback_v4.py:90: FutureWarning: Downcasting object dtype arrays on .fillna, .ffill, .bfill is deprecated and will change in a future version. Call result.infer_objects(copy=False) instead. To opt-in to the future behavior, set `pd.set_option('future.no_silent_downcasting', True)`\n",
      "  df[\"prev_buy\"] = pd.Series(df[\"buy_cond\"].shift(1)).fillna(False).astype(bool)\n"
     ]
    },
    {
     "name": "stdout",
     "output_type": "stream",
     "text": [
      "✅ Señales generadas para MRK.\n"
     ]
    },
    {
     "name": "stderr",
     "output_type": "stream",
     "text": [
      "D:\\trading\\my_modules\\estrategias\\ema_pullback_v4.py:90: FutureWarning: Downcasting object dtype arrays on .fillna, .ffill, .bfill is deprecated and will change in a future version. Call result.infer_objects(copy=False) instead. To opt-in to the future behavior, set `pd.set_option('future.no_silent_downcasting', True)`\n",
      "  df[\"prev_buy\"] = pd.Series(df[\"buy_cond\"].shift(1)).fillna(False).astype(bool)\n"
     ]
    },
    {
     "name": "stdout",
     "output_type": "stream",
     "text": [
      "✅ Señales generadas para MSFT.\n"
     ]
    },
    {
     "name": "stderr",
     "output_type": "stream",
     "text": [
      "D:\\trading\\my_modules\\estrategias\\ema_pullback_v4.py:90: FutureWarning: Downcasting object dtype arrays on .fillna, .ffill, .bfill is deprecated and will change in a future version. Call result.infer_objects(copy=False) instead. To opt-in to the future behavior, set `pd.set_option('future.no_silent_downcasting', True)`\n",
      "  df[\"prev_buy\"] = pd.Series(df[\"buy_cond\"].shift(1)).fillna(False).astype(bool)\n"
     ]
    },
    {
     "name": "stdout",
     "output_type": "stream",
     "text": [
      "✅ Señales generadas para NIO.\n"
     ]
    },
    {
     "name": "stderr",
     "output_type": "stream",
     "text": [
      "D:\\trading\\my_modules\\estrategias\\ema_pullback_v4.py:90: FutureWarning: Downcasting object dtype arrays on .fillna, .ffill, .bfill is deprecated and will change in a future version. Call result.infer_objects(copy=False) instead. To opt-in to the future behavior, set `pd.set_option('future.no_silent_downcasting', True)`\n",
      "  df[\"prev_buy\"] = pd.Series(df[\"buy_cond\"].shift(1)).fillna(False).astype(bool)\n"
     ]
    },
    {
     "name": "stdout",
     "output_type": "stream",
     "text": [
      "✅ Señales generadas para NKE.\n"
     ]
    },
    {
     "name": "stderr",
     "output_type": "stream",
     "text": [
      "D:\\trading\\my_modules\\estrategias\\ema_pullback_v4.py:90: FutureWarning: Downcasting object dtype arrays on .fillna, .ffill, .bfill is deprecated and will change in a future version. Call result.infer_objects(copy=False) instead. To opt-in to the future behavior, set `pd.set_option('future.no_silent_downcasting', True)`\n",
      "  df[\"prev_buy\"] = pd.Series(df[\"buy_cond\"].shift(1)).fillna(False).astype(bool)\n"
     ]
    },
    {
     "name": "stdout",
     "output_type": "stream",
     "text": [
      "✅ Señales generadas para NVDA.\n"
     ]
    },
    {
     "name": "stderr",
     "output_type": "stream",
     "text": [
      "D:\\trading\\my_modules\\estrategias\\ema_pullback_v4.py:90: FutureWarning: Downcasting object dtype arrays on .fillna, .ffill, .bfill is deprecated and will change in a future version. Call result.infer_objects(copy=False) instead. To opt-in to the future behavior, set `pd.set_option('future.no_silent_downcasting', True)`\n",
      "  df[\"prev_buy\"] = pd.Series(df[\"buy_cond\"].shift(1)).fillna(False).astype(bool)\n"
     ]
    },
    {
     "name": "stdout",
     "output_type": "stream",
     "text": [
      "✅ Señales generadas para ORCL.\n"
     ]
    },
    {
     "name": "stderr",
     "output_type": "stream",
     "text": [
      "D:\\trading\\my_modules\\estrategias\\ema_pullback_v4.py:90: FutureWarning: Downcasting object dtype arrays on .fillna, .ffill, .bfill is deprecated and will change in a future version. Call result.infer_objects(copy=False) instead. To opt-in to the future behavior, set `pd.set_option('future.no_silent_downcasting', True)`\n",
      "  df[\"prev_buy\"] = pd.Series(df[\"buy_cond\"].shift(1)).fillna(False).astype(bool)\n"
     ]
    },
    {
     "name": "stdout",
     "output_type": "stream",
     "text": [
      "✅ Señales generadas para PFE.\n"
     ]
    },
    {
     "name": "stderr",
     "output_type": "stream",
     "text": [
      "D:\\trading\\my_modules\\estrategias\\ema_pullback_v4.py:90: FutureWarning: Downcasting object dtype arrays on .fillna, .ffill, .bfill is deprecated and will change in a future version. Call result.infer_objects(copy=False) instead. To opt-in to the future behavior, set `pd.set_option('future.no_silent_downcasting', True)`\n",
      "  df[\"prev_buy\"] = pd.Series(df[\"buy_cond\"].shift(1)).fillna(False).astype(bool)\n"
     ]
    },
    {
     "name": "stdout",
     "output_type": "stream",
     "text": [
      "✅ Señales generadas para PLTR.\n"
     ]
    },
    {
     "name": "stderr",
     "output_type": "stream",
     "text": [
      "D:\\trading\\my_modules\\estrategias\\ema_pullback_v4.py:90: FutureWarning: Downcasting object dtype arrays on .fillna, .ffill, .bfill is deprecated and will change in a future version. Call result.infer_objects(copy=False) instead. To opt-in to the future behavior, set `pd.set_option('future.no_silent_downcasting', True)`\n",
      "  df[\"prev_buy\"] = pd.Series(df[\"buy_cond\"].shift(1)).fillna(False).astype(bool)\n"
     ]
    },
    {
     "name": "stdout",
     "output_type": "stream",
     "text": [
      "✅ Señales generadas para RPRX.\n"
     ]
    },
    {
     "name": "stderr",
     "output_type": "stream",
     "text": [
      "D:\\trading\\my_modules\\estrategias\\ema_pullback_v4.py:90: FutureWarning: Downcasting object dtype arrays on .fillna, .ffill, .bfill is deprecated and will change in a future version. Call result.infer_objects(copy=False) instead. To opt-in to the future behavior, set `pd.set_option('future.no_silent_downcasting', True)`\n",
      "  df[\"prev_buy\"] = pd.Series(df[\"buy_cond\"].shift(1)).fillna(False).astype(bool)\n"
     ]
    },
    {
     "name": "stdout",
     "output_type": "stream",
     "text": [
      "✅ Señales generadas para SKX.\n"
     ]
    },
    {
     "name": "stderr",
     "output_type": "stream",
     "text": [
      "D:\\trading\\my_modules\\estrategias\\ema_pullback_v4.py:90: FutureWarning: Downcasting object dtype arrays on .fillna, .ffill, .bfill is deprecated and will change in a future version. Call result.infer_objects(copy=False) instead. To opt-in to the future behavior, set `pd.set_option('future.no_silent_downcasting', True)`\n",
      "  df[\"prev_buy\"] = pd.Series(df[\"buy_cond\"].shift(1)).fillna(False).astype(bool)\n"
     ]
    },
    {
     "name": "stdout",
     "output_type": "stream",
     "text": [
      "✅ Señales generadas para SMCI.\n"
     ]
    },
    {
     "name": "stderr",
     "output_type": "stream",
     "text": [
      "D:\\trading\\my_modules\\estrategias\\ema_pullback_v4.py:90: FutureWarning: Downcasting object dtype arrays on .fillna, .ffill, .bfill is deprecated and will change in a future version. Call result.infer_objects(copy=False) instead. To opt-in to the future behavior, set `pd.set_option('future.no_silent_downcasting', True)`\n",
      "  df[\"prev_buy\"] = pd.Series(df[\"buy_cond\"].shift(1)).fillna(False).astype(bool)\n"
     ]
    },
    {
     "name": "stdout",
     "output_type": "stream",
     "text": [
      "✅ Señales generadas para SOJC.\n"
     ]
    },
    {
     "name": "stderr",
     "output_type": "stream",
     "text": [
      "D:\\trading\\my_modules\\estrategias\\ema_pullback_v4.py:90: FutureWarning: Downcasting object dtype arrays on .fillna, .ffill, .bfill is deprecated and will change in a future version. Call result.infer_objects(copy=False) instead. To opt-in to the future behavior, set `pd.set_option('future.no_silent_downcasting', True)`\n",
      "  df[\"prev_buy\"] = pd.Series(df[\"buy_cond\"].shift(1)).fillna(False).astype(bool)\n"
     ]
    },
    {
     "name": "stdout",
     "output_type": "stream",
     "text": [
      "✅ Señales generadas para TBB.\n"
     ]
    },
    {
     "name": "stderr",
     "output_type": "stream",
     "text": [
      "D:\\trading\\my_modules\\estrategias\\ema_pullback_v4.py:90: FutureWarning: Downcasting object dtype arrays on .fillna, .ffill, .bfill is deprecated and will change in a future version. Call result.infer_objects(copy=False) instead. To opt-in to the future behavior, set `pd.set_option('future.no_silent_downcasting', True)`\n",
      "  df[\"prev_buy\"] = pd.Series(df[\"buy_cond\"].shift(1)).fillna(False).astype(bool)\n"
     ]
    },
    {
     "name": "stdout",
     "output_type": "stream",
     "text": [
      "✅ Señales generadas para TMO.\n"
     ]
    },
    {
     "name": "stderr",
     "output_type": "stream",
     "text": [
      "D:\\trading\\my_modules\\estrategias\\ema_pullback_v4.py:90: FutureWarning: Downcasting object dtype arrays on .fillna, .ffill, .bfill is deprecated and will change in a future version. Call result.infer_objects(copy=False) instead. To opt-in to the future behavior, set `pd.set_option('future.no_silent_downcasting', True)`\n",
      "  df[\"prev_buy\"] = pd.Series(df[\"buy_cond\"].shift(1)).fillna(False).astype(bool)\n"
     ]
    },
    {
     "name": "stdout",
     "output_type": "stream",
     "text": [
      "✅ Señales generadas para TSLA.\n"
     ]
    },
    {
     "name": "stderr",
     "output_type": "stream",
     "text": [
      "D:\\trading\\my_modules\\estrategias\\ema_pullback_v4.py:90: FutureWarning: Downcasting object dtype arrays on .fillna, .ffill, .bfill is deprecated and will change in a future version. Call result.infer_objects(copy=False) instead. To opt-in to the future behavior, set `pd.set_option('future.no_silent_downcasting', True)`\n",
      "  df[\"prev_buy\"] = pd.Series(df[\"buy_cond\"].shift(1)).fillna(False).astype(bool)\n"
     ]
    },
    {
     "name": "stdout",
     "output_type": "stream",
     "text": [
      "✅ Señales generadas para TSM.\n"
     ]
    },
    {
     "name": "stderr",
     "output_type": "stream",
     "text": [
      "D:\\trading\\my_modules\\estrategias\\ema_pullback_v4.py:90: FutureWarning: Downcasting object dtype arrays on .fillna, .ffill, .bfill is deprecated and will change in a future version. Call result.infer_objects(copy=False) instead. To opt-in to the future behavior, set `pd.set_option('future.no_silent_downcasting', True)`\n",
      "  df[\"prev_buy\"] = pd.Series(df[\"buy_cond\"].shift(1)).fillna(False).astype(bool)\n"
     ]
    },
    {
     "name": "stdout",
     "output_type": "stream",
     "text": [
      "✅ Señales generadas para UBER.\n"
     ]
    },
    {
     "name": "stderr",
     "output_type": "stream",
     "text": [
      "D:\\trading\\my_modules\\estrategias\\ema_pullback_v4.py:90: FutureWarning: Downcasting object dtype arrays on .fillna, .ffill, .bfill is deprecated and will change in a future version. Call result.infer_objects(copy=False) instead. To opt-in to the future behavior, set `pd.set_option('future.no_silent_downcasting', True)`\n",
      "  df[\"prev_buy\"] = pd.Series(df[\"buy_cond\"].shift(1)).fillna(False).astype(bool)\n"
     ]
    },
    {
     "name": "stdout",
     "output_type": "stream",
     "text": [
      "✅ Señales generadas para V.\n"
     ]
    },
    {
     "name": "stderr",
     "output_type": "stream",
     "text": [
      "D:\\trading\\my_modules\\estrategias\\ema_pullback_v4.py:90: FutureWarning: Downcasting object dtype arrays on .fillna, .ffill, .bfill is deprecated and will change in a future version. Call result.infer_objects(copy=False) instead. To opt-in to the future behavior, set `pd.set_option('future.no_silent_downcasting', True)`\n",
      "  df[\"prev_buy\"] = pd.Series(df[\"buy_cond\"].shift(1)).fillna(False).astype(bool)\n"
     ]
    },
    {
     "name": "stdout",
     "output_type": "stream",
     "text": [
      "✅ Señales generadas para WFC.\n"
     ]
    },
    {
     "name": "stderr",
     "output_type": "stream",
     "text": [
      "D:\\trading\\my_modules\\estrategias\\ema_pullback_v4.py:90: FutureWarning: Downcasting object dtype arrays on .fillna, .ffill, .bfill is deprecated and will change in a future version. Call result.infer_objects(copy=False) instead. To opt-in to the future behavior, set `pd.set_option('future.no_silent_downcasting', True)`\n",
      "  df[\"prev_buy\"] = pd.Series(df[\"buy_cond\"].shift(1)).fillna(False).astype(bool)\n"
     ]
    },
    {
     "name": "stdout",
     "output_type": "stream",
     "text": [
      "✅ Señales generadas para WMT.\n"
     ]
    },
    {
     "name": "stderr",
     "output_type": "stream",
     "text": [
      "D:\\trading\\my_modules\\estrategias\\ema_pullback_v4.py:90: FutureWarning: Downcasting object dtype arrays on .fillna, .ffill, .bfill is deprecated and will change in a future version. Call result.infer_objects(copy=False) instead. To opt-in to the future behavior, set `pd.set_option('future.no_silent_downcasting', True)`\n",
      "  df[\"prev_buy\"] = pd.Series(df[\"buy_cond\"].shift(1)).fillna(False).astype(bool)\n"
     ]
    },
    {
     "name": "stdout",
     "output_type": "stream",
     "text": [
      "✅ Señales generadas para XOM.\n"
     ]
    }
   ],
   "source": [
    "from datetime import date\n",
    "\n",
    "# ✅ Paso 6: Procesar cada símbolo\n",
    "OUTPUT_PATH.mkdir(parents=True, exist_ok=True)\n",
    "\n",
    "for simbolo in simbolos:\n",
    "    archivo = HISTORIC_DIR / f\"{simbolo}.parquet\"\n",
    "    if not archivo.exists():\n",
    "        print(f\"⚠️ Historico no encontrado para {simbolo}. Saltado.\")\n",
    "        continue\n",
    "\n",
    "    try:\n",
    "        df = pd.read_parquet(archivo)\n",
    "        if df.empty or \"fecha\" not in df.columns:\n",
    "            print(f\"⚠️ Historico invalido para {simbolo}.\")\n",
    "            continue\n",
    "\n",
    "        df[\"fecha\"] = pd.to_datetime(df[\"fecha\"])\n",
    "        df = df[df[\"fecha\"] < pd.Timestamp.today()]  # ← 💡 filtra posibles datos parciales de hoy\n",
    "        if df.empty:\n",
    "            print(f\"⚠️ No hay datos previos a hoy para {simbolo}.\")\n",
    "            continue\n",
    "\n",
    "        ultima_fecha = df[\"fecha\"].max()\n",
    "\n",
    "        resultados = []\n",
    "        for nombre_est, funcion in desarrollos.items():\n",
    "            try:\n",
    "                df_out = funcion(df.copy())\n",
    "                if df_out is not None and not df_out.empty:\n",
    "                    df_out[\"fecha\"] = pd.to_datetime(df_out[\"fecha\"])\n",
    "                    df_out = df_out[df_out[\"fecha\"] == ultima_fecha]\n",
    "                    if not df_out.empty:\n",
    "                        df_out[\"simbolo\"] = simbolo\n",
    "                        df_out[\"estrategia\"] = nombre_est\n",
    "                        resultados.append(df_out)\n",
    "            except Exception as e:\n",
    "                print(f\"❌ {nombre_est} falló con {simbolo}: {e}\")\n",
    "\n",
    "        if resultados:\n",
    "            df_final = pd.concat(resultados)\n",
    "            df_final = df_final.sort_values(\"fecha\")\n",
    "            df_final.to_csv(OUTPUT_PATH / f\"{simbolo}_senales_diarias.csv\", index=False)\n",
    "            print(f\"✅ Señales generadas para {simbolo}.\")\n",
    "        else:\n",
    "            print(f\"⏭️ No hubo señales para {simbolo}.\")\n",
    "\n",
    "    except Exception as e:\n",
    "        print(f\"❌ Error general con {simbolo}: {e}\")"
   ]
  },
  {
   "cell_type": "code",
   "execution_count": 7,
   "id": "e9285fc1-92b2-4d8a-92f8-5b2fe4084f32",
   "metadata": {},
   "outputs": [
    {
     "name": "stdout",
     "output_type": "stream",
     "text": [
      "📈 Símbolos con señal BUY:\n"
     ]
    },
    {
     "data": {
      "text/plain": [
       "['AMD',\n",
       " 'AMZN',\n",
       " 'AVGO',\n",
       " 'BAC',\n",
       " 'CTVA',\n",
       " 'DGX',\n",
       " 'EQR',\n",
       " 'EXE',\n",
       " 'FWONA',\n",
       " 'GOOGL',\n",
       " 'HIMS',\n",
       " 'HOOD',\n",
       " 'JPM',\n",
       " 'LLY',\n",
       " 'MCHPP',\n",
       " 'META',\n",
       " 'MSFT',\n",
       " 'NKE',\n",
       " 'NVDA',\n",
       " 'ORCL',\n",
       " 'PFE',\n",
       " 'PLTR',\n",
       " 'RPRX',\n",
       " 'SKX',\n",
       " 'SMCI',\n",
       " 'TSLA',\n",
       " 'TSM',\n",
       " 'UBER',\n",
       " 'V',\n",
       " 'WFC',\n",
       " 'WMT']"
      ]
     },
     "metadata": {},
     "output_type": "display_data"
    },
    {
     "name": "stdout",
     "output_type": "stream",
     "text": [
      "\n",
      "📉 Símbolos con señal SELL:\n"
     ]
    },
    {
     "data": {
      "text/plain": [
       "['AAPL',\n",
       " 'BABA',\n",
       " 'CRM',\n",
       " 'DGX',\n",
       " 'ED',\n",
       " 'EQR',\n",
       " 'F',\n",
       " 'FITBO',\n",
       " 'HBANL',\n",
       " 'HBANM',\n",
       " 'HBANP',\n",
       " 'INTC',\n",
       " 'KHC',\n",
       " 'LLY',\n",
       " 'MRK',\n",
       " 'NIO',\n",
       " 'RPRX',\n",
       " 'SOJC',\n",
       " 'TBB',\n",
       " 'TMO',\n",
       " 'UBER',\n",
       " 'XOM']"
      ]
     },
     "metadata": {},
     "output_type": "display_data"
    }
   ],
   "source": [
    "\n",
    "# === Ruta de señales heurísticas ===\n",
    "OUTPUT_PATH = Path(\"D:/trading/reports/senales_heuristicas/diarias\")\n",
    "\n",
    "# === Cargar todas las señales en un único DataFrame ===\n",
    "df_lista = []\n",
    "for archivo in OUTPUT_PATH.glob(\"*.csv\"):\n",
    "    try:\n",
    "        df = pd.read_csv(archivo)\n",
    "        if \"simbolo\" in df.columns and \"signal\" in df.columns:\n",
    "            df_lista.append(df)\n",
    "    except Exception as e:\n",
    "        print(f\"❌ Error al leer {archivo.name}: {e}\")\n",
    "\n",
    "if not df_lista:\n",
    "    print(\"⚠️ No se encontraron señales.\")\n",
    "else:\n",
    "    df_all = pd.concat(df_lista).dropna(subset=[\"signal\"])\n",
    "    df_all[\"signal\"] = df_all[\"signal\"].str.lower().str.strip()\n",
    "\n",
    "    # Clasificación por símbolo\n",
    "    resumen = df_all.groupby(\"simbolo\")[\"signal\"].apply(lambda s: set(s)).reset_index()\n",
    "    resumen[\"buy\"] = resumen[\"signal\"].apply(lambda x: \"buy\" in x)\n",
    "    resumen[\"sell\"] = resumen[\"signal\"].apply(lambda x: \"sell\" in x)\n",
    "    resumen[\"hold_only\"] = resumen[\"signal\"].apply(lambda x: x == {\"hold\"})\n",
    "\n",
    "    # Reporte\n",
    "    print(\"📈 Símbolos con señal BUY:\")\n",
    "    display(resumen[resumen[\"buy\"]][\"simbolo\"].tolist())\n",
    "\n",
    "    print(\"\\n📉 Símbolos con señal SELL:\")\n",
    "    display(resumen[resumen[\"sell\"]][\"simbolo\"].tolist())\n",
    "\n",
    "#    print(\"\\n🤝 Símbolos con solo HOLD:\")\n",
    "#    display(resumen[resumen[\"hold_only\"]][\"simbolo\"].tolist())\n"
   ]
  },
  {
   "cell_type": "code",
   "execution_count": 8,
   "id": "675106b7-957f-4bc6-91b3-53436c11e54e",
   "metadata": {},
   "outputs": [
    {
     "data": {
      "text/html": [
       "<div>\n",
       "<style scoped>\n",
       "    .dataframe tbody tr th:only-of-type {\n",
       "        vertical-align: middle;\n",
       "    }\n",
       "\n",
       "    .dataframe tbody tr th {\n",
       "        vertical-align: top;\n",
       "    }\n",
       "\n",
       "    .dataframe thead th {\n",
       "        text-align: right;\n",
       "    }\n",
       "</style>\n",
       "<table border=\"1\" class=\"dataframe\">\n",
       "  <thead>\n",
       "    <tr style=\"text-align: right;\">\n",
       "      <th></th>\n",
       "      <th>simbolo</th>\n",
       "      <th>Estrategias BUY</th>\n",
       "      <th>Estrategias SELL</th>\n",
       "    </tr>\n",
       "  </thead>\n",
       "  <tbody>\n",
       "    <tr>\n",
       "      <th>0</th>\n",
       "      <td>AAPL</td>\n",
       "      <td></td>\n",
       "      <td>adx_filter_trend_v4, ema_9_21_cruce_v4</td>\n",
       "    </tr>\n",
       "    <tr>\n",
       "      <th>1</th>\n",
       "      <td>AMD</td>\n",
       "      <td>adx_filter_trend_v4, ema_9_21_cruce_v4</td>\n",
       "      <td></td>\n",
       "    </tr>\n",
       "    <tr>\n",
       "      <th>2</th>\n",
       "      <td>AMZN</td>\n",
       "      <td>adx_filter_trend_v4, ema_9_21_cruce_v4</td>\n",
       "      <td></td>\n",
       "    </tr>\n",
       "    <tr>\n",
       "      <th>3</th>\n",
       "      <td>AVGO</td>\n",
       "      <td>adx_filter_trend_v4, breakout_volumen_v4, ema_...</td>\n",
       "      <td></td>\n",
       "    </tr>\n",
       "    <tr>\n",
       "      <th>4</th>\n",
       "      <td>BABA</td>\n",
       "      <td></td>\n",
       "      <td>adx_filter_trend_v4, ema_9_21_cruce_v4</td>\n",
       "    </tr>\n",
       "    <tr>\n",
       "      <th>5</th>\n",
       "      <td>BAC</td>\n",
       "      <td>adx_filter_trend_v4, ema_9_21_cruce_v4</td>\n",
       "      <td></td>\n",
       "    </tr>\n",
       "    <tr>\n",
       "      <th>6</th>\n",
       "      <td>CRM</td>\n",
       "      <td></td>\n",
       "      <td>adx_filter_trend_v4, ema_9_21_cruce_v4</td>\n",
       "    </tr>\n",
       "    <tr>\n",
       "      <th>7</th>\n",
       "      <td>CTVA</td>\n",
       "      <td>adx_filter_trend_v4, ema_9_21_cruce_v4</td>\n",
       "      <td></td>\n",
       "    </tr>\n",
       "    <tr>\n",
       "      <th>8</th>\n",
       "      <td>DGX</td>\n",
       "      <td>ema_pullback_v4</td>\n",
       "      <td>adx_filter_trend_v4, ema_9_21_cruce_v4</td>\n",
       "    </tr>\n",
       "    <tr>\n",
       "      <th>9</th>\n",
       "      <td>ED</td>\n",
       "      <td></td>\n",
       "      <td>adx_filter_trend_v4, ema_9_21_cruce_v4</td>\n",
       "    </tr>\n",
       "    <tr>\n",
       "      <th>10</th>\n",
       "      <td>EQR</td>\n",
       "      <td>adx_filter_trend_v4</td>\n",
       "      <td>ema_pullback_v4</td>\n",
       "    </tr>\n",
       "    <tr>\n",
       "      <th>11</th>\n",
       "      <td>EXE</td>\n",
       "      <td>adx_filter_trend_v4, ema_9_21_cruce_v4</td>\n",
       "      <td></td>\n",
       "    </tr>\n",
       "    <tr>\n",
       "      <th>12</th>\n",
       "      <td>F</td>\n",
       "      <td></td>\n",
       "      <td>adx_filter_trend_v4, breakout_volumen_v4, ema_...</td>\n",
       "    </tr>\n",
       "    <tr>\n",
       "      <th>13</th>\n",
       "      <td>FITBO</td>\n",
       "      <td></td>\n",
       "      <td>adx_filter_trend_v4, ema_9_21_cruce_v4</td>\n",
       "    </tr>\n",
       "    <tr>\n",
       "      <th>14</th>\n",
       "      <td>FWONA</td>\n",
       "      <td>adx_filter_trend_v4, ema_9_21_cruce_v4</td>\n",
       "      <td></td>\n",
       "    </tr>\n",
       "    <tr>\n",
       "      <th>15</th>\n",
       "      <td>GOOGL</td>\n",
       "      <td>adx_filter_trend_v4, ema_9_21_cruce_v4</td>\n",
       "      <td></td>\n",
       "    </tr>\n",
       "    <tr>\n",
       "      <th>16</th>\n",
       "      <td>HBANL</td>\n",
       "      <td></td>\n",
       "      <td>adx_filter_trend_v4, breakout_volumen_v4, ema_...</td>\n",
       "    </tr>\n",
       "    <tr>\n",
       "      <th>17</th>\n",
       "      <td>HBANM</td>\n",
       "      <td></td>\n",
       "      <td>adx_filter_trend_v4, breakout_volumen_v4, ema_...</td>\n",
       "    </tr>\n",
       "    <tr>\n",
       "      <th>18</th>\n",
       "      <td>HBANP</td>\n",
       "      <td></td>\n",
       "      <td>adx_filter_trend_v4, ema_9_21_cruce_v4</td>\n",
       "    </tr>\n",
       "    <tr>\n",
       "      <th>19</th>\n",
       "      <td>HIMS</td>\n",
       "      <td>adx_filter_trend_v4, ema_9_21_cruce_v4</td>\n",
       "      <td></td>\n",
       "    </tr>\n",
       "    <tr>\n",
       "      <th>20</th>\n",
       "      <td>HOOD</td>\n",
       "      <td>adx_filter_trend_v4, ema_9_21_cruce_v4</td>\n",
       "      <td></td>\n",
       "    </tr>\n",
       "    <tr>\n",
       "      <th>21</th>\n",
       "      <td>INTC</td>\n",
       "      <td></td>\n",
       "      <td>adx_filter_trend_v4, ema_9_21_cruce_v4</td>\n",
       "    </tr>\n",
       "    <tr>\n",
       "      <th>22</th>\n",
       "      <td>JPM</td>\n",
       "      <td>adx_filter_trend_v4, ema_9_21_cruce_v4</td>\n",
       "      <td></td>\n",
       "    </tr>\n",
       "    <tr>\n",
       "      <th>23</th>\n",
       "      <td>KHC</td>\n",
       "      <td></td>\n",
       "      <td>adx_filter_trend_v4, ema_9_21_cruce_v4</td>\n",
       "    </tr>\n",
       "    <tr>\n",
       "      <th>24</th>\n",
       "      <td>LLY</td>\n",
       "      <td>adx_filter_trend_v4</td>\n",
       "      <td>ema_9_21_cruce_v4</td>\n",
       "    </tr>\n",
       "    <tr>\n",
       "      <th>25</th>\n",
       "      <td>MCHPP</td>\n",
       "      <td>adx_filter_trend_v4, ema_9_21_cruce_v4</td>\n",
       "      <td></td>\n",
       "    </tr>\n",
       "    <tr>\n",
       "      <th>26</th>\n",
       "      <td>META</td>\n",
       "      <td>adx_filter_trend_v4, breakout_volumen_v4, ema_...</td>\n",
       "      <td></td>\n",
       "    </tr>\n",
       "    <tr>\n",
       "      <th>27</th>\n",
       "      <td>MRK</td>\n",
       "      <td></td>\n",
       "      <td>adx_filter_trend_v4, ema_9_21_cruce_v4</td>\n",
       "    </tr>\n",
       "    <tr>\n",
       "      <th>28</th>\n",
       "      <td>MSFT</td>\n",
       "      <td>adx_filter_trend_v4, ema_9_21_cruce_v4</td>\n",
       "      <td></td>\n",
       "    </tr>\n",
       "    <tr>\n",
       "      <th>29</th>\n",
       "      <td>NIO</td>\n",
       "      <td></td>\n",
       "      <td>adx_filter_trend_v4, ema_9_21_cruce_v4</td>\n",
       "    </tr>\n",
       "    <tr>\n",
       "      <th>30</th>\n",
       "      <td>NKE</td>\n",
       "      <td>adx_filter_trend_v4, ema_9_21_cruce_v4</td>\n",
       "      <td></td>\n",
       "    </tr>\n",
       "    <tr>\n",
       "      <th>31</th>\n",
       "      <td>NVDA</td>\n",
       "      <td>adx_filter_trend_v4, ema_9_21_cruce_v4</td>\n",
       "      <td></td>\n",
       "    </tr>\n",
       "    <tr>\n",
       "      <th>32</th>\n",
       "      <td>ORCL</td>\n",
       "      <td>adx_filter_trend_v4, ema_9_21_cruce_v4</td>\n",
       "      <td></td>\n",
       "    </tr>\n",
       "    <tr>\n",
       "      <th>33</th>\n",
       "      <td>PFE</td>\n",
       "      <td>adx_filter_trend_v4, ema_9_21_cruce_v4</td>\n",
       "      <td></td>\n",
       "    </tr>\n",
       "    <tr>\n",
       "      <th>34</th>\n",
       "      <td>PLTR</td>\n",
       "      <td>adx_filter_trend_v4, ema_9_21_cruce_v4</td>\n",
       "      <td></td>\n",
       "    </tr>\n",
       "    <tr>\n",
       "      <th>35</th>\n",
       "      <td>RPRX</td>\n",
       "      <td>adx_filter_trend_v4, ema_9_21_cruce_v4</td>\n",
       "      <td>ema_pullback_v4</td>\n",
       "    </tr>\n",
       "    <tr>\n",
       "      <th>36</th>\n",
       "      <td>SKX</td>\n",
       "      <td>adx_filter_trend_v4, ema_9_21_cruce_v4</td>\n",
       "      <td></td>\n",
       "    </tr>\n",
       "    <tr>\n",
       "      <th>37</th>\n",
       "      <td>SMCI</td>\n",
       "      <td>adx_filter_trend_v4, ema_9_21_cruce_v4</td>\n",
       "      <td></td>\n",
       "    </tr>\n",
       "    <tr>\n",
       "      <th>38</th>\n",
       "      <td>SOJC</td>\n",
       "      <td></td>\n",
       "      <td>ema_9_21_cruce_v4</td>\n",
       "    </tr>\n",
       "    <tr>\n",
       "      <th>39</th>\n",
       "      <td>TBB</td>\n",
       "      <td></td>\n",
       "      <td>adx_filter_trend_v4, ema_9_21_cruce_v4</td>\n",
       "    </tr>\n",
       "    <tr>\n",
       "      <th>40</th>\n",
       "      <td>TMO</td>\n",
       "      <td></td>\n",
       "      <td>adx_filter_trend_v4, ema_9_21_cruce_v4</td>\n",
       "    </tr>\n",
       "    <tr>\n",
       "      <th>41</th>\n",
       "      <td>TSLA</td>\n",
       "      <td>adx_filter_trend_v4, ema_9_21_cruce_v4</td>\n",
       "      <td></td>\n",
       "    </tr>\n",
       "    <tr>\n",
       "      <th>42</th>\n",
       "      <td>TSM</td>\n",
       "      <td>adx_filter_trend_v4, ema_9_21_cruce_v4</td>\n",
       "      <td></td>\n",
       "    </tr>\n",
       "    <tr>\n",
       "      <th>43</th>\n",
       "      <td>UBER</td>\n",
       "      <td>ema_9_21_cruce_v4</td>\n",
       "      <td>adx_filter_trend_v4</td>\n",
       "    </tr>\n",
       "    <tr>\n",
       "      <th>44</th>\n",
       "      <td>V</td>\n",
       "      <td>adx_filter_trend_v4, ema_9_21_cruce_v4</td>\n",
       "      <td></td>\n",
       "    </tr>\n",
       "    <tr>\n",
       "      <th>45</th>\n",
       "      <td>WFC</td>\n",
       "      <td>adx_filter_trend_v4, ema_9_21_cruce_v4</td>\n",
       "      <td></td>\n",
       "    </tr>\n",
       "    <tr>\n",
       "      <th>46</th>\n",
       "      <td>WMT</td>\n",
       "      <td>adx_filter_trend_v4, ema_9_21_cruce_v4</td>\n",
       "      <td></td>\n",
       "    </tr>\n",
       "    <tr>\n",
       "      <th>47</th>\n",
       "      <td>XOM</td>\n",
       "      <td></td>\n",
       "      <td>adx_filter_trend_v4, ema_9_21_cruce_v4</td>\n",
       "    </tr>\n",
       "  </tbody>\n",
       "</table>\n",
       "</div>"
      ],
      "text/plain": [
       "   simbolo                                    Estrategias BUY  \\\n",
       "0     AAPL                                                      \n",
       "1      AMD             adx_filter_trend_v4, ema_9_21_cruce_v4   \n",
       "2     AMZN             adx_filter_trend_v4, ema_9_21_cruce_v4   \n",
       "3     AVGO  adx_filter_trend_v4, breakout_volumen_v4, ema_...   \n",
       "4     BABA                                                      \n",
       "5      BAC             adx_filter_trend_v4, ema_9_21_cruce_v4   \n",
       "6      CRM                                                      \n",
       "7     CTVA             adx_filter_trend_v4, ema_9_21_cruce_v4   \n",
       "8      DGX                                    ema_pullback_v4   \n",
       "9       ED                                                      \n",
       "10     EQR                                adx_filter_trend_v4   \n",
       "11     EXE             adx_filter_trend_v4, ema_9_21_cruce_v4   \n",
       "12       F                                                      \n",
       "13   FITBO                                                      \n",
       "14   FWONA             adx_filter_trend_v4, ema_9_21_cruce_v4   \n",
       "15   GOOGL             adx_filter_trend_v4, ema_9_21_cruce_v4   \n",
       "16   HBANL                                                      \n",
       "17   HBANM                                                      \n",
       "18   HBANP                                                      \n",
       "19    HIMS             adx_filter_trend_v4, ema_9_21_cruce_v4   \n",
       "20    HOOD             adx_filter_trend_v4, ema_9_21_cruce_v4   \n",
       "21    INTC                                                      \n",
       "22     JPM             adx_filter_trend_v4, ema_9_21_cruce_v4   \n",
       "23     KHC                                                      \n",
       "24     LLY                                adx_filter_trend_v4   \n",
       "25   MCHPP             adx_filter_trend_v4, ema_9_21_cruce_v4   \n",
       "26    META  adx_filter_trend_v4, breakout_volumen_v4, ema_...   \n",
       "27     MRK                                                      \n",
       "28    MSFT             adx_filter_trend_v4, ema_9_21_cruce_v4   \n",
       "29     NIO                                                      \n",
       "30     NKE             adx_filter_trend_v4, ema_9_21_cruce_v4   \n",
       "31    NVDA             adx_filter_trend_v4, ema_9_21_cruce_v4   \n",
       "32    ORCL             adx_filter_trend_v4, ema_9_21_cruce_v4   \n",
       "33     PFE             adx_filter_trend_v4, ema_9_21_cruce_v4   \n",
       "34    PLTR             adx_filter_trend_v4, ema_9_21_cruce_v4   \n",
       "35    RPRX             adx_filter_trend_v4, ema_9_21_cruce_v4   \n",
       "36     SKX             adx_filter_trend_v4, ema_9_21_cruce_v4   \n",
       "37    SMCI             adx_filter_trend_v4, ema_9_21_cruce_v4   \n",
       "38    SOJC                                                      \n",
       "39     TBB                                                      \n",
       "40     TMO                                                      \n",
       "41    TSLA             adx_filter_trend_v4, ema_9_21_cruce_v4   \n",
       "42     TSM             adx_filter_trend_v4, ema_9_21_cruce_v4   \n",
       "43    UBER                                  ema_9_21_cruce_v4   \n",
       "44       V             adx_filter_trend_v4, ema_9_21_cruce_v4   \n",
       "45     WFC             adx_filter_trend_v4, ema_9_21_cruce_v4   \n",
       "46     WMT             adx_filter_trend_v4, ema_9_21_cruce_v4   \n",
       "47     XOM                                                      \n",
       "\n",
       "                                     Estrategias SELL  \n",
       "0              adx_filter_trend_v4, ema_9_21_cruce_v4  \n",
       "1                                                      \n",
       "2                                                      \n",
       "3                                                      \n",
       "4              adx_filter_trend_v4, ema_9_21_cruce_v4  \n",
       "5                                                      \n",
       "6              adx_filter_trend_v4, ema_9_21_cruce_v4  \n",
       "7                                                      \n",
       "8              adx_filter_trend_v4, ema_9_21_cruce_v4  \n",
       "9              adx_filter_trend_v4, ema_9_21_cruce_v4  \n",
       "10                                    ema_pullback_v4  \n",
       "11                                                     \n",
       "12  adx_filter_trend_v4, breakout_volumen_v4, ema_...  \n",
       "13             adx_filter_trend_v4, ema_9_21_cruce_v4  \n",
       "14                                                     \n",
       "15                                                     \n",
       "16  adx_filter_trend_v4, breakout_volumen_v4, ema_...  \n",
       "17  adx_filter_trend_v4, breakout_volumen_v4, ema_...  \n",
       "18             adx_filter_trend_v4, ema_9_21_cruce_v4  \n",
       "19                                                     \n",
       "20                                                     \n",
       "21             adx_filter_trend_v4, ema_9_21_cruce_v4  \n",
       "22                                                     \n",
       "23             adx_filter_trend_v4, ema_9_21_cruce_v4  \n",
       "24                                  ema_9_21_cruce_v4  \n",
       "25                                                     \n",
       "26                                                     \n",
       "27             adx_filter_trend_v4, ema_9_21_cruce_v4  \n",
       "28                                                     \n",
       "29             adx_filter_trend_v4, ema_9_21_cruce_v4  \n",
       "30                                                     \n",
       "31                                                     \n",
       "32                                                     \n",
       "33                                                     \n",
       "34                                                     \n",
       "35                                    ema_pullback_v4  \n",
       "36                                                     \n",
       "37                                                     \n",
       "38                                  ema_9_21_cruce_v4  \n",
       "39             adx_filter_trend_v4, ema_9_21_cruce_v4  \n",
       "40             adx_filter_trend_v4, ema_9_21_cruce_v4  \n",
       "41                                                     \n",
       "42                                                     \n",
       "43                                adx_filter_trend_v4  \n",
       "44                                                     \n",
       "45                                                     \n",
       "46                                                     \n",
       "47             adx_filter_trend_v4, ema_9_21_cruce_v4  "
      ]
     },
     "metadata": {},
     "output_type": "display_data"
    }
   ],
   "source": [
    "OUTPUT_PATH = Path(\"D:/trading/reports/senales_heuristicas/diarias\")\n",
    "df_lista = []\n",
    "\n",
    "# Cargar todas las señales\n",
    "for archivo in OUTPUT_PATH.glob(\"*.csv\"):\n",
    "    try:\n",
    "        df = pd.read_csv(archivo)\n",
    "        if {\"simbolo\", \"signal\", \"estrategia\"}.issubset(df.columns):\n",
    "            df_lista.append(df)\n",
    "    except Exception as e:\n",
    "        print(f\"❌ Error en {archivo.name}: {e}\")\n",
    "\n",
    "if df_lista:\n",
    "    df_all = pd.concat(df_lista).dropna(subset=[\"signal\"])\n",
    "    df_all[\"signal\"] = df_all[\"signal\"].str.lower().str.strip()\n",
    "\n",
    "    # Filtrar solo BUY y SELL\n",
    "    df_all = df_all[df_all[\"signal\"].isin([\"buy\", \"sell\"])]\n",
    "\n",
    "    # Agrupar estrategias por tipo de señal\n",
    "    df_pivot = df_all.groupby([\"simbolo\", \"signal\"])[\"estrategia\"] \\\n",
    "        .apply(lambda x: \", \".join(sorted(set(x)))).unstack(fill_value=\"\")\n",
    "\n",
    "    df_pivot.reset_index(inplace=True)\n",
    "    df_pivot.columns.name = None\n",
    "    df_pivot.rename(columns={\"buy\": \"Estrategias BUY\", \"sell\": \"Estrategias SELL\"}, inplace=True)\n",
    "\n",
    "    display(df_pivot)\n",
    "else:\n",
    "    print(\"⚠️ No se encontraron señales válidas.\")"
   ]
  },
  {
   "cell_type": "code",
   "execution_count": 9,
   "id": "dd40c269-1a08-454a-88ad-cfd6b621d80e",
   "metadata": {},
   "outputs": [
    {
     "name": "stdout",
     "output_type": "stream",
     "text": [
      "📊 Volumen actual > promedio de últimos 10 días para:\n"
     ]
    },
    {
     "data": {
      "text/plain": [
       "['BABA', 'F', 'FWONA', 'HBANL', 'HBANM', 'META', 'NIO', 'PLTR', 'SOJC', 'XOM']"
      ]
     },
     "metadata": {},
     "output_type": "display_data"
    }
   ],
   "source": [
    "import pandas as pd\n",
    "from pathlib import Path\n",
    "\n",
    "# === Configuración ===\n",
    "VENTANA_DIAS = 10  # Cambiá esto si querés evaluar otra ventana\n",
    "\n",
    "HISTORIC_RECENT_DIR = Path(\"D:/trading/data/historic_reciente\")\n",
    "simbolos_con_volumen_alto = []\n",
    "\n",
    "for archivo in HISTORIC_RECENT_DIR.glob(\"*.parquet\"):\n",
    "    try:\n",
    "        df = pd.read_parquet(archivo)\n",
    "        if \"volume\" not in df.columns or \"fecha\" not in df.columns:\n",
    "            continue\n",
    "\n",
    "        df = df.sort_values(\"fecha\")\n",
    "        df[\"volume\"] = pd.to_numeric(df[\"volume\"], errors=\"coerce\")\n",
    "\n",
    "        if df.shape[0] < VENTANA_DIAS + 1:\n",
    "            continue  # no hay suficientes datos\n",
    "\n",
    "        # Calcular promedio de los últimos N días (excluyendo el más reciente)\n",
    "        volumen_ventana = df[\"volume\"].iloc[-VENTANA_DIAS-1:-1].mean()\n",
    "        volumen_actual = df[\"volume\"].iloc[-1]\n",
    "\n",
    "        if volumen_actual > 1.1*volumen_ventana:\n",
    "            simbolo = archivo.stem.upper().replace(\".PARQUET\", \"\")\n",
    "            simbolos_con_volumen_alto.append(simbolo)\n",
    "\n",
    "    except Exception as e:\n",
    "        print(f\"❌ Error en {archivo.name}: {e}\")\n",
    "\n",
    "# === Mostrar resultado\n",
    "print(f\"📊 Volumen actual > promedio de últimos {VENTANA_DIAS} días para:\")\n",
    "display(sorted(simbolos_con_volumen_alto))\n",
    "\n"
   ]
  },
  {
   "cell_type": "code",
   "execution_count": 10,
   "id": "e724de65-b605-42b7-a1a8-d6fa5108a923",
   "metadata": {},
   "outputs": [
    {
     "data": {
      "image/png": "[encoded data removed]",
      "text/plain": [
       "<Figure size 1703x500 with 2 Axes>"
      ]
     },
     "metadata": {},
     "output_type": "display_data"
    }
   ],
   "source": [
    "import seaborn as sns\n",
    "from matplotlib import pyplot as plt\n",
    "\n",
    "df_filtrado = df_all[df_all[\"simbolo\"].isin(simbolos_con_volumen_alto)]\n",
    "\n",
    "df_plot = df_filtrado.groupby([\"simbolo\", \"signal\", \"estrategia\"]).size().reset_index(name=\"conteo\")\n",
    "\n",
    "# Gráfico\n",
    "g = sns.catplot(\n",
    "    data=df_plot,\n",
    "    kind=\"bar\",\n",
    "    x=\"simbolo\",\n",
    "    y=\"conteo\",\n",
    "    hue=\"estrategia\",\n",
    "    col=\"signal\",\n",
    "    height=5,\n",
    "    aspect=1.5,\n",
    "    sharey=False\n",
    ")\n",
    "\n",
    "g.set_titles(\"ALTO VOLUMEN\".upper())\n",
    "g.set_axis_labels(\"Símbolo\", \"Nº estrategias\")\n",
    "g.set_xticklabels(rotation=45)\n",
    "plt.tight_layout()\n",
    "plt.show()\n"
   ]
  },
  {
   "cell_type": "code",
   "execution_count": 11,
   "id": "d3f4f98e-27ba-40e7-bf9b-9258f293bed0",
   "metadata": {},
   "outputs": [
    {
     "data": {
      "text/html": [
       "<div>\n",
       "<style scoped>\n",
       "    .dataframe tbody tr th:only-of-type {\n",
       "        vertical-align: middle;\n",
       "    }\n",
       "\n",
       "    .dataframe tbody tr th {\n",
       "        vertical-align: top;\n",
       "    }\n",
       "\n",
       "    .dataframe thead th {\n",
       "        text-align: right;\n",
       "    }\n",
       "</style>\n",
       "<table border=\"1\" class=\"dataframe\">\n",
       "  <thead>\n",
       "    <tr style=\"text-align: right;\">\n",
       "      <th>signal</th>\n",
       "      <th>buy</th>\n",
       "      <th>sell</th>\n",
       "      <th>volumen_actual</th>\n",
       "    </tr>\n",
       "    <tr>\n",
       "      <th>simbolo</th>\n",
       "      <th></th>\n",
       "      <th></th>\n",
       "      <th></th>\n",
       "    </tr>\n",
       "  </thead>\n",
       "  <tbody>\n",
       "    <tr>\n",
       "      <th>BABA</th>\n",
       "      <td></td>\n",
       "      <td>ema_9_21_cruce_v4, adx_filter_trend_v4</td>\n",
       "      <td>13115969</td>\n",
       "    </tr>\n",
       "    <tr>\n",
       "      <th>F</th>\n",
       "      <td></td>\n",
       "      <td>breakout_volumen_v4, ema_pullback_v4, adx_filt...</td>\n",
       "      <td>170197000</td>\n",
       "    </tr>\n",
       "    <tr>\n",
       "      <th>FWONA</th>\n",
       "      <td>ema_9_21_cruce_v4, adx_filter_trend_v4</td>\n",
       "      <td></td>\n",
       "      <td>98855</td>\n",
       "    </tr>\n",
       "    <tr>\n",
       "      <th>HBANL</th>\n",
       "      <td></td>\n",
       "      <td>breakout_volumen_v4, ema_9_21_cruce_v4, adx_fi...</td>\n",
       "      <td>37845</td>\n",
       "    </tr>\n",
       "    <tr>\n",
       "      <th>HBANM</th>\n",
       "      <td></td>\n",
       "      <td>breakout_volumen_v4, ema_9_21_cruce_v4, adx_fi...</td>\n",
       "      <td>13926</td>\n",
       "    </tr>\n",
       "    <tr>\n",
       "      <th>META</th>\n",
       "      <td>breakout_volumen_v4, ema_9_21_cruce_v4, adx_fi...</td>\n",
       "      <td></td>\n",
       "      <td>15688676</td>\n",
       "    </tr>\n",
       "    <tr>\n",
       "      <th>NIO</th>\n",
       "      <td></td>\n",
       "      <td>ema_9_21_cruce_v4, adx_filter_trend_v4</td>\n",
       "      <td>38998065</td>\n",
       "    </tr>\n",
       "    <tr>\n",
       "      <th>PLTR</th>\n",
       "      <td>ema_9_21_cruce_v4, adx_filter_trend_v4</td>\n",
       "      <td></td>\n",
       "      <td>92123690</td>\n",
       "    </tr>\n",
       "    <tr>\n",
       "      <th>SOJC</th>\n",
       "      <td></td>\n",
       "      <td>ema_9_21_cruce_v4</td>\n",
       "      <td>43315</td>\n",
       "    </tr>\n",
       "    <tr>\n",
       "      <th>XOM</th>\n",
       "      <td></td>\n",
       "      <td>ema_9_21_cruce_v4, adx_filter_trend_v4</td>\n",
       "      <td>17288500</td>\n",
       "    </tr>\n",
       "  </tbody>\n",
       "</table>\n",
       "</div>"
      ],
      "text/plain": [
       "signal                                                 buy  \\\n",
       "simbolo                                                      \n",
       "BABA                                                         \n",
       "F                                                            \n",
       "FWONA               ema_9_21_cruce_v4, adx_filter_trend_v4   \n",
       "HBANL                                                        \n",
       "HBANM                                                        \n",
       "META     breakout_volumen_v4, ema_9_21_cruce_v4, adx_fi...   \n",
       "NIO                                                          \n",
       "PLTR                ema_9_21_cruce_v4, adx_filter_trend_v4   \n",
       "SOJC                                                         \n",
       "XOM                                                          \n",
       "\n",
       "signal                                                sell  volumen_actual  \n",
       "simbolo                                                                     \n",
       "BABA                ema_9_21_cruce_v4, adx_filter_trend_v4        13115969  \n",
       "F        breakout_volumen_v4, ema_pullback_v4, adx_filt...       170197000  \n",
       "FWONA                                                                98855  \n",
       "HBANL    breakout_volumen_v4, ema_9_21_cruce_v4, adx_fi...           37845  \n",
       "HBANM    breakout_volumen_v4, ema_9_21_cruce_v4, adx_fi...           13926  \n",
       "META                                                              15688676  \n",
       "NIO                 ema_9_21_cruce_v4, adx_filter_trend_v4        38998065  \n",
       "PLTR                                                              92123690  \n",
       "SOJC                                     ema_9_21_cruce_v4           43315  \n",
       "XOM                 ema_9_21_cruce_v4, adx_filter_trend_v4        17288500  "
      ]
     },
     "metadata": {},
     "output_type": "display_data"
    }
   ],
   "source": [
    "# Tabla cruzada\n",
    "tabla = df_filtrado.pivot_table(index=\"simbolo\", columns=\"signal\", values=\"estrategia\", aggfunc=lambda x: \", \".join(set(x)))\n",
    "\n",
    "# Agregar volumen actual\n",
    "volumen_dict = {}\n",
    "for archivo in HISTORIC_RECENT_DIR.glob(\"*.parquet\"):\n",
    "    simbolo = archivo.stem.upper()\n",
    "    if simbolo in simbolos_con_volumen_alto:\n",
    "        df = pd.read_parquet(archivo)\n",
    "        if \"volume\" in df.columns:\n",
    "            volumen_dict[simbolo] = pd.to_numeric(df[\"volume\"], errors=\"coerce\").iloc[-1]\n",
    "\n",
    "tabla[\"volumen_actual\"] = tabla.index.map(volumen_dict)\n",
    "tabla = tabla.fillna(\"\")\n",
    "display(tabla)\n"
   ]
  },
  {
   "cell_type": "code",
   "execution_count": 12,
   "id": "f50a3548-0a15-423b-9947-c499761ad6fa",
   "metadata": {},
   "outputs": [
    {
     "name": "stdout",
     "output_type": "stream",
     "text": [
      "Requirement already satisfied: plotly in d:\\trading_env\\lib\\site-packages (6.1.2)\n",
      "Requirement already satisfied: narwhals>=1.15.1 in d:\\trading_env\\lib\\site-packages (from plotly) (1.41.0)\n",
      "Requirement already satisfied: packaging in d:\\trading_env\\lib\\site-packages (from plotly) (24.2)\n"
     ]
    }
   ],
   "source": [
    "!pip install plotly\n"
   ]
  },
  {
   "cell_type": "code",
   "execution_count": 16,
   "id": "c0b5116b-8ba1-4f8a-ace2-92710872b755",
   "metadata": {},
   "outputs": [],
   "source": [
    "import plotly.io as pio\n",
    "pio.renderers.default = \"notebook_connected\""
   ]
  },
  {
   "cell_type": "code",
   "execution_count": 18,
   "id": "c047eed5-b217-48aa-a9c0-f1f2cbccc959",
   "metadata": {},
   "outputs": [
    {
     "name": "stdout",
     "output_type": "stream",
     "text": [
      "notebook_connected\n"
     ]
    }
   ],
   "source": [
    "import plotly.io as pio\n",
    "print(pio.renderers.default)\n"
   ]
  },
  {
   "cell_type": "code",
   "execution_count": 19,
   "id": "8cc21409-dc17-4cd2-a6d4-8efae5cafb32",
   "metadata": {},
   "outputs": [
    {
     "data": {
      "text/html": [
       "        <script type=\"text/javascript\">\n",
       "        window.PlotlyConfig = {MathJaxConfig: 'local'};\n",
       "        if (window.MathJax && window.MathJax.Hub && window.MathJax.Hub.Config) {window.MathJax.Hub.Config({SVG: {font: \"STIX-Web\"}});}\n",
       "        </script>\n",
       "        <script type=\"module\">import \"https://cdn.plot.ly/plotly-3.0.1.min\"</script>\n",
       "        "
      ]
     },
     "metadata": {},
     "output_type": "display_data"
    },
    {
     "data": {
      "text/html": [
       "<div>            <script src=\"https://cdnjs.cloudflare.com/ajax/libs/mathjax/2.7.5/MathJax.js?config=TeX-AMS-MML_SVG\"></script><script type=\"text/javascript\">if (window.MathJax && window.MathJax.Hub && window.MathJax.Hub.Config) {window.MathJax.Hub.Config({SVG: {font: \"STIX-Web\"}});}</script>                <script type=\"text/javascript\">window.PlotlyConfig = {MathJaxConfig: 'local'};</script>\n",
       "        <script charset=\"utf-8\" src=\"https://cdn.plot.ly/plotly-3.0.1.min.js\"></script>                <div id=\"d499a32e-d579-49a6-9db5-646eeab75a26\" class=\"plotly-graph-div\" style=\"height:525px; width:100%;\"></div>            <script type=\"text/javascript\">                window.PLOTLYENV=window.PLOTLYENV || {};                                if (document.getElementById(\"d499a32e-d579-49a6-9db5-646eeab75a26\")) {                    Plotly.newPlot(                        \"d499a32e-d579-49a6-9db5-646eeab75a26\",                        [{\"close\":{\"dtype\":\"f8\",\"bdata\":\"XI\\u002fC9Sg8RUC4HoXrUfhEQCzVBbzMjENAUrgehetRREDhehSuRyFBQOxRuB6Fi0FAAAAAAACAQEDXo3A9CtdAQD0K16NwvUBAw\\u002fUoXI+CPUBI4XoUrudBQAAAAAAAAEJAexSuR+HaQEA9CtejcD1AQMP1KFyPwkBAexSuR+H6RUDD9Shcj2JFQOxRuB6FC0RAMzMzMzOTRECamZmZmZlEQA==\"},\"high\":{\"dtype\":\"f8\",\"bdata\":\"H4XrUbh+RkD2KFyPwpVFQEjhehSup0RAUrgeheuxRUDsUbgehWtEQJbqAl5mBkJAMzMzMzMTQUBSuB6F67FCQI\\u002fC9Shcj0FAMzMzMzPTQEA9CtejcD1CQClcj8L16EJAcT0K16MQQUAfhetRuL5AQClcj8L1iEFAKVyPwvVIR0BmZmZmZuZHQArXo3A9KkZAXI\\u002fC9Sj8RUAfhetRuJ5EQA==\"},\"low\":{\"dtype\":\"f8\",\"bdata\":\"H4XrUbj+QUAzMzMzM3NDQM3MzMzM7EJAFK5H4Xp0Q0BSuB6F6\\u002fFAQFK4HoXrEUBAmpmZmZmZO0DsUbgehes+QClcj8L1SEBAZmZmZmbmPEBSuB6F65E9QGZmZmZmpkFASOF6FK7HPEAK16NwPYo+QDMzMzMzMz9A16NwPQoXQUAzMzMzMzNFQK5H4XoUjkNASOF6FK5nRECW6gJeZoZDQA==\"},\"name\":\"SMCI (3D velas)\",\"open\":{\"dtype\":\"f8\",\"bdata\":\"ZmZmZmbmQkBxPQrXoxBFQClcj8L1iERA4XoUrkehQ0BmZmZmZiZEQAAAAAAAYEBA0\\u002fTZAdcDQEBSuB6F65FBQKvOaoE9CkFAXI\\u002fC9SjcP0AUrkfhehQ+QBSuR+F69EFAH4XrUbgePUAs1QW8zIxAQNejcD0Kd0BAexSuR+E6QUAAAAAAAMBGQKRwPQrXw0VAFK5H4Xq0REB7FK5H4VpEQA==\"},\"x\":[\"2025-03-10T00:00:00.000000000\",\"2025-03-13T00:00:00.000000000\",\"2025-03-18T00:00:00.000000000\",\"2025-03-21T00:00:00.000000000\",\"2025-03-26T00:00:00.000000000\",\"2025-03-31T00:00:00.000000000\",\"2025-04-03T00:00:00.000000000\",\"2025-04-08T00:00:00.000000000\",\"2025-04-11T00:00:00.000000000\",\"2025-04-16T00:00:00.000000000\",\"2025-04-22T00:00:00.000000000\",\"2025-04-25T00:00:00.000000000\",\"2025-04-30T00:00:00.000000000\",\"2025-05-05T00:00:00.000000000\",\"2025-05-08T00:00:00.000000000\",\"2025-05-13T00:00:00.000000000\",\"2025-05-16T00:00:00.000000000\",\"2025-05-21T00:00:00.000000000\",\"2025-05-27T00:00:00.000000000\",\"2025-05-30T00:00:00.000000000\"],\"type\":\"candlestick\"}],                        {\"template\":{\"data\":{\"barpolar\":[{\"marker\":{\"line\":{\"color\":\"rgb(17,17,17)\",\"width\":0.5},\"pattern\":{\"fillmode\":\"overlay\",\"size\":10,\"solidity\":0.2}},\"type\":\"barpolar\"}],\"bar\":[{\"error_x\":{\"color\":\"#f2f5fa\"},\"error_y\":{\"color\":\"#f2f5fa\"},\"marker\":{\"line\":{\"color\":\"rgb(17,17,17)\",\"width\":0.5},\"pattern\":{\"fillmode\":\"overlay\",\"size\":10,\"solidity\":0.2}},\"type\":\"bar\"}],\"carpet\":[{\"aaxis\":{\"endlinecolor\":\"#A2B1C6\",\"gridcolor\":\"#506784\",\"linecolor\":\"#506784\",\"minorgridcolor\":\"#506784\",\"startlinecolor\":\"#A2B1C6\"},\"baxis\":{\"endlinecolor\":\"#A2B1C6\",\"gridcolor\":\"#506784\",\"linecolor\":\"#506784\",\"minorgridcolor\":\"#506784\",\"startlinecolor\":\"#A2B1C6\"},\"type\":\"carpet\"}],\"choropleth\":[{\"colorbar\":{\"outlinewidth\":0,\"ticks\":\"\"},\"type\":\"choropleth\"}],\"contourcarpet\":[{\"colorbar\":{\"outlinewidth\":0,\"ticks\":\"\"},\"type\":\"contourcarpet\"}],\"contour\":[{\"colorbar\":{\"outlinewidth\":0,\"ticks\":\"\"},\"colorscale\":[[0.0,\"#0d0887\"],[0.1111111111111111,\"#46039f\"],[0.2222222222222222,\"#7201a8\"],[0.3333333333333333,\"#9c179e\"],[0.4444444444444444,\"#bd3786\"],[0.5555555555555556,\"#d8576b\"],[0.6666666666666666,\"#ed7953\"],[0.7777777777777778,\"#fb9f3a\"],[0.8888888888888888,\"#fdca26\"],[1.0,\"#f0f921\"]],\"type\":\"contour\"}],\"heatmap\":[{\"colorbar\":{\"outlinewidth\":0,\"ticks\":\"\"},\"colorscale\":[[0.0,\"#0d0887\"],[0.1111111111111111,\"#46039f\"],[0.2222222222222222,\"#7201a8\"],[0.3333333333333333,\"#9c179e\"],[0.4444444444444444,\"#bd3786\"],[0.5555555555555556,\"#d8576b\"],[0.6666666666666666,\"#ed7953\"],[0.7777777777777778,\"#fb9f3a\"],[0.8888888888888888,\"#fdca26\"],[1.0,\"#f0f921\"]],\"type\":\"heatmap\"}],\"histogram2dcontour\":[{\"colorbar\":{\"outlinewidth\":0,\"ticks\":\"\"},\"colorscale\":[[0.0,\"#0d0887\"],[0.1111111111111111,\"#46039f\"],[0.2222222222222222,\"#7201a8\"],[0.3333333333333333,\"#9c179e\"],[0.4444444444444444,\"#bd3786\"],[0.5555555555555556,\"#d8576b\"],[0.6666666666666666,\"#ed7953\"],[0.7777777777777778,\"#fb9f3a\"],[0.8888888888888888,\"#fdca26\"],[1.0,\"#f0f921\"]],\"type\":\"histogram2dcontour\"}],\"histogram2d\":[{\"colorbar\":{\"outlinewidth\":0,\"ticks\":\"\"},\"colorscale\":[[0.0,\"#0d0887\"],[0.1111111111111111,\"#46039f\"],[0.2222222222222222,\"#7201a8\"],[0.3333333333333333,\"#9c179e\"],[0.4444444444444444,\"#bd3786\"],[0.5555555555555556,\"#d8576b\"],[0.6666666666666666,\"#ed7953\"],[0.7777777777777778,\"#fb9f3a\"],[0.8888888888888888,\"#fdca26\"],[1.0,\"#f0f921\"]],\"type\":\"histogram2d\"}],\"histogram\":[{\"marker\":{\"pattern\":{\"fillmode\":\"overlay\",\"size\":10,\"solidity\":0.2}},\"type\":\"histogram\"}],\"mesh3d\":[{\"colorbar\":{\"outlinewidth\":0,\"ticks\":\"\"},\"type\":\"mesh3d\"}],\"parcoords\":[{\"line\":{\"colorbar\":{\"outlinewidth\":0,\"ticks\":\"\"}},\"type\":\"parcoords\"}],\"pie\":[{\"automargin\":true,\"type\":\"pie\"}],\"scatter3d\":[{\"line\":{\"colorbar\":{\"outlinewidth\":0,\"ticks\":\"\"}},\"marker\":{\"colorbar\":{\"outlinewidth\":0,\"ticks\":\"\"}},\"type\":\"scatter3d\"}],\"scattercarpet\":[{\"marker\":{\"colorbar\":{\"outlinewidth\":0,\"ticks\":\"\"}},\"type\":\"scattercarpet\"}],\"scattergeo\":[{\"marker\":{\"colorbar\":{\"outlinewidth\":0,\"ticks\":\"\"}},\"type\":\"scattergeo\"}],\"scattergl\":[{\"marker\":{\"line\":{\"color\":\"#283442\"}},\"type\":\"scattergl\"}],\"scattermapbox\":[{\"marker\":{\"colorbar\":{\"outlinewidth\":0,\"ticks\":\"\"}},\"type\":\"scattermapbox\"}],\"scattermap\":[{\"marker\":{\"colorbar\":{\"outlinewidth\":0,\"ticks\":\"\"}},\"type\":\"scattermap\"}],\"scatterpolargl\":[{\"marker\":{\"colorbar\":{\"outlinewidth\":0,\"ticks\":\"\"}},\"type\":\"scatterpolargl\"}],\"scatterpolar\":[{\"marker\":{\"colorbar\":{\"outlinewidth\":0,\"ticks\":\"\"}},\"type\":\"scatterpolar\"}],\"scatter\":[{\"marker\":{\"line\":{\"color\":\"#283442\"}},\"type\":\"scatter\"}],\"scatterternary\":[{\"marker\":{\"colorbar\":{\"outlinewidth\":0,\"ticks\":\"\"}},\"type\":\"scatterternary\"}],\"surface\":[{\"colorbar\":{\"outlinewidth\":0,\"ticks\":\"\"},\"colorscale\":[[0.0,\"#0d0887\"],[0.1111111111111111,\"#46039f\"],[0.2222222222222222,\"#7201a8\"],[0.3333333333333333,\"#9c179e\"],[0.4444444444444444,\"#bd3786\"],[0.5555555555555556,\"#d8576b\"],[0.6666666666666666,\"#ed7953\"],[0.7777777777777778,\"#fb9f3a\"],[0.8888888888888888,\"#fdca26\"],[1.0,\"#f0f921\"]],\"type\":\"surface\"}],\"table\":[{\"cells\":{\"fill\":{\"color\":\"#506784\"},\"line\":{\"color\":\"rgb(17,17,17)\"}},\"header\":{\"fill\":{\"color\":\"#2a3f5f\"},\"line\":{\"color\":\"rgb(17,17,17)\"}},\"type\":\"table\"}]},\"layout\":{\"annotationdefaults\":{\"arrowcolor\":\"#f2f5fa\",\"arrowhead\":0,\"arrowwidth\":1},\"autotypenumbers\":\"strict\",\"coloraxis\":{\"colorbar\":{\"outlinewidth\":0,\"ticks\":\"\"}},\"colorscale\":{\"diverging\":[[0,\"#8e0152\"],[0.1,\"#c51b7d\"],[0.2,\"#de77ae\"],[0.3,\"#f1b6da\"],[0.4,\"#fde0ef\"],[0.5,\"#f7f7f7\"],[0.6,\"#e6f5d0\"],[0.7,\"#b8e186\"],[0.8,\"#7fbc41\"],[0.9,\"#4d9221\"],[1,\"#276419\"]],\"sequential\":[[0.0,\"#0d0887\"],[0.1111111111111111,\"#46039f\"],[0.2222222222222222,\"#7201a8\"],[0.3333333333333333,\"#9c179e\"],[0.4444444444444444,\"#bd3786\"],[0.5555555555555556,\"#d8576b\"],[0.6666666666666666,\"#ed7953\"],[0.7777777777777778,\"#fb9f3a\"],[0.8888888888888888,\"#fdca26\"],[1.0,\"#f0f921\"]],\"sequentialminus\":[[0.0,\"#0d0887\"],[0.1111111111111111,\"#46039f\"],[0.2222222222222222,\"#7201a8\"],[0.3333333333333333,\"#9c179e\"],[0.4444444444444444,\"#bd3786\"],[0.5555555555555556,\"#d8576b\"],[0.6666666666666666,\"#ed7953\"],[0.7777777777777778,\"#fb9f3a\"],[0.8888888888888888,\"#fdca26\"],[1.0,\"#f0f921\"]]},\"colorway\":[\"#636efa\",\"#EF553B\",\"#00cc96\",\"#ab63fa\",\"#FFA15A\",\"#19d3f3\",\"#FF6692\",\"#B6E880\",\"#FF97FF\",\"#FECB52\"],\"font\":{\"color\":\"#f2f5fa\"},\"geo\":{\"bgcolor\":\"rgb(17,17,17)\",\"lakecolor\":\"rgb(17,17,17)\",\"landcolor\":\"rgb(17,17,17)\",\"showlakes\":true,\"showland\":true,\"subunitcolor\":\"#506784\"},\"hoverlabel\":{\"align\":\"left\"},\"hovermode\":\"closest\",\"mapbox\":{\"style\":\"dark\"},\"paper_bgcolor\":\"rgb(17,17,17)\",\"plot_bgcolor\":\"rgb(17,17,17)\",\"polar\":{\"angularaxis\":{\"gridcolor\":\"#506784\",\"linecolor\":\"#506784\",\"ticks\":\"\"},\"bgcolor\":\"rgb(17,17,17)\",\"radialaxis\":{\"gridcolor\":\"#506784\",\"linecolor\":\"#506784\",\"ticks\":\"\"}},\"scene\":{\"xaxis\":{\"backgroundcolor\":\"rgb(17,17,17)\",\"gridcolor\":\"#506784\",\"gridwidth\":2,\"linecolor\":\"#506784\",\"showbackground\":true,\"ticks\":\"\",\"zerolinecolor\":\"#C8D4E3\"},\"yaxis\":{\"backgroundcolor\":\"rgb(17,17,17)\",\"gridcolor\":\"#506784\",\"gridwidth\":2,\"linecolor\":\"#506784\",\"showbackground\":true,\"ticks\":\"\",\"zerolinecolor\":\"#C8D4E3\"},\"zaxis\":{\"backgroundcolor\":\"rgb(17,17,17)\",\"gridcolor\":\"#506784\",\"gridwidth\":2,\"linecolor\":\"#506784\",\"showbackground\":true,\"ticks\":\"\",\"zerolinecolor\":\"#C8D4E3\"}},\"shapedefaults\":{\"line\":{\"color\":\"#f2f5fa\"}},\"sliderdefaults\":{\"bgcolor\":\"#C8D4E3\",\"bordercolor\":\"rgb(17,17,17)\",\"borderwidth\":1,\"tickwidth\":0},\"ternary\":{\"aaxis\":{\"gridcolor\":\"#506784\",\"linecolor\":\"#506784\",\"ticks\":\"\"},\"baxis\":{\"gridcolor\":\"#506784\",\"linecolor\":\"#506784\",\"ticks\":\"\"},\"bgcolor\":\"rgb(17,17,17)\",\"caxis\":{\"gridcolor\":\"#506784\",\"linecolor\":\"#506784\",\"ticks\":\"\"}},\"title\":{\"x\":0.05},\"updatemenudefaults\":{\"bgcolor\":\"#506784\",\"borderwidth\":0},\"xaxis\":{\"automargin\":true,\"gridcolor\":\"#283442\",\"linecolor\":\"#506784\",\"ticks\":\"\",\"title\":{\"standoff\":15},\"zerolinecolor\":\"#283442\",\"zerolinewidth\":2},\"yaxis\":{\"automargin\":true,\"gridcolor\":\"#283442\",\"linecolor\":\"#506784\",\"ticks\":\"\",\"title\":{\"standoff\":15},\"zerolinecolor\":\"#283442\",\"zerolinewidth\":2}}},\"xaxis\":{\"rangeslider\":{\"visible\":false},\"title\":{\"text\":\"Fecha\"}},\"title\":{\"text\":\"\\ud83d\\udcc9 SMCI - Velas agrupadas cada 3 d\\u00edas\"},\"yaxis\":{\"title\":{\"text\":\"Precio\"}}},                        {\"responsive\": true}                    ).then(function(){\n",
       "                            \n",
       "var gd = document.getElementById('d499a32e-d579-49a6-9db5-646eeab75a26');\n",
       "var x = new MutationObserver(function (mutations, observer) {{\n",
       "        var display = window.getComputedStyle(gd).display;\n",
       "        if (!display || display === 'none') {{\n",
       "            console.log([gd, 'removed!']);\n",
       "            Plotly.purge(gd);\n",
       "            observer.disconnect();\n",
       "        }}\n",
       "}});\n",
       "\n",
       "// Listen for the removal of the full notebook cells\n",
       "var notebookContainer = gd.closest('#notebook-container');\n",
       "if (notebookContainer) {{\n",
       "    x.observe(notebookContainer, {childList: true});\n",
       "}}\n",
       "\n",
       "// Listen for the clearing of the current output cell\n",
       "var outputEl = gd.closest('.output');\n",
       "if (outputEl) {{\n",
       "    x.observe(outputEl, {childList: true});\n",
       "}}\n",
       "\n",
       "                        })                };            </script>        </div>"
      ]
     },
     "metadata": {},
     "output_type": "display_data"
    }
   ],
   "source": [
    "import plotly.io as pio\n",
    "pio.renderers.default = \"notebook_connected\"\n",
    "fig.show()\n"
   ]
  },
  {
   "cell_type": "code",
   "execution_count": 21,
   "id": "6cf46aab-5aa1-4a1d-a823-6b64dc6cfe30",
   "metadata": {},
   "outputs": [
    {
     "data": {
      "text/html": [
       "<div>            <script src=\"https://cdnjs.cloudflare.com/ajax/libs/mathjax/2.7.5/MathJax.js?config=TeX-AMS-MML_SVG\"></script><script type=\"text/javascript\">if (window.MathJax && window.MathJax.Hub && window.MathJax.Hub.Config) {window.MathJax.Hub.Config({SVG: {font: \"STIX-Web\"}});}</script>                <script type=\"text/javascript\">window.PlotlyConfig = {MathJaxConfig: 'local'};</script>\n",
       "        <script charset=\"utf-8\" src=\"https://cdn.plot.ly/plotly-3.0.1.min.js\"></script>                <div id=\"14aeabc8-e3e5-4cbe-86b4-e492473c04a5\" class=\"plotly-graph-div\" style=\"height:525px; width:100%;\"></div>            <script type=\"text/javascript\">                window.PLOTLYENV=window.PLOTLYENV || {};                                if (document.getElementById(\"14aeabc8-e3e5-4cbe-86b4-e492473c04a5\")) {                    Plotly.newPlot(                        \"14aeabc8-e3e5-4cbe-86b4-e492473c04a5\",                        [{\"close\":{\"dtype\":\"f8\",\"bdata\":\"MzMzMzNzQkDsUbgehWtEQFyPwvUoPEVAq85qgT2KQ0D2KFyPwhVFQLgehetR+ERAMzMzMzPzQkAs1QW8zAxEQCzVBbzMjENAMzMzMzMTRUBcj8L1KNxEQFK4HoXrUURAVWe1wB6FQkBcj8L1KFxBQOF6FK5HIUFAH4XrUbgeQUCW6gJeZoZBQOxRuB6Fi0FAKVyPwvUoQEBSuB6F69E9QAAAAAAAgEBA9ihcj8K1P0B7FK5H4VpCQNejcD0K10BAMzMzMzOTQECPwvUoXI9AQD0K16NwvUBApHA9CtfjP0DD9Shcj4I\\u002fQMP1KFyPgj1AFK5H4XqUPkAzMzMzM3NAQEjhehSu50FAXI\\u002fC9Sg8QkDD9Shcj6JCQAAAAAAAAEJAXI\\u002fC9SjcP0A9CtejcF1AQHsUrkfh2kBA9ihcj8IVQEC4HoXrUXhAQD0K16NwPUBArkfhehQOQEA9CtejcP0\\u002fQMP1KFyPwkBAUrgehetxQ0AAAAAAAIBGQHsUrkfh+kVAMzMzMzMTR0CF61G4HmVGQMP1KFyPYkVAMzMzMzPTREApXI\\u002fC9ahEQOxRuB6FC0RAKVyPwvXIREB7FK5H4fpEQDMzMzMzk0RAw\\u002fUoXI8CRECamZmZmZlEQA==\"},\"high\":{\"dtype\":\"f8\",\"bdata\":\"mpmZmZm5Q0Bcj8L1KLxEQB+F61G4fkZAXI\\u002fC9Sh8RUDhehSuRyFFQPYoXI\\u002fClUVAPQrXo3CdREBI4XoUrqdEQJqZmZmZWURAcT0K16NQRUCamZmZmVlFQFK4HoXrsUVA7FG4HoVrRECkcD0K12NCQOxRuB6FC0JAKVyPwvVIQUAzMzMzM\\u002fNBQJbqAl5mBkJAFK5H4XqUQEBxPQrXozA\\u002fQDMzMzMzE0FAH4XrUbi+QUBSuB6F67FCQD0K16NwvUFACtejcD0qQUCPwvUoXI9BQOxRuB6FS0FAMzMzMzPTQEAAAAAAACBAQClcj8L16D5ALNUFvMwMP0AfhetRuH5BQD0K16NwPUJAH4XrUbheQkApXI\\u002fC9ehCQIXrUbgepUJAAAAAAAAAQECkcD0K1+NAQHE9CtejEEFAH4XrUbi+QEDsUbgehatAQFyPwvUofEBAuB6F61GYQEDsUbgehWtAQClcj8L1iEFALNUFvMyMQ0ApXI\\u002fC9UhHQHE9CtejsEZAZmZmZmbmR0AUrkfhejRHQArXo3A9akZACtejcD0qRkC4HoXrUThFQD0K16NwPURA7FG4HoWLRUC4HoXrUXhFQFyPwvUo\\u002fEVA16NwPQp3REAfhetRuJ5EQA==\"},\"low\":{\"dtype\":\"f8\",\"bdata\":\"H4XrUbj+QUCuR+F6FE5CQM3MzMzM7ERAMzMzMzNzQ0AAAAAAACBEQDMzMzMzc0RAzczMzMzsQkAzMzMzMxNDQGZmZmZmRkNAFK5H4Xp0Q0Bcj8L1KNxDQOxRuB6FC0RAj8L1KFxPQkAUrkfhelRBQFK4HoXr8UBAUrgehesRQEAzMzMzM\\u002fNAQMP1KFyP4kBAzczMzMyMP0BmZmZmZqY7QJqZmZmZmTtA7FG4HoXrPkApXI\\u002fC9Wg\\u002fQAAAAAAAQEBAKVyPwvVIQEBcj8L1KHxAQClcj8L1iEBA7FG4HoXrPkBxPQrXo3A+QGZmZmZm5jxAUrgeheuRPUBxPQrXo1BAQOF6FK5HwUBAZmZmZmamQUAYXd4crgdCQLgehetR+EFASOF6FK7HPEBmZmZmZiY\\u002fQLgehetRWEBAj8L1KFwPQECF61G4HoU\\u002fQArXo3A9ij5AMzMzMzPzP0AzMzMzMzM\\u002fQJqZmZmZeUBA16NwPQoXQUCrzmqBPYpFQBSuR+F6tERA0\\u002fTZAdeDRkBSuB6F6xFGQDMzMzMzM0VAPQrXo3CdREDXo3A9CpdEQK5H4XoUjkNASOF6FK5nRECamZmZmXlEQFVntcAehURAluoCXmaGQ0DhehSuR8FDQA==\"},\"name\":\"SMCI (3D velas)\",\"open\":{\"dtype\":\"f8\",\"bdata\":\"ZmZmZmbmQkBI4XoUrmdCQHsUrkfh+kVAcT0K16MQRUA9CtejcD1EQNejcD0KV0VAKVyPwvWIRECF61G4HmVDQEjhehSu50NA4XoUrkehQ0BI4XoUrmdEQArXo3A9ykRAZmZmZmYmREBSuB6F6zFCQOF6FK5HYUFAAAAAAABgQEAAAAAAACBBQMP1KFyPAkFA0\\u002fTZAdcDQEAzMzMzM7M+QClcj8L16DtAUrgeheuRQUAAAAAAAABAQOxRuB6Fi0FAq85qgT0KQUDT9NkB14NBQFyPwvUonEBAXI\\u002fC9SjcP0CrzmqBPQpAQAAAAAAAwD5AFK5H4XoUPkDD9Shcj4JAQDMzMzMz00BAFK5H4Xr0QUCF61G4HkVCQPYoXI\\u002fCdUJAH4XrUbgePUAzMzMzMxNAQLgehetReEBALNUFvMyMQEC4HoXrUbg\\u002fQJqZmZmZGT9A16NwPQp3QEBxPQrXoxBAQFK4HoXr8UBAexSuR+E6QUDXo3A9CvdGQJbqAl5mBkZAAAAAAADARkA9CtejcB1GQIXrUbgeZUZApHA9CtfDRUC4HoXrUdhEQMP1KFyP4kNAFK5H4Xq0REDXo3A9CvdEQPYoXI\\u002fClUVAexSuR+FaREAzMzMzM9NDQA==\"},\"x\":[\"2025-03-10T00:00:00.000000000\",\"2025-03-11T00:00:00.000000000\",\"2025-03-12T00:00:00.000000000\",\"2025-03-13T00:00:00.000000000\",\"2025-03-14T00:00:00.000000000\",\"2025-03-17T00:00:00.000000000\",\"2025-03-18T00:00:00.000000000\",\"2025-03-19T00:00:00.000000000\",\"2025-03-20T00:00:00.000000000\",\"2025-03-21T00:00:00.000000000\",\"2025-03-24T00:00:00.000000000\",\"2025-03-25T00:00:00.000000000\",\"2025-03-26T00:00:00.000000000\",\"2025-03-27T00:00:00.000000000\",\"2025-03-28T00:00:00.000000000\",\"2025-03-31T00:00:00.000000000\",\"2025-04-01T00:00:00.000000000\",\"2025-04-02T00:00:00.000000000\",\"2025-04-03T00:00:00.000000000\",\"2025-04-04T00:00:00.000000000\",\"2025-04-07T00:00:00.000000000\",\"2025-04-08T00:00:00.000000000\",\"2025-04-09T00:00:00.000000000\",\"2025-04-10T00:00:00.000000000\",\"2025-04-11T00:00:00.000000000\",\"2025-04-14T00:00:00.000000000\",\"2025-04-15T00:00:00.000000000\",\"2025-04-16T00:00:00.000000000\",\"2025-04-17T00:00:00.000000000\",\"2025-04-21T00:00:00.000000000\",\"2025-04-22T00:00:00.000000000\",\"2025-04-23T00:00:00.000000000\",\"2025-04-24T00:00:00.000000000\",\"2025-04-25T00:00:00.000000000\",\"2025-04-28T00:00:00.000000000\",\"2025-04-29T00:00:00.000000000\",\"2025-04-30T00:00:00.000000000\",\"2025-05-01T00:00:00.000000000\",\"2025-05-02T00:00:00.000000000\",\"2025-05-05T00:00:00.000000000\",\"2025-05-06T00:00:00.000000000\",\"2025-05-07T00:00:00.000000000\",\"2025-05-08T00:00:00.000000000\",\"2025-05-09T00:00:00.000000000\",\"2025-05-12T00:00:00.000000000\",\"2025-05-13T00:00:00.000000000\",\"2025-05-14T00:00:00.000000000\",\"2025-05-15T00:00:00.000000000\",\"2025-05-16T00:00:00.000000000\",\"2025-05-19T00:00:00.000000000\",\"2025-05-20T00:00:00.000000000\",\"2025-05-21T00:00:00.000000000\",\"2025-05-22T00:00:00.000000000\",\"2025-05-23T00:00:00.000000000\",\"2025-05-27T00:00:00.000000000\",\"2025-05-28T00:00:00.000000000\",\"2025-05-29T00:00:00.000000000\",\"2025-05-30T00:00:00.000000000\",\"2025-06-02T00:00:00.000000000\"],\"type\":\"candlestick\"}],                        {\"template\":{\"data\":{\"barpolar\":[{\"marker\":{\"line\":{\"color\":\"rgb(17,17,17)\",\"width\":0.5},\"pattern\":{\"fillmode\":\"overlay\",\"size\":10,\"solidity\":0.2}},\"type\":\"barpolar\"}],\"bar\":[{\"error_x\":{\"color\":\"#f2f5fa\"},\"error_y\":{\"color\":\"#f2f5fa\"},\"marker\":{\"line\":{\"color\":\"rgb(17,17,17)\",\"width\":0.5},\"pattern\":{\"fillmode\":\"overlay\",\"size\":10,\"solidity\":0.2}},\"type\":\"bar\"}],\"carpet\":[{\"aaxis\":{\"endlinecolor\":\"#A2B1C6\",\"gridcolor\":\"#506784\",\"linecolor\":\"#506784\",\"minorgridcolor\":\"#506784\",\"startlinecolor\":\"#A2B1C6\"},\"baxis\":{\"endlinecolor\":\"#A2B1C6\",\"gridcolor\":\"#506784\",\"linecolor\":\"#506784\",\"minorgridcolor\":\"#506784\",\"startlinecolor\":\"#A2B1C6\"},\"type\":\"carpet\"}],\"choropleth\":[{\"colorbar\":{\"outlinewidth\":0,\"ticks\":\"\"},\"type\":\"choropleth\"}],\"contourcarpet\":[{\"colorbar\":{\"outlinewidth\":0,\"ticks\":\"\"},\"type\":\"contourcarpet\"}],\"contour\":[{\"colorbar\":{\"outlinewidth\":0,\"ticks\":\"\"},\"colorscale\":[[0.0,\"#0d0887\"],[0.1111111111111111,\"#46039f\"],[0.2222222222222222,\"#7201a8\"],[0.3333333333333333,\"#9c179e\"],[0.4444444444444444,\"#bd3786\"],[0.5555555555555556,\"#d8576b\"],[0.6666666666666666,\"#ed7953\"],[0.7777777777777778,\"#fb9f3a\"],[0.8888888888888888,\"#fdca26\"],[1.0,\"#f0f921\"]],\"type\":\"contour\"}],\"heatmap\":[{\"colorbar\":{\"outlinewidth\":0,\"ticks\":\"\"},\"colorscale\":[[0.0,\"#0d0887\"],[0.1111111111111111,\"#46039f\"],[0.2222222222222222,\"#7201a8\"],[0.3333333333333333,\"#9c179e\"],[0.4444444444444444,\"#bd3786\"],[0.5555555555555556,\"#d8576b\"],[0.6666666666666666,\"#ed7953\"],[0.7777777777777778,\"#fb9f3a\"],[0.8888888888888888,\"#fdca26\"],[1.0,\"#f0f921\"]],\"type\":\"heatmap\"}],\"histogram2dcontour\":[{\"colorbar\":{\"outlinewidth\":0,\"ticks\":\"\"},\"colorscale\":[[0.0,\"#0d0887\"],[0.1111111111111111,\"#46039f\"],[0.2222222222222222,\"#7201a8\"],[0.3333333333333333,\"#9c179e\"],[0.4444444444444444,\"#bd3786\"],[0.5555555555555556,\"#d8576b\"],[0.6666666666666666,\"#ed7953\"],[0.7777777777777778,\"#fb9f3a\"],[0.8888888888888888,\"#fdca26\"],[1.0,\"#f0f921\"]],\"type\":\"histogram2dcontour\"}],\"histogram2d\":[{\"colorbar\":{\"outlinewidth\":0,\"ticks\":\"\"},\"colorscale\":[[0.0,\"#0d0887\"],[0.1111111111111111,\"#46039f\"],[0.2222222222222222,\"#7201a8\"],[0.3333333333333333,\"#9c179e\"],[0.4444444444444444,\"#bd3786\"],[0.5555555555555556,\"#d8576b\"],[0.6666666666666666,\"#ed7953\"],[0.7777777777777778,\"#fb9f3a\"],[0.8888888888888888,\"#fdca26\"],[1.0,\"#f0f921\"]],\"type\":\"histogram2d\"}],\"histogram\":[{\"marker\":{\"pattern\":{\"fillmode\":\"overlay\",\"size\":10,\"solidity\":0.2}},\"type\":\"histogram\"}],\"mesh3d\":[{\"colorbar\":{\"outlinewidth\":0,\"ticks\":\"\"},\"type\":\"mesh3d\"}],\"parcoords\":[{\"line\":{\"colorbar\":{\"outlinewidth\":0,\"ticks\":\"\"}},\"type\":\"parcoords\"}],\"pie\":[{\"automargin\":true,\"type\":\"pie\"}],\"scatter3d\":[{\"line\":{\"colorbar\":{\"outlinewidth\":0,\"ticks\":\"\"}},\"marker\":{\"colorbar\":{\"outlinewidth\":0,\"ticks\":\"\"}},\"type\":\"scatter3d\"}],\"scattercarpet\":[{\"marker\":{\"colorbar\":{\"outlinewidth\":0,\"ticks\":\"\"}},\"type\":\"scattercarpet\"}],\"scattergeo\":[{\"marker\":{\"colorbar\":{\"outlinewidth\":0,\"ticks\":\"\"}},\"type\":\"scattergeo\"}],\"scattergl\":[{\"marker\":{\"line\":{\"color\":\"#283442\"}},\"type\":\"scattergl\"}],\"scattermapbox\":[{\"marker\":{\"colorbar\":{\"outlinewidth\":0,\"ticks\":\"\"}},\"type\":\"scattermapbox\"}],\"scattermap\":[{\"marker\":{\"colorbar\":{\"outlinewidth\":0,\"ticks\":\"\"}},\"type\":\"scattermap\"}],\"scatterpolargl\":[{\"marker\":{\"colorbar\":{\"outlinewidth\":0,\"ticks\":\"\"}},\"type\":\"scatterpolargl\"}],\"scatterpolar\":[{\"marker\":{\"colorbar\":{\"outlinewidth\":0,\"ticks\":\"\"}},\"type\":\"scatterpolar\"}],\"scatter\":[{\"marker\":{\"line\":{\"color\":\"#283442\"}},\"type\":\"scatter\"}],\"scatterternary\":[{\"marker\":{\"colorbar\":{\"outlinewidth\":0,\"ticks\":\"\"}},\"type\":\"scatterternary\"}],\"surface\":[{\"colorbar\":{\"outlinewidth\":0,\"ticks\":\"\"},\"colorscale\":[[0.0,\"#0d0887\"],[0.1111111111111111,\"#46039f\"],[0.2222222222222222,\"#7201a8\"],[0.3333333333333333,\"#9c179e\"],[0.4444444444444444,\"#bd3786\"],[0.5555555555555556,\"#d8576b\"],[0.6666666666666666,\"#ed7953\"],[0.7777777777777778,\"#fb9f3a\"],[0.8888888888888888,\"#fdca26\"],[1.0,\"#f0f921\"]],\"type\":\"surface\"}],\"table\":[{\"cells\":{\"fill\":{\"color\":\"#506784\"},\"line\":{\"color\":\"rgb(17,17,17)\"}},\"header\":{\"fill\":{\"color\":\"#2a3f5f\"},\"line\":{\"color\":\"rgb(17,17,17)\"}},\"type\":\"table\"}]},\"layout\":{\"annotationdefaults\":{\"arrowcolor\":\"#f2f5fa\",\"arrowhead\":0,\"arrowwidth\":1},\"autotypenumbers\":\"strict\",\"coloraxis\":{\"colorbar\":{\"outlinewidth\":0,\"ticks\":\"\"}},\"colorscale\":{\"diverging\":[[0,\"#8e0152\"],[0.1,\"#c51b7d\"],[0.2,\"#de77ae\"],[0.3,\"#f1b6da\"],[0.4,\"#fde0ef\"],[0.5,\"#f7f7f7\"],[0.6,\"#e6f5d0\"],[0.7,\"#b8e186\"],[0.8,\"#7fbc41\"],[0.9,\"#4d9221\"],[1,\"#276419\"]],\"sequential\":[[0.0,\"#0d0887\"],[0.1111111111111111,\"#46039f\"],[0.2222222222222222,\"#7201a8\"],[0.3333333333333333,\"#9c179e\"],[0.4444444444444444,\"#bd3786\"],[0.5555555555555556,\"#d8576b\"],[0.6666666666666666,\"#ed7953\"],[0.7777777777777778,\"#fb9f3a\"],[0.8888888888888888,\"#fdca26\"],[1.0,\"#f0f921\"]],\"sequentialminus\":[[0.0,\"#0d0887\"],[0.1111111111111111,\"#46039f\"],[0.2222222222222222,\"#7201a8\"],[0.3333333333333333,\"#9c179e\"],[0.4444444444444444,\"#bd3786\"],[0.5555555555555556,\"#d8576b\"],[0.6666666666666666,\"#ed7953\"],[0.7777777777777778,\"#fb9f3a\"],[0.8888888888888888,\"#fdca26\"],[1.0,\"#f0f921\"]]},\"colorway\":[\"#636efa\",\"#EF553B\",\"#00cc96\",\"#ab63fa\",\"#FFA15A\",\"#19d3f3\",\"#FF6692\",\"#B6E880\",\"#FF97FF\",\"#FECB52\"],\"font\":{\"color\":\"#f2f5fa\"},\"geo\":{\"bgcolor\":\"rgb(17,17,17)\",\"lakecolor\":\"rgb(17,17,17)\",\"landcolor\":\"rgb(17,17,17)\",\"showlakes\":true,\"showland\":true,\"subunitcolor\":\"#506784\"},\"hoverlabel\":{\"align\":\"left\"},\"hovermode\":\"closest\",\"mapbox\":{\"style\":\"dark\"},\"paper_bgcolor\":\"rgb(17,17,17)\",\"plot_bgcolor\":\"rgb(17,17,17)\",\"polar\":{\"angularaxis\":{\"gridcolor\":\"#506784\",\"linecolor\":\"#506784\",\"ticks\":\"\"},\"bgcolor\":\"rgb(17,17,17)\",\"radialaxis\":{\"gridcolor\":\"#506784\",\"linecolor\":\"#506784\",\"ticks\":\"\"}},\"scene\":{\"xaxis\":{\"backgroundcolor\":\"rgb(17,17,17)\",\"gridcolor\":\"#506784\",\"gridwidth\":2,\"linecolor\":\"#506784\",\"showbackground\":true,\"ticks\":\"\",\"zerolinecolor\":\"#C8D4E3\"},\"yaxis\":{\"backgroundcolor\":\"rgb(17,17,17)\",\"gridcolor\":\"#506784\",\"gridwidth\":2,\"linecolor\":\"#506784\",\"showbackground\":true,\"ticks\":\"\",\"zerolinecolor\":\"#C8D4E3\"},\"zaxis\":{\"backgroundcolor\":\"rgb(17,17,17)\",\"gridcolor\":\"#506784\",\"gridwidth\":2,\"linecolor\":\"#506784\",\"showbackground\":true,\"ticks\":\"\",\"zerolinecolor\":\"#C8D4E3\"}},\"shapedefaults\":{\"line\":{\"color\":\"#f2f5fa\"}},\"sliderdefaults\":{\"bgcolor\":\"#C8D4E3\",\"bordercolor\":\"rgb(17,17,17)\",\"borderwidth\":1,\"tickwidth\":0},\"ternary\":{\"aaxis\":{\"gridcolor\":\"#506784\",\"linecolor\":\"#506784\",\"ticks\":\"\"},\"baxis\":{\"gridcolor\":\"#506784\",\"linecolor\":\"#506784\",\"ticks\":\"\"},\"bgcolor\":\"rgb(17,17,17)\",\"caxis\":{\"gridcolor\":\"#506784\",\"linecolor\":\"#506784\",\"ticks\":\"\"}},\"title\":{\"x\":0.05},\"updatemenudefaults\":{\"bgcolor\":\"#506784\",\"borderwidth\":0},\"xaxis\":{\"automargin\":true,\"gridcolor\":\"#283442\",\"linecolor\":\"#506784\",\"ticks\":\"\",\"title\":{\"standoff\":15},\"zerolinecolor\":\"#283442\",\"zerolinewidth\":2},\"yaxis\":{\"automargin\":true,\"gridcolor\":\"#283442\",\"linecolor\":\"#506784\",\"ticks\":\"\",\"title\":{\"standoff\":15},\"zerolinecolor\":\"#283442\",\"zerolinewidth\":2}}},\"xaxis\":{\"rangeslider\":{\"visible\":false},\"title\":{\"text\":\"Fecha\"}},\"title\":{\"text\":\"\\ud83d\\udcc9 SMCI - Velas agrupadas cada 3 d\\u00edas\"},\"yaxis\":{\"title\":{\"text\":\"Precio\"}}},                        {\"responsive\": true}                    ).then(function(){\n",
       "                            \n",
       "var gd = document.getElementById('14aeabc8-e3e5-4cbe-86b4-e492473c04a5');\n",
       "var x = new MutationObserver(function (mutations, observer) {{\n",
       "        var display = window.getComputedStyle(gd).display;\n",
       "        if (!display || display === 'none') {{\n",
       "            console.log([gd, 'removed!']);\n",
       "            Plotly.purge(gd);\n",
       "            observer.disconnect();\n",
       "        }}\n",
       "}});\n",
       "\n",
       "// Listen for the removal of the full notebook cells\n",
       "var notebookContainer = gd.closest('#notebook-container');\n",
       "if (notebookContainer) {{\n",
       "    x.observe(notebookContainer, {childList: true});\n",
       "}}\n",
       "\n",
       "// Listen for the clearing of the current output cell\n",
       "var outputEl = gd.closest('.output');\n",
       "if (outputEl) {{\n",
       "    x.observe(outputEl, {childList: true});\n",
       "}}\n",
       "\n",
       "                        })                };            </script>        </div>"
      ]
     },
     "metadata": {},
     "output_type": "display_data"
    }
   ],
   "source": [
    "import pandas as pd\n",
    "import plotly.graph_objects as go\n",
    "from pathlib import Path\n",
    "\n",
    "# === Cargar histórico ===\n",
    "ruta = Path(\"D:/trading/data/historic_reciente/SMCI.parquet\")\n",
    "df = pd.read_parquet(ruta)\n",
    "df[\"fecha\"] = pd.to_datetime(df[\"fecha\"])\n",
    "df = df.sort_values(\"fecha\")\n",
    "\n",
    "# Agrupar en bloques de 3 días\n",
    "df[\"grupo\"] = (df.index // 1)\n",
    "\n",
    "df_resample = df.groupby(\"grupo\").agg({\n",
    "    \"fecha\": \"first\",\n",
    "    \"open\": \"first\",\n",
    "    \"high\": \"max\",\n",
    "    \"low\": \"min\",\n",
    "    \"close\": \"last\",\n",
    "    \"volume\": \"sum\"\n",
    "}).reset_index(drop=True)\n",
    "\n",
    "# === Graficar ===\n",
    "fig = go.Figure(data=[\n",
    "    go.Candlestick(\n",
    "        x=df_resample[\"fecha\"],\n",
    "        open=df_resample[\"open\"],\n",
    "        high=df_resample[\"high\"],\n",
    "        low=df_resample[\"low\"],\n",
    "        close=df_resample[\"close\"],\n",
    "        name=\"SMCI (3D velas)\"\n",
    "    )\n",
    "])\n",
    "\n",
    "fig.update_layout(\n",
    "    title=\"📉 SMCI - Velas agrupadas cada 3 días\",\n",
    "    xaxis_title=\"Fecha\",\n",
    "    yaxis_title=\"Precio\",\n",
    "    xaxis_rangeslider_visible=False,\n",
    "    template=\"plotly_dark\"\n",
    ")\n",
    "\n",
    "fig.show()\n"
   ]
  },
  {
   "cell_type": "code",
   "execution_count": 14,
   "id": "0cfba0dd-cf53-4d5a-9c9b-1f8b31b6a3f8",
   "metadata": {},
   "outputs": [
    {
     "ename": "KeyError",
     "evalue": "'close'",
     "output_type": "error",
     "traceback": [
      "\u001b[31m---------------------------------------------------------------------------\u001b[39m",
      "\u001b[31mKeyError\u001b[39m                                  Traceback (most recent call last)",
      "\u001b[36mFile \u001b[39m\u001b[32mD:\\trading_env\\Lib\\site-packages\\pandas\\core\\indexes\\base.py:3805\u001b[39m, in \u001b[36mIndex.get_loc\u001b[39m\u001b[34m(self, key)\u001b[39m\n\u001b[32m   3804\u001b[39m \u001b[38;5;28;01mtry\u001b[39;00m:\n\u001b[32m-> \u001b[39m\u001b[32m3805\u001b[39m     \u001b[38;5;28;01mreturn\u001b[39;00m \u001b[38;5;28;43mself\u001b[39;49m\u001b[43m.\u001b[49m\u001b[43m_engine\u001b[49m\u001b[43m.\u001b[49m\u001b[43mget_loc\u001b[49m\u001b[43m(\u001b[49m\u001b[43mcasted_key\u001b[49m\u001b[43m)\u001b[49m\n\u001b[32m   3806\u001b[39m \u001b[38;5;28;01mexcept\u001b[39;00m \u001b[38;5;167;01mKeyError\u001b[39;00m \u001b[38;5;28;01mas\u001b[39;00m err:\n",
      "\u001b[36mFile \u001b[39m\u001b[32mindex.pyx:167\u001b[39m, in \u001b[36mpandas._libs.index.IndexEngine.get_loc\u001b[39m\u001b[34m()\u001b[39m\n",
      "\u001b[36mFile \u001b[39m\u001b[32mindex.pyx:196\u001b[39m, in \u001b[36mpandas._libs.index.IndexEngine.get_loc\u001b[39m\u001b[34m()\u001b[39m\n",
      "\u001b[36mFile \u001b[39m\u001b[32mpandas\\\\_libs\\\\hashtable_class_helper.pxi:7081\u001b[39m, in \u001b[36mpandas._libs.hashtable.PyObjectHashTable.get_item\u001b[39m\u001b[34m()\u001b[39m\n",
      "\u001b[36mFile \u001b[39m\u001b[32mpandas\\\\_libs\\\\hashtable_class_helper.pxi:7089\u001b[39m, in \u001b[36mpandas._libs.hashtable.PyObjectHashTable.get_item\u001b[39m\u001b[34m()\u001b[39m\n",
      "\u001b[31mKeyError\u001b[39m: 'close'",
      "\nThe above exception was the direct cause of the following exception:\n",
      "\u001b[31mKeyError\u001b[39m                                  Traceback (most recent call last)",
      "\u001b[36mCell\u001b[39m\u001b[36m \u001b[39m\u001b[32mIn[14]\u001b[39m\u001b[32m, line 46\u001b[39m\n\u001b[32m     42\u001b[39m \u001b[38;5;66;03m# === Añadir señales BUY ===\u001b[39;00m\n\u001b[32m     43\u001b[39m df_buy = df_merge[df_merge[\u001b[33m\"\u001b[39m\u001b[33msignal\u001b[39m\u001b[33m\"\u001b[39m].str.lower() == \u001b[33m\"\u001b[39m\u001b[33mbuy\u001b[39m\u001b[33m\"\u001b[39m]\n\u001b[32m     44\u001b[39m fig.add_trace(go.Scatter(\n\u001b[32m     45\u001b[39m     x=df_buy[\u001b[33m\"\u001b[39m\u001b[33mfecha\u001b[39m\u001b[33m\"\u001b[39m],\n\u001b[32m---> \u001b[39m\u001b[32m46\u001b[39m     y=\u001b[43mdf_buy\u001b[49m\u001b[43m[\u001b[49m\u001b[33;43m\"\u001b[39;49m\u001b[33;43mclose\u001b[39;49m\u001b[33;43m\"\u001b[39;49m\u001b[43m]\u001b[49m,\n\u001b[32m     47\u001b[39m     mode=\u001b[33m\"\u001b[39m\u001b[33mmarkers+text\u001b[39m\u001b[33m\"\u001b[39m,\n\u001b[32m     48\u001b[39m     name=\u001b[33m\"\u001b[39m\u001b[33mBUY\u001b[39m\u001b[33m\"\u001b[39m,\n\u001b[32m     49\u001b[39m     text=[\u001b[33m\"\u001b[39m\u001b[33mBUY\u001b[39m\u001b[33m\"\u001b[39m] * \u001b[38;5;28mlen\u001b[39m(df_buy),\n\u001b[32m     50\u001b[39m     textposition=\u001b[33m\"\u001b[39m\u001b[33mbottom center\u001b[39m\u001b[33m\"\u001b[39m,\n\u001b[32m     51\u001b[39m     marker=\u001b[38;5;28mdict\u001b[39m(color=\u001b[33m\"\u001b[39m\u001b[33mlime\u001b[39m\u001b[33m\"\u001b[39m, size=\u001b[32m10\u001b[39m, symbol=\u001b[33m\"\u001b[39m\u001b[33mtriangle-up\u001b[39m\u001b[33m\"\u001b[39m)\n\u001b[32m     52\u001b[39m ))\n\u001b[32m     54\u001b[39m \u001b[38;5;66;03m# === Añadir señales SELL ===\u001b[39;00m\n\u001b[32m     55\u001b[39m df_sell = df_merge[df_merge[\u001b[33m\"\u001b[39m\u001b[33msignal\u001b[39m\u001b[33m\"\u001b[39m].str.lower() == \u001b[33m\"\u001b[39m\u001b[33msell\u001b[39m\u001b[33m\"\u001b[39m]\n",
      "\u001b[36mFile \u001b[39m\u001b[32mD:\\trading_env\\Lib\\site-packages\\pandas\\core\\frame.py:4102\u001b[39m, in \u001b[36mDataFrame.__getitem__\u001b[39m\u001b[34m(self, key)\u001b[39m\n\u001b[32m   4100\u001b[39m \u001b[38;5;28;01mif\u001b[39;00m \u001b[38;5;28mself\u001b[39m.columns.nlevels > \u001b[32m1\u001b[39m:\n\u001b[32m   4101\u001b[39m     \u001b[38;5;28;01mreturn\u001b[39;00m \u001b[38;5;28mself\u001b[39m._getitem_multilevel(key)\n\u001b[32m-> \u001b[39m\u001b[32m4102\u001b[39m indexer = \u001b[38;5;28;43mself\u001b[39;49m\u001b[43m.\u001b[49m\u001b[43mcolumns\u001b[49m\u001b[43m.\u001b[49m\u001b[43mget_loc\u001b[49m\u001b[43m(\u001b[49m\u001b[43mkey\u001b[49m\u001b[43m)\u001b[49m\n\u001b[32m   4103\u001b[39m \u001b[38;5;28;01mif\u001b[39;00m is_integer(indexer):\n\u001b[32m   4104\u001b[39m     indexer = [indexer]\n",
      "\u001b[36mFile \u001b[39m\u001b[32mD:\\trading_env\\Lib\\site-packages\\pandas\\core\\indexes\\base.py:3812\u001b[39m, in \u001b[36mIndex.get_loc\u001b[39m\u001b[34m(self, key)\u001b[39m\n\u001b[32m   3807\u001b[39m     \u001b[38;5;28;01mif\u001b[39;00m \u001b[38;5;28misinstance\u001b[39m(casted_key, \u001b[38;5;28mslice\u001b[39m) \u001b[38;5;129;01mor\u001b[39;00m (\n\u001b[32m   3808\u001b[39m         \u001b[38;5;28misinstance\u001b[39m(casted_key, abc.Iterable)\n\u001b[32m   3809\u001b[39m         \u001b[38;5;129;01mand\u001b[39;00m \u001b[38;5;28many\u001b[39m(\u001b[38;5;28misinstance\u001b[39m(x, \u001b[38;5;28mslice\u001b[39m) \u001b[38;5;28;01mfor\u001b[39;00m x \u001b[38;5;129;01min\u001b[39;00m casted_key)\n\u001b[32m   3810\u001b[39m     ):\n\u001b[32m   3811\u001b[39m         \u001b[38;5;28;01mraise\u001b[39;00m InvalidIndexError(key)\n\u001b[32m-> \u001b[39m\u001b[32m3812\u001b[39m     \u001b[38;5;28;01mraise\u001b[39;00m \u001b[38;5;167;01mKeyError\u001b[39;00m(key) \u001b[38;5;28;01mfrom\u001b[39;00m\u001b[38;5;250m \u001b[39m\u001b[34;01merr\u001b[39;00m\n\u001b[32m   3813\u001b[39m \u001b[38;5;28;01mexcept\u001b[39;00m \u001b[38;5;167;01mTypeError\u001b[39;00m:\n\u001b[32m   3814\u001b[39m     \u001b[38;5;66;03m# If we have a listlike key, _check_indexing_error will raise\u001b[39;00m\n\u001b[32m   3815\u001b[39m     \u001b[38;5;66;03m#  InvalidIndexError. Otherwise we fall through and re-raise\u001b[39;00m\n\u001b[32m   3816\u001b[39m     \u001b[38;5;66;03m#  the TypeError.\u001b[39;00m\n\u001b[32m   3817\u001b[39m     \u001b[38;5;28mself\u001b[39m._check_indexing_error(key)\n",
      "\u001b[31mKeyError\u001b[39m: 'close'"
     ]
    }
   ],
   "source": [
    "import pandas as pd\n",
    "import plotly.graph_objects as go\n",
    "from pathlib import Path\n",
    "\n",
    "# === Cargar histórico ===\n",
    "ruta_hist = Path(\"D:/trading/data/historic_reciente/SMCI.parquet\")\n",
    "df = pd.read_parquet(ruta_hist)\n",
    "df[\"fecha\"] = pd.to_datetime(df[\"fecha\"])\n",
    "df = df.sort_values(\"fecha\").reset_index(drop=True)\n",
    "\n",
    "# Agrupar en bloques de 3 días\n",
    "df[\"grupo\"] = (df.index // 3)\n",
    "df_candle = df.groupby(\"grupo\").agg({\n",
    "    \"fecha\": \"first\",\n",
    "    \"open\": \"first\",\n",
    "    \"high\": \"max\",\n",
    "    \"low\": \"min\",\n",
    "    \"close\": \"last\",\n",
    "    \"volume\": \"sum\"\n",
    "}).reset_index(drop=True)\n",
    "\n",
    "# === Cargar señales ===\n",
    "ruta_senales = Path(\"D:/trading/reports/senales_heuristicas/diarias/SMCI_senales_diarias.csv\")\n",
    "df_senales = pd.read_csv(ruta_senales)\n",
    "df_senales[\"fecha\"] = pd.to_datetime(df_senales[\"fecha\"])\n",
    "\n",
    "# Unir señales con histórico diario para obtener precios\n",
    "df_merge = pd.merge(df_senales, df[[\"fecha\", \"close\"]], on=\"fecha\", how=\"left\")\n",
    "\n",
    "# === Crear gráfico de velas ===\n",
    "fig = go.Figure()\n",
    "\n",
    "fig.add_trace(go.Candlestick(\n",
    "    x=df_candle[\"fecha\"],\n",
    "    open=df_candle[\"open\"],\n",
    "    high=df_candle[\"high\"],\n",
    "    low=df_candle[\"low\"],\n",
    "    close=df_candle[\"close\"],\n",
    "    name=\"SMCI (3D velas)\"\n",
    "))\n",
    "\n",
    "# === Añadir señales BUY ===\n",
    "df_buy = df_merge[df_merge[\"signal\"].str.lower() == \"buy\"]\n",
    "fig.add_trace(go.Scatter(\n",
    "    x=df_buy[\"fecha\"],\n",
    "    y=df_buy[\"close\"],\n",
    "    mode=\"markers+text\",\n",
    "    name=\"BUY\",\n",
    "    text=[\"BUY\"] * len(df_buy),\n",
    "    textposition=\"bottom center\",\n",
    "    marker=dict(color=\"lime\", size=10, symbol=\"triangle-up\")\n",
    "))\n",
    "\n",
    "# === Añadir señales SELL ===\n",
    "df_sell = df_merge[df_merge[\"signal\"].str.lower() == \"sell\"]\n",
    "fig.add_trace(go.Scatter(\n",
    "    x=df_sell[\"fecha\"],\n",
    "    y=df_sell[\"close\"],\n",
    "    mode=\"markers+text\",\n",
    "    name=\"SELL\",\n",
    "    text=[\"SELL\"] * len(df_sell),\n",
    "    textposition=\"top center\",\n",
    "    marker=dict(color=\"red\", size=10, symbol=\"triangle-down\")\n",
    "))\n",
    "\n",
    "# === Estilo ===\n",
    "fig.update_layout(\n",
    "    title=\"📈 SMCI - Velas 3 días + Señales Heurísticas\",\n",
    "    xaxis_title=\"Fecha\",\n",
    "    yaxis_title=\"Precio\",\n",
    "    xaxis_rangeslider_visible=False,\n",
    "    template=\"plotly_white\",\n",
    "    height=600\n",
    ")\n",
    "\n",
    "fig.show()\n",
    "\n"
   ]
  },
  {
   "cell_type": "code",
   "execution_count": 15,
   "id": "e7143844-e076-4441-9282-05e20a10c7f8",
   "metadata": {},
   "outputs": [
    {
     "ename": "KeyError",
     "evalue": "'close'",
     "output_type": "error",
     "traceback": [
      "\u001b[31m---------------------------------------------------------------------------\u001b[39m",
      "\u001b[31mKeyError\u001b[39m                                  Traceback (most recent call last)",
      "\u001b[36mFile \u001b[39m\u001b[32mD:\\trading_env\\Lib\\site-packages\\pandas\\core\\indexes\\base.py:3805\u001b[39m, in \u001b[36mIndex.get_loc\u001b[39m\u001b[34m(self, key)\u001b[39m\n\u001b[32m   3804\u001b[39m \u001b[38;5;28;01mtry\u001b[39;00m:\n\u001b[32m-> \u001b[39m\u001b[32m3805\u001b[39m     \u001b[38;5;28;01mreturn\u001b[39;00m \u001b[38;5;28;43mself\u001b[39;49m\u001b[43m.\u001b[49m\u001b[43m_engine\u001b[49m\u001b[43m.\u001b[49m\u001b[43mget_loc\u001b[49m\u001b[43m(\u001b[49m\u001b[43mcasted_key\u001b[49m\u001b[43m)\u001b[49m\n\u001b[32m   3806\u001b[39m \u001b[38;5;28;01mexcept\u001b[39;00m \u001b[38;5;167;01mKeyError\u001b[39;00m \u001b[38;5;28;01mas\u001b[39;00m err:\n",
      "\u001b[36mFile \u001b[39m\u001b[32mindex.pyx:167\u001b[39m, in \u001b[36mpandas._libs.index.IndexEngine.get_loc\u001b[39m\u001b[34m()\u001b[39m\n",
      "\u001b[36mFile \u001b[39m\u001b[32mindex.pyx:196\u001b[39m, in \u001b[36mpandas._libs.index.IndexEngine.get_loc\u001b[39m\u001b[34m()\u001b[39m\n",
      "\u001b[36mFile \u001b[39m\u001b[32mpandas\\\\_libs\\\\hashtable_class_helper.pxi:7081\u001b[39m, in \u001b[36mpandas._libs.hashtable.PyObjectHashTable.get_item\u001b[39m\u001b[34m()\u001b[39m\n",
      "\u001b[36mFile \u001b[39m\u001b[32mpandas\\\\_libs\\\\hashtable_class_helper.pxi:7089\u001b[39m, in \u001b[36mpandas._libs.hashtable.PyObjectHashTable.get_item\u001b[39m\u001b[34m()\u001b[39m\n",
      "\u001b[31mKeyError\u001b[39m: 'close'",
      "\nThe above exception was the direct cause of the following exception:\n",
      "\u001b[31mKeyError\u001b[39m                                  Traceback (most recent call last)",
      "\u001b[36mCell\u001b[39m\u001b[36m \u001b[39m\u001b[32mIn[15]\u001b[39m\u001b[32m, line 52\u001b[39m\n\u001b[32m     40\u001b[39m fig.add_trace(go.Candlestick(\n\u001b[32m     41\u001b[39m     x=df_candle[\u001b[33m\"\u001b[39m\u001b[33mfecha\u001b[39m\u001b[33m\"\u001b[39m],\n\u001b[32m     42\u001b[39m     \u001b[38;5;28mopen\u001b[39m=df_candle[\u001b[33m\"\u001b[39m\u001b[33mopen\u001b[39m\u001b[33m\"\u001b[39m],\n\u001b[32m   (...)\u001b[39m\u001b[32m     46\u001b[39m     name=\u001b[33m\"\u001b[39m\u001b[33mVelas 3D\u001b[39m\u001b[33m\"\u001b[39m\n\u001b[32m     47\u001b[39m ))\n\u001b[32m     49\u001b[39m \u001b[38;5;28;01mif\u001b[39;00m \u001b[38;5;129;01mnot\u001b[39;00m df_buy.empty:\n\u001b[32m     50\u001b[39m     fig.add_trace(go.Scatter(\n\u001b[32m     51\u001b[39m         x=df_buy[\u001b[33m\"\u001b[39m\u001b[33mfecha\u001b[39m\u001b[33m\"\u001b[39m],\n\u001b[32m---> \u001b[39m\u001b[32m52\u001b[39m         y=\u001b[43mdf_buy\u001b[49m\u001b[43m[\u001b[49m\u001b[33;43m\"\u001b[39;49m\u001b[33;43mclose\u001b[39;49m\u001b[33;43m\"\u001b[39;49m\u001b[43m]\u001b[49m,\n\u001b[32m     53\u001b[39m         mode=\u001b[33m\"\u001b[39m\u001b[33mmarkers+text\u001b[39m\u001b[33m\"\u001b[39m,\n\u001b[32m     54\u001b[39m         name=\u001b[33m\"\u001b[39m\u001b[33mBUY\u001b[39m\u001b[33m\"\u001b[39m,\n\u001b[32m     55\u001b[39m         text=[\u001b[33m\"\u001b[39m\u001b[33mBUY\u001b[39m\u001b[33m\"\u001b[39m] * \u001b[38;5;28mlen\u001b[39m(df_buy),\n\u001b[32m     56\u001b[39m         textposition=\u001b[33m\"\u001b[39m\u001b[33mbottom center\u001b[39m\u001b[33m\"\u001b[39m,\n\u001b[32m     57\u001b[39m         marker=\u001b[38;5;28mdict\u001b[39m(color=\u001b[33m\"\u001b[39m\u001b[33mlime\u001b[39m\u001b[33m\"\u001b[39m, size=\u001b[32m10\u001b[39m, symbol=\u001b[33m\"\u001b[39m\u001b[33mtriangle-up\u001b[39m\u001b[33m\"\u001b[39m)\n\u001b[32m     58\u001b[39m     ))\n\u001b[32m     60\u001b[39m \u001b[38;5;28;01mif\u001b[39;00m \u001b[38;5;129;01mnot\u001b[39;00m df_sell.empty:\n\u001b[32m     61\u001b[39m     fig.add_trace(go.Scatter(\n\u001b[32m     62\u001b[39m         x=df_sell[\u001b[33m\"\u001b[39m\u001b[33mfecha\u001b[39m\u001b[33m\"\u001b[39m],\n\u001b[32m     63\u001b[39m         y=df_sell[\u001b[33m\"\u001b[39m\u001b[33mclose\u001b[39m\u001b[33m\"\u001b[39m],\n\u001b[32m   (...)\u001b[39m\u001b[32m     68\u001b[39m         marker=\u001b[38;5;28mdict\u001b[39m(color=\u001b[33m\"\u001b[39m\u001b[33mred\u001b[39m\u001b[33m\"\u001b[39m, size=\u001b[32m10\u001b[39m, symbol=\u001b[33m\"\u001b[39m\u001b[33mtriangle-down\u001b[39m\u001b[33m\"\u001b[39m)\n\u001b[32m     69\u001b[39m     ))\n",
      "\u001b[36mFile \u001b[39m\u001b[32mD:\\trading_env\\Lib\\site-packages\\pandas\\core\\frame.py:4102\u001b[39m, in \u001b[36mDataFrame.__getitem__\u001b[39m\u001b[34m(self, key)\u001b[39m\n\u001b[32m   4100\u001b[39m \u001b[38;5;28;01mif\u001b[39;00m \u001b[38;5;28mself\u001b[39m.columns.nlevels > \u001b[32m1\u001b[39m:\n\u001b[32m   4101\u001b[39m     \u001b[38;5;28;01mreturn\u001b[39;00m \u001b[38;5;28mself\u001b[39m._getitem_multilevel(key)\n\u001b[32m-> \u001b[39m\u001b[32m4102\u001b[39m indexer = \u001b[38;5;28;43mself\u001b[39;49m\u001b[43m.\u001b[49m\u001b[43mcolumns\u001b[49m\u001b[43m.\u001b[49m\u001b[43mget_loc\u001b[49m\u001b[43m(\u001b[49m\u001b[43mkey\u001b[49m\u001b[43m)\u001b[49m\n\u001b[32m   4103\u001b[39m \u001b[38;5;28;01mif\u001b[39;00m is_integer(indexer):\n\u001b[32m   4104\u001b[39m     indexer = [indexer]\n",
      "\u001b[36mFile \u001b[39m\u001b[32mD:\\trading_env\\Lib\\site-packages\\pandas\\core\\indexes\\base.py:3812\u001b[39m, in \u001b[36mIndex.get_loc\u001b[39m\u001b[34m(self, key)\u001b[39m\n\u001b[32m   3807\u001b[39m     \u001b[38;5;28;01mif\u001b[39;00m \u001b[38;5;28misinstance\u001b[39m(casted_key, \u001b[38;5;28mslice\u001b[39m) \u001b[38;5;129;01mor\u001b[39;00m (\n\u001b[32m   3808\u001b[39m         \u001b[38;5;28misinstance\u001b[39m(casted_key, abc.Iterable)\n\u001b[32m   3809\u001b[39m         \u001b[38;5;129;01mand\u001b[39;00m \u001b[38;5;28many\u001b[39m(\u001b[38;5;28misinstance\u001b[39m(x, \u001b[38;5;28mslice\u001b[39m) \u001b[38;5;28;01mfor\u001b[39;00m x \u001b[38;5;129;01min\u001b[39;00m casted_key)\n\u001b[32m   3810\u001b[39m     ):\n\u001b[32m   3811\u001b[39m         \u001b[38;5;28;01mraise\u001b[39;00m InvalidIndexError(key)\n\u001b[32m-> \u001b[39m\u001b[32m3812\u001b[39m     \u001b[38;5;28;01mraise\u001b[39;00m \u001b[38;5;167;01mKeyError\u001b[39;00m(key) \u001b[38;5;28;01mfrom\u001b[39;00m\u001b[38;5;250m \u001b[39m\u001b[34;01merr\u001b[39;00m\n\u001b[32m   3813\u001b[39m \u001b[38;5;28;01mexcept\u001b[39;00m \u001b[38;5;167;01mTypeError\u001b[39;00m:\n\u001b[32m   3814\u001b[39m     \u001b[38;5;66;03m# If we have a listlike key, _check_indexing_error will raise\u001b[39;00m\n\u001b[32m   3815\u001b[39m     \u001b[38;5;66;03m#  InvalidIndexError. Otherwise we fall through and re-raise\u001b[39;00m\n\u001b[32m   3816\u001b[39m     \u001b[38;5;66;03m#  the TypeError.\u001b[39;00m\n\u001b[32m   3817\u001b[39m     \u001b[38;5;28mself\u001b[39m._check_indexing_error(key)\n",
      "\u001b[31mKeyError\u001b[39m: 'close'"
     ]
    }
   ],
   "source": [
    "import pandas as pd\n",
    "import plotly.graph_objects as go\n",
    "from pathlib import Path\n",
    "\n",
    "# === Cargar histórico ===\n",
    "ruta_hist = Path(\"D:/trading/data/historic_reciente/SMCI.parquet\")\n",
    "df = pd.read_parquet(ruta_hist)\n",
    "df[\"fecha\"] = pd.to_datetime(df[\"fecha\"])\n",
    "df = df.sort_values(\"fecha\").reset_index(drop=True)\n",
    "\n",
    "# Agrupar en bloques de 3 días\n",
    "df[\"grupo\"] = df.index // 3\n",
    "df_candle = df.groupby(\"grupo\").agg({\n",
    "    \"fecha\": \"first\",\n",
    "    \"open\": \"first\",\n",
    "    \"high\": \"max\",\n",
    "    \"low\": \"min\",\n",
    "    \"close\": \"last\",\n",
    "    \"volume\": \"sum\"\n",
    "}).reset_index(drop=True)\n",
    "\n",
    "# === Cargar señales ===\n",
    "ruta_senales = Path(\"D:/trading/reports/senales_heuristicas/diarias/SMCI_senales_diarias.csv\")\n",
    "if ruta_senales.exists():\n",
    "    df_senales = pd.read_csv(ruta_senales)\n",
    "    df_senales[\"fecha\"] = pd.to_datetime(df_senales[\"fecha\"])\n",
    "\n",
    "    # Unir señales con cierre\n",
    "    df_merged = pd.merge(df_senales, df[[\"fecha\", \"close\"]], on=\"fecha\", how=\"left\")\n",
    "\n",
    "    df_buy = df_merged[df_merged[\"signal\"].str.lower() == \"buy\"]\n",
    "    df_sell = df_merged[df_merged[\"signal\"].str.lower() == \"sell\"]\n",
    "else:\n",
    "    df_buy = df_sell = pd.DataFrame()\n",
    "    print(\"⚠️ No se encontraron señales heurísticas para SMCI.\")\n",
    "\n",
    "# === Crear gráfico ===\n",
    "fig = go.Figure()\n",
    "\n",
    "fig.add_trace(go.Candlestick(\n",
    "    x=df_candle[\"fecha\"],\n",
    "    open=df_candle[\"open\"],\n",
    "    high=df_candle[\"high\"],\n",
    "    low=df_candle[\"low\"],\n",
    "    close=df_candle[\"close\"],\n",
    "    name=\"Velas 3D\"\n",
    "))\n",
    "\n",
    "if not df_buy.empty:\n",
    "    fig.add_trace(go.Scatter(\n",
    "        x=df_buy[\"fecha\"],\n",
    "        y=df_buy[\"close\"],\n",
    "        mode=\"markers+text\",\n",
    "        name=\"BUY\",\n",
    "        text=[\"BUY\"] * len(df_buy),\n",
    "        textposition=\"bottom center\",\n",
    "        marker=dict(color=\"lime\", size=10, symbol=\"triangle-up\")\n",
    "    ))\n",
    "\n",
    "if not df_sell.empty:\n",
    "    fig.add_trace(go.Scatter(\n",
    "        x=df_sell[\"fecha\"],\n",
    "        y=df_sell[\"close\"],\n",
    "        mode=\"markers+text\",\n",
    "        name=\"SELL\",\n",
    "        text=[\"SELL\"] * len(df_sell),\n",
    "        textposition=\"top center\",\n",
    "        marker=dict(color=\"red\", size=10, symbol=\"triangle-down\")\n",
    "    ))\n",
    "\n",
    "fig.update_layout(\n",
    "    title=\"📈 SMCI - Velas agrupadas (3 días) con señales heurísticas\",\n",
    "    xaxis_title=\"Fecha\",\n",
    "    yaxis_title=\"Precio\",\n",
    "    xaxis_rangeslider_visible=False,\n",
    "    template=\"plotly_white\",\n",
    "    height=600\n",
    ")\n",
    "\n",
    "fig.show()\n"
   ]
  },
  {
   "cell_type": "code",
   "execution_count": null,
   "id": "89af10c1-255a-4f57-a8a3-36e379598f93",
   "metadata": {},
   "outputs": [],
   "source": []
  }
 ],
 "metadata": {
  "kernelspec": {
   "display_name": "Python 3 (ipykernel)",
   "language": "python",
   "name": "python3"
  },
  "language_info": {
   "codemirror_mode": {
    "name": "ipython",
    "version": 3
   },
   "file_extension": ".py",
   "mimetype": "text/x-python",
   "name": "python",
   "nbconvert_exporter": "python",
   "pygments_lexer": "ipython3",
   "version": "3.11.9"
  }
 },
 "nbformat": 4,
 "nbformat_minor": 5
}
