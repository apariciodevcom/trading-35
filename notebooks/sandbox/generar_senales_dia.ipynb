{
 "cells": [
  {
   "cell_type": "code",
   "execution_count": 1,
   "id": "f67aec38-6a1f-4365-b600-fe5f3b4a0e57",
   "metadata": {},
   "outputs": [],
   "source": [
    "import time\n",
    "start1 = time.time()"
   ]
  },
  {
   "cell_type": "code",
   "execution_count": 2,
   "id": "17e5bf0c-62a6-49a0-b86e-dac542fc3cbe",
   "metadata": {},
   "outputs": [
    {
     "name": "stdout",
     "output_type": "stream",
     "text": [
      "⏭️ Ingesta omitida. Continuando con el proceso...\n"
     ]
    }
   ],
   "source": [
    "from nbconvert.preprocessors import ExecutePreprocessor\n",
    "import nbformat\n",
    "\n",
    "# ✅ Flag de control\n",
    "ejecutar_ingestion = False  # ← cambialo a True si querés ejecutar la ingesta\n",
    "\n",
    "if ejecutar_ingestion:\n",
    "    ruta_ingesta = \"D:/trading/notebooks/sandbox/test_ingestion_Twelve_Data_API.ipynb\"\n",
    "    with open(ruta_ingesta, encoding=\"utf-8\") as f:\n",
    "        nb = nbformat.read(f, as_version=4)\n",
    "\n",
    "    print(\"🚀 Ejecutando notebook de ingesta de datos...\")\n",
    "    ep = ExecutePreprocessor(timeout=600, kernel_name=\"python3\")\n",
    "    ep.preprocess(nb, {\"metadata\": {\"path\": \"D:/trading/notebooks/sandbox\"}})\n",
    "    print(\"✅ Ingesta finalizada.\")\n",
    "else:\n",
    "    print(\"⏭️ Ingesta omitida. Continuando con el proceso...\")\n"
   ]
  },
  {
   "cell_type": "code",
   "execution_count": 3,
   "id": "7f026df8-141c-4361-9c17-324ea5fdea8e",
   "metadata": {},
   "outputs": [],
   "source": [
    "# ✅ Paso 2: Importar dependencias\n",
    "import os\n",
    "import pandas as pd\n",
    "from datetime import datetime\n",
    "from pathlib import Path\n",
    "from importlib import import_module\n",
    "import sys"
   ]
  },
  {
   "cell_type": "code",
   "execution_count": 4,
   "id": "5c612684-267c-4b92-9f5b-d7bef88a479f",
   "metadata": {},
   "outputs": [],
   "source": [
    "# ✅ Paso 3: Configuracion de rutas\n",
    "BASE_DIR = Path(\"D:/trading\")\n",
    "HISTORIC_DIR = BASE_DIR / \"data/historic_reciente\"\n",
    "ESTRATEGIAS_PATH = BASE_DIR / \"my_modules/estrategias\"\n",
    "OUTPUT_PATH = BASE_DIR / \"reports/senales_heuristicas/diarias\"\n",
    "CONFIG_PATH = BASE_DIR / \"config/450/symbol_groups.json\""
   ]
  },
  {
   "cell_type": "code",
   "execution_count": 5,
   "id": "c33b3943-ade3-4b07-bc04-21ddec7f1fae",
   "metadata": {},
   "outputs": [
    {
     "name": "stdout",
     "output_type": "stream",
     "text": [
      "✅ Estrategia cargada: bollinger_breakout_v4\n",
      "✅ Estrategia cargada: cruce_medias_v4\n",
      "✅ Estrategia cargada: gap_open_strategy_v5\n",
      "✅ Estrategia cargada: ruptura_volumen_v1\n"
     ]
    }
   ],
   "source": [
    "# ✅ Paso 4: Cargar estrategias tuneadas\n",
    "desarrollos = {}\n",
    "sys.path.append(str(BASE_DIR))  # para que my_modules sea importable\n",
    "\n",
    "for archivo in os.listdir(ESTRATEGIAS_PATH):\n",
    "    if archivo.endswith(\".py\"):\n",
    "        nombre_modulo = archivo[:-3]\n",
    "        try:\n",
    "            mod = import_module(f\"my_modules.estrategias.{nombre_modulo}\")\n",
    "            desarrollos[nombre_modulo] = mod.generar_senales\n",
    "            print(f\"✅ Estrategia cargada: {nombre_modulo}\")\n",
    "        except Exception as e:\n",
    "            print(f\"❌ No se pudo cargar {nombre_modulo}: {e}\")"
   ]
  },
  {
   "cell_type": "code",
   "execution_count": 6,
   "id": "8f79fb62-00ff-4e8b-912a-dbbbc6836fe0",
   "metadata": {},
   "outputs": [
    {
     "name": "stdout",
     "output_type": "stream",
     "text": [
      "✅ Modo: todos los históricos (429 símbolos)\n"
     ]
    }
   ],
   "source": [
    "import json\n",
    "from pathlib import Path\n",
    "\n",
    "# === CONFIGURACIÓN ===\n",
    "CARGAR_TODOS_HISTORICOS = True  # ← cambia a False si querés usar el archivo json\n",
    "HISTORIC_DIR = Path(\"D:/trading/data/historic\")\n",
    "CONFIG_PATH = Path(\"D:/trading/config/symbol_groups_prior.json\")\n",
    "\n",
    "# === CARGA DE SÍMBOLOS ===\n",
    "if CARGAR_TODOS_HISTORICOS:\n",
    "    simbolos = sorted([f.stem for f in HISTORIC_DIR.glob(\"*.parquet\")])\n",
    "    print(f\"✅ Modo: todos los históricos ({len(simbolos)} símbolos)\")\n",
    "else:\n",
    "    with open(CONFIG_PATH, \"r\", encoding=\"utf-8\") as f:\n",
    "        grupos = json.load(f)\n",
    "    simbolos = sorted(set(sum(grupos.values(), [])))\n",
    "    print(f\"📂 Modo: grupo configurado ({len(simbolos)} símbolos)\")\n"
   ]
  },
  {
   "cell_type": "code",
   "execution_count": 7,
   "id": "9eea3f6b-5444-40da-b338-d17600669412",
   "metadata": {},
   "outputs": [
    {
     "name": "stdout",
     "output_type": "stream",
     "text": [
      "Borrando señales anteriores en D:\\trading\\reports\\senales_heuristicas\\diarias...\n",
      "✅ Directorio limpio.\n"
     ]
    },
    {
     "name": "stderr",
     "output_type": "stream",
     "text": [
      "Procesando símbolos: 100%|█████| 429/429 [00:23<00:00, 18.50it/s]\n"
     ]
    },
    {
     "name": "stdout",
     "output_type": "stream",
     "text": [
      "\n",
      "🕒 Tiempo total: 0 min 24 seg\n"
     ]
    }
   ],
   "source": [
    "import time\n",
    "from tqdm import tqdm\n",
    "from joblib import Parallel, delayed\n",
    "from datetime import date\n",
    "\n",
    "# Crear salida si no existe\n",
    "OUTPUT_PATH.mkdir(parents=True, exist_ok=True)\n",
    "\n",
    "print(f\"Borrando señales anteriores en {OUTPUT_PATH}...\")\n",
    "for archivo in OUTPUT_PATH.glob(\"*.csv\"):\n",
    "    archivo.unlink()\n",
    "print(\"✅ Directorio limpio.\")\n",
    "\n",
    "# === FUNCIÓN PARALELA POR SÍMBOLO ===\n",
    "def procesar_simbolo(simbolo):\n",
    "    archivo = HISTORIC_DIR / f\"{simbolo}.parquet\"\n",
    "    if not archivo.exists():\n",
    "        return f\"⚠️ {simbolo}: sin histórico\"\n",
    "\n",
    "    try:\n",
    "        df = pd.read_parquet(archivo)\n",
    "        if df.empty or \"fecha\" not in df.columns:\n",
    "            return f\"⚠️ {simbolo}: histórico inválido\"\n",
    "\n",
    "        df[\"fecha\"] = pd.to_datetime(df[\"fecha\"])\n",
    "        df = df[df[\"fecha\"] < pd.Timestamp.today()]\n",
    "        if df.empty:\n",
    "            return f\"⚠️ {simbolo}: sin datos previos a hoy\"\n",
    "\n",
    "        ultima_fecha = df[\"fecha\"].max()\n",
    "        resultados = []\n",
    "\n",
    "        for nombre_est, funcion in desarrollos.items():\n",
    "            try:\n",
    "                df_out = funcion(df.copy())\n",
    "                if df_out is not None and not df_out.empty:\n",
    "                    df_out[\"fecha\"] = pd.to_datetime(df_out[\"fecha\"])\n",
    "                    df_out = df_out[df_out[\"fecha\"] == ultima_fecha]\n",
    "                    if not df_out.empty:\n",
    "                        df_out[\"simbolo\"] = simbolo\n",
    "                        df_out[\"estrategia\"] = nombre_est\n",
    "                        resultados.append(df_out)\n",
    "            except Exception as e:\n",
    "                return f\"❌ {simbolo} > {nombre_est}: {e}\"\n",
    "\n",
    "        if resultados:\n",
    "            df_final = pd.concat(resultados)\n",
    "            df_final = df_final.sort_values(\"fecha\")\n",
    "            df_final.to_csv(OUTPUT_PATH / f\"{simbolo}_senales_diarias.csv\", index=False)\n",
    "        else:\n",
    "            return f\"⏭️ {simbolo}: sin señales\"\n",
    "\n",
    "    except Exception as e:\n",
    "        return f\"❌ {simbolo}: error general: {e}\"\n",
    "\n",
    "# === EJECUCIÓN PARALELA ===\n",
    "start = time.time()\n",
    "\n",
    "resultados = Parallel(n_jobs=-1)(\n",
    "    delayed(procesar_simbolo)(simbolo) for simbolo in tqdm(simbolos, desc=\"Procesando símbolos\")\n",
    ")\n",
    "\n",
    "end = time.time()\n",
    "duracion = end - start\n",
    "\n",
    "print(f\"\\n🕒 Tiempo total: {duracion // 60:.0f} min {duracion % 60:.0f} seg\")\n",
    "\n"
   ]
  },
  {
   "cell_type": "code",
   "execution_count": 8,
   "id": "e9285fc1-92b2-4d8a-92f8-5b2fe4084f32",
   "metadata": {},
   "outputs": [
    {
     "name": "stdout",
     "output_type": "stream",
     "text": [
      "📈 Símbolos con señal BUY:\n"
     ]
    },
    {
     "data": {
      "text/plain": [
       "['DG', 'DLTR']"
      ]
     },
     "metadata": {},
     "output_type": "display_data"
    },
    {
     "name": "stdout",
     "output_type": "stream",
     "text": [
      "\n",
      "📉 Símbolos con señal SELL:\n"
     ]
    },
    {
     "data": {
      "text/plain": [
       "['DG']"
      ]
     },
     "metadata": {},
     "output_type": "display_data"
    }
   ],
   "source": [
    "\n",
    "# === Ruta de señales heurísticas ===\n",
    "OUTPUT_PATH = Path(\"D:/trading/reports/senales_heuristicas/diarias\")\n",
    "\n",
    "# === Cargar todas las señales en un único DataFrame ===\n",
    "df_lista = []\n",
    "for archivo in OUTPUT_PATH.glob(\"*.csv\"):\n",
    "    try:\n",
    "        df = pd.read_csv(archivo)\n",
    "        if \"simbolo\" in df.columns and \"signal\" in df.columns:\n",
    "            df_lista.append(df)\n",
    "    except Exception as e:\n",
    "        print(f\"❌ Error al leer {archivo.name}: {e}\")\n",
    "\n",
    "if not df_lista:\n",
    "    print(\"⚠️ No se encontraron señales.\")\n",
    "else:\n",
    "    df_all = pd.concat(df_lista).dropna(subset=[\"signal\"])\n",
    "    df_all[\"signal\"] = df_all[\"signal\"].str.lower().str.strip()\n",
    "\n",
    "    # Clasificación por símbolo\n",
    "    resumen = df_all.groupby(\"simbolo\")[\"signal\"].apply(lambda s: set(s)).reset_index()\n",
    "    resumen[\"buy\"] = resumen[\"signal\"].apply(lambda x: \"buy\" in x)\n",
    "    resumen[\"sell\"] = resumen[\"signal\"].apply(lambda x: \"sell\" in x)\n",
    "    resumen[\"hold_only\"] = resumen[\"signal\"].apply(lambda x: x == {\"hold\"})\n",
    "\n",
    "    # Reporte\n",
    "    print(\"📈 Símbolos con señal BUY:\")\n",
    "    display(resumen[resumen[\"buy\"]][\"simbolo\"].tolist())\n",
    "\n",
    "    print(\"\\n📉 Símbolos con señal SELL:\")\n",
    "    display(resumen[resumen[\"sell\"]][\"simbolo\"].tolist())\n",
    "\n",
    "#    print(\"\\n🤝 Símbolos con solo HOLD:\")\n",
    "#    display(resumen[resumen[\"hold_only\"]][\"simbolo\"].tolist())\n"
   ]
  },
  {
   "cell_type": "code",
   "execution_count": 9,
   "id": "675106b7-957f-4bc6-91b3-53436c11e54e",
   "metadata": {},
   "outputs": [
    {
     "data": {
      "text/html": [
       "<div>\n",
       "<style scoped>\n",
       "    .dataframe tbody tr th:only-of-type {\n",
       "        vertical-align: middle;\n",
       "    }\n",
       "\n",
       "    .dataframe tbody tr th {\n",
       "        vertical-align: top;\n",
       "    }\n",
       "\n",
       "    .dataframe thead th {\n",
       "        text-align: right;\n",
       "    }\n",
       "</style>\n",
       "<table border=\"1\" class=\"dataframe\">\n",
       "  <thead>\n",
       "    <tr style=\"text-align: right;\">\n",
       "      <th></th>\n",
       "      <th>simbolo</th>\n",
       "      <th>Estrategias BUY</th>\n",
       "      <th>Estrategias SELL</th>\n",
       "    </tr>\n",
       "  </thead>\n",
       "  <tbody>\n",
       "    <tr>\n",
       "      <th>0</th>\n",
       "      <td>DG</td>\n",
       "      <td>bollinger_breakout_v4</td>\n",
       "      <td>gap_open_strategy_v5</td>\n",
       "    </tr>\n",
       "    <tr>\n",
       "      <th>1</th>\n",
       "      <td>DLTR</td>\n",
       "      <td>bollinger_breakout_v4</td>\n",
       "      <td></td>\n",
       "    </tr>\n",
       "  </tbody>\n",
       "</table>\n",
       "</div>"
      ],
      "text/plain": [
       "  simbolo        Estrategias BUY      Estrategias SELL\n",
       "0      DG  bollinger_breakout_v4  gap_open_strategy_v5\n",
       "1    DLTR  bollinger_breakout_v4                      "
      ]
     },
     "metadata": {},
     "output_type": "display_data"
    }
   ],
   "source": [
    "OUTPUT_PATH = Path(\"D:/trading/reports/senales_heuristicas/diarias\")\n",
    "df_lista = []\n",
    "\n",
    "# Cargar todas las señales\n",
    "for archivo in OUTPUT_PATH.glob(\"*.csv\"):\n",
    "    try:\n",
    "        df = pd.read_csv(archivo)\n",
    "        if {\"simbolo\", \"signal\", \"estrategia\"}.issubset(df.columns):\n",
    "            df_lista.append(df)\n",
    "    except Exception as e:\n",
    "        print(f\"❌ Error en {archivo.name}: {e}\")\n",
    "\n",
    "if df_lista:\n",
    "    df_all = pd.concat(df_lista).dropna(subset=[\"signal\"])\n",
    "    df_all[\"signal\"] = df_all[\"signal\"].str.lower().str.strip()\n",
    "\n",
    "    # Filtrar solo BUY y SELL\n",
    "    df_all = df_all[df_all[\"signal\"].isin([\"buy\", \"sell\"])]\n",
    "\n",
    "    # Agrupar estrategias por tipo de señal\n",
    "    df_pivot = df_all.groupby([\"simbolo\", \"signal\"])[\"estrategia\"] \\\n",
    "        .apply(lambda x: \", \".join(sorted(set(x)))).unstack(fill_value=\"\")\n",
    "\n",
    "    df_pivot.reset_index(inplace=True)\n",
    "    df_pivot.columns.name = None\n",
    "    df_pivot.rename(columns={\"buy\": \"Estrategias BUY\", \"sell\": \"Estrategias SELL\"}, inplace=True)\n",
    "\n",
    "    display(df_pivot)\n",
    "else:\n",
    "    print(\"⚠️ No se encontraron señales válidas.\")"
   ]
  },
  {
   "cell_type": "code",
   "execution_count": 10,
   "id": "89af10c1-255a-4f57-a8a3-36e379598f93",
   "metadata": {},
   "outputs": [
    {
     "name": "stdout",
     "output_type": "stream",
     "text": [
      "\n",
      "🕒 Tiempo total: 0 min 27 seg\n"
     ]
    }
   ],
   "source": [
    "end1 = time.time()\n",
    "duracion = end - start1\n",
    "\n",
    "print(f\"\\n🕒 Tiempo total: {duracion // 60:.0f} min {duracion % 60:.0f} seg\")"
   ]
  }
 ],
 "metadata": {
  "kernelspec": {
   "display_name": "Python 3 (ipykernel)",
   "language": "python",
   "name": "python3"
  },
  "language_info": {
   "codemirror_mode": {
    "name": "ipython",
    "version": 3
   },
   "file_extension": ".py",
   "mimetype": "text/x-python",
   "name": "python",
   "nbconvert_exporter": "python",
   "pygments_lexer": "ipython3",
   "version": "3.11.9"
  }
 },
 "nbformat": 4,
 "nbformat_minor": 5
}
