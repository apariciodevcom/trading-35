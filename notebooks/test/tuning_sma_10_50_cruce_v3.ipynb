{
 "cells": [
  {
   "cell_type": "markdown",
   "id": "37bcb536-6906-4eff-98ec-d4dce3f62937",
   "metadata": {},
   "source": [
    "# 🔧 Tuning Estrategia SMA 10/50 - Cruce v2\n",
    "\n",
    "## Descripción de la estrategia\n",
    "Esta estrategia detecta cruces entre medias móviles simples:\n",
    "- **SMA corto** (por defecto 10) vs **SMA largo** (por defecto 50)\n",
    "- Señales de compra (\"buy\") se generan cuando la SMA10 cruza por encima de la SMA50.\n",
    "- Señales de venta (\"sell\") se generan cuando la SMA10 cruza por debajo de la SMA50.\n",
    "\n",
    "### Mejoras incluidas:\n",
    "- Confirmación opcional del cruce al día siguiente\n",
    "- Filtro de volatilidad basado en ATR\n",
    "- Validación con estructura de vela japonesa (cuerpo)\n",
    "\n",
    "## Parámetros configurables\n",
    "- `window_corto`: int\n",
    "- `window_largo`: int\n",
    "- `confirmar_al_dia_siguiente`: bool\n",
    "- `usar_filtro_volatilidad`: bool\n",
    "- `confirmar_cuerpo_vela`: bool\n",
    "\n",
    "## Objetivo del notebook\n",
    "Realizar tuning de la estrategia mediante evaluación por grid de combinaciones, para identificar las configuraciones con mejor desempeño según un `score` definido en la simulación.\n",
    "\n",
    "Los datos se cargan desde la ruta local `D:/trading/data/historic`.\n",
    "\"\"\""
   ]
  },
  {
   "cell_type": "code",
   "execution_count": 1,
   "id": "dbd1985a-d0d5-4631-b2cf-f6f50c445962",
   "metadata": {},
   "outputs": [
    {
     "name": "stdout",
     "output_type": "stream",
     "text": [
      "Se cargaron 48 símbolos.\n"
     ]
    }
   ],
   "source": [
    "import os\n",
    "import pandas as pd\n",
    "from pathlib import Path\n",
    "\n",
    "ruta_historicos = Path(\"D:/trading/data/historic\")\n",
    "parquets = list(ruta_historicos.glob(\"*.parquet\"))\n",
    "historicos = {}\n",
    "\n",
    "for archivo in parquets:\n",
    "    simbolo = archivo.stem\n",
    "    try:\n",
    "        df = pd.read_parquet(archivo)\n",
    "        if \"fecha\" in df.columns:\n",
    "            df[\"fecha\"] = pd.to_datetime(df[\"fecha\"])\n",
    "            historicos[simbolo] = df.sort_values(\"fecha\").reset_index(drop=True)\n",
    "    except Exception as e:\n",
    "        print(f\"Error al cargar {archivo.name}: {e}\")\n",
    "\n",
    "print(f\"Se cargaron {len(historicos)} símbolos.\")"
   ]
  },
  {
   "cell_type": "code",
   "execution_count": 2,
   "id": "3ae52977-af16-4376-aee3-7d5be908d461",
   "metadata": {},
   "outputs": [
    {
     "name": "stdout",
     "output_type": "stream",
     "text": [
      "Total de combinaciones a evaluar: 72\n"
     ]
    }
   ],
   "source": [
    "import itertools\n",
    "\n",
    "param_grid = {\n",
    "    \"window_corto\": [8, 10, 12],\n",
    "    \"window_largo\": [45, 50, 55],\n",
    "    \"confirmar_al_dia_siguiente\": [False, True],\n",
    "    \"usar_filtro_volatilidad\": [False, True],\n",
    "    \"confirmar_cuerpo_vela\": [False, True],\n",
    "}\n",
    "\n",
    "claves = list(param_grid.keys())\n",
    "combinaciones = list(itertools.product(*param_grid.values()))\n",
    "print(f\"Total de combinaciones a evaluar: {len(combinaciones)}\")"
   ]
  },
  {
   "cell_type": "code",
   "execution_count": 3,
   "id": "c40750bd-9af2-4658-ae40-e1c72978714f",
   "metadata": {},
   "outputs": [],
   "source": [
    "import sys\n",
    "sys.path.append(\"D:/trading\")\n",
    "from my_modules.estrategias.v3 import sma_10_50_cruce_v3\n",
    "\n",
    "def simular_combinacion(args):\n",
    "    combinacion, historicos = args\n",
    "    params = dict(zip(claves, combinacion))\n",
    "\n",
    "    resultados = []\n",
    "    for simbolo, df in historicos.items():\n",
    "        try:\n",
    "            df_out = sma_10_50_cruce_v2.generar_senales(df.copy(), **params)\n",
    "            df_out[\"simbolo\"] = simbolo\n",
    "            resultados.append(df_out)\n",
    "        except Exception as e:\n",
    "            print(f\"Error {simbolo}: {e}\")\n",
    "\n",
    "    if not resultados:\n",
    "        return {\"params\": params, \"score\": -999, \"n\": 0}\n",
    "\n",
    "    df_all = pd.concat(resultados)\n",
    "    n_signals = (df_all.signal != \"hold\").sum()\n",
    "    buy_ratio = (df_all.signal == \"buy\").sum() / max(n_signals, 1)\n",
    "    score = round(n_signals * (1 + buy_ratio), 2)\n",
    "\n",
    "    return {\"params\": params, \"score\": score, \"n\": n_signals}"
   ]
  },
  {
   "cell_type": "code",
   "execution_count": 4,
   "id": "20c6f7ae-d0b8-4f8c-a509-e8fc7d2b178d",
   "metadata": {},
   "outputs": [],
   "source": [
    "from joblib import Parallel, delayed\n",
    "from tqdm import tqdm\n",
    "\n",
    "def ejecutar_tuning(historicos, combinaciones):\n",
    "    def safe_simulacion(comb):\n",
    "        try:\n",
    "            return simular_combinacion((comb, historicos))\n",
    "        except Exception as e:\n",
    "            print(f\"Error en combinación {comb}: {e}\")\n",
    "            return {\"params\": dict(zip(claves, comb)), \"score\": -999, \"n\": 0}\n",
    "\n",
    "    resultados = Parallel(n_jobs=-1, backend=\"loky\")(\n",
    "        delayed(safe_simulacion)(comb) for comb in tqdm(combinaciones)\n",
    "    )\n",
    "    return resultados"
   ]
  },
  {
   "cell_type": "code",
   "execution_count": 5,
   "id": "36dbfa63-57be-4f3d-ac78-652ff43f73cf",
   "metadata": {},
   "outputs": [
    {
     "ename": "NameError",
     "evalue": "name 'resultados' is not defined",
     "output_type": "error",
     "traceback": [
      "\u001b[31m---------------------------------------------------------------------------\u001b[39m",
      "\u001b[31mNameError\u001b[39m                                 Traceback (most recent call last)",
      "\u001b[36mCell\u001b[39m\u001b[36m \u001b[39m\u001b[32mIn[5]\u001b[39m\u001b[32m, line 1\u001b[39m\n\u001b[32m----> \u001b[39m\u001b[32m1\u001b[39m df_resultados = pd.DataFrame(\u001b[43mresultados\u001b[49m)\n\u001b[32m      2\u001b[39m df_resultados = df_resultados.sort_values(\u001b[33m\"\u001b[39m\u001b[33mscore\u001b[39m\u001b[33m\"\u001b[39m, ascending=\u001b[38;5;28;01mFalse\u001b[39;00m).reset_index(drop=\u001b[38;5;28;01mTrue\u001b[39;00m)\n\u001b[32m      3\u001b[39m df_resultados[\u001b[33m\"\u001b[39m\u001b[33mparams_str\u001b[39m\u001b[33m\"\u001b[39m] = df_resultados[\u001b[33m\"\u001b[39m\u001b[33mparams\u001b[39m\u001b[33m\"\u001b[39m].astype(\u001b[38;5;28mstr\u001b[39m)\n",
      "\u001b[31mNameError\u001b[39m: name 'resultados' is not defined"
     ]
    }
   ],
   "source": [
    "df_resultados = pd.DataFrame(resultados)\n",
    "df_resultados = df_resultados.sort_values(\"score\", ascending=False).reset_index(drop=True)\n",
    "df_resultados[\"params_str\"] = df_resultados[\"params\"].astype(str)\n",
    "df_resultados[[\"score\", \"n\", \"params_str\"]].head(10)"
   ]
  },
  {
   "cell_type": "code",
   "execution_count": null,
   "id": "ff5de6fc-b85c-4fbd-be5e-4b1828158557",
   "metadata": {},
   "outputs": [],
   "source": [
    "import matplotlib.pyplot as plt\n",
    "\n",
    "plt.figure(figsize=(10, 6))\n",
    "plt.plot(df_resultados[\"score\"].values, marker=\"o\")\n",
    "plt.title(\"Distribución de Score por Configuración\")\n",
    "plt.xlabel(\"Ranking\")\n",
    "plt.ylabel(\"Score\")\n",
    "plt.grid(True)\n",
    "plt.tight_layout()\n",
    "plt.show()"
   ]
  }
 ],
 "metadata": {
  "kernelspec": {
   "display_name": "Python 3 (ipykernel)",
   "language": "python",
   "name": "python3"
  },
  "language_info": {
   "codemirror_mode": {
    "name": "ipython",
    "version": 3
   },
   "file_extension": ".py",
   "mimetype": "text/x-python",
   "name": "python",
   "nbconvert_exporter": "python",
   "pygments_lexer": "ipython3",
   "version": "3.11.9"
  }
 },
 "nbformat": 4,
 "nbformat_minor": 5
}
