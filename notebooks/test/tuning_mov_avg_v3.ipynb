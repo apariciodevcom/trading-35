{
 "cells": [
  {
   "cell_type": "code",
   "execution_count": 1,
   "id": "3cd52207-3e9b-46e9-911b-35139958c095",
   "metadata": {},
   "outputs": [
    {
     "name": "stdout",
     "output_type": "stream",
     "text": [
      "Se cargaron 48 símbolos.\n",
      "Total de combinaciones a evaluar: 6\n"
     ]
    }
   ],
   "source": [
    "# %% [markdown]\n",
    "\"\"\"\n",
    "# 🔧 Tuning Estrategia Movimiento de Promedios - v3\n",
    "\n",
    "## Descripción de la estrategia\n",
    "Esta estrategia genera señales de cruce entre medias móviles simples SMA 5 y SMA 20:\n",
    "- Compra (\"buy\") cuando SMA5 cruza hacia arriba a SMA20\n",
    "- Venta (\"sell\") cuando SMA5 cruza hacia abajo a SMA20\n",
    "\n",
    "### Mejoras implementadas:\n",
    "- Confirmación al día siguiente (opcional)\n",
    "- Filtro por volatilidad usando ATR ratio\n",
    "- Modo `debug` para inspección avanzada\n",
    "\n",
    "## Parámetros configurables\n",
    "- `confirmar_al_dia_siguiente`: bool\n",
    "- `atr_threshold`: float (umbral ATR ratio)\n",
    "- `debug`: bool (se desactiva en tuning)\n",
    "\n",
    "## Objetivo del notebook\n",
    "Explorar combinaciones de parámetros para identificar configuraciones óptimas según un `score` definido por cantidad y balance de señales generadas.\n",
    "\"\"\"\n",
    "\n",
    "# %%\n",
    "# Carga de historicos desde ruta_historicos\n",
    "import os\n",
    "import pandas as pd\n",
    "from pathlib import Path\n",
    "\n",
    "ruta_historicos = Path(\"D:/trading/data/historic\")\n",
    "parquets = list(ruta_historicos.glob(\"*.parquet\"))\n",
    "historicos = {}\n",
    "\n",
    "for archivo in parquets:\n",
    "    simbolo = archivo.stem\n",
    "    try:\n",
    "        df = pd.read_parquet(archivo)\n",
    "        if \"fecha\" in df.columns:\n",
    "            df[\"fecha\"] = pd.to_datetime(df[\"fecha\"])\n",
    "            historicos[simbolo] = df.sort_values(\"fecha\").reset_index(drop=True)\n",
    "    except Exception as e:\n",
    "        print(f\"Error al cargar {archivo.name}: {e}\")\n",
    "\n",
    "print(f\"Se cargaron {len(historicos)} símbolos.\")\n",
    "\n",
    "# %%\n",
    "# Definicion del grid de parametros\n",
    "import itertools\n",
    "\n",
    "param_grid = {\n",
    "    \"confirmar_al_dia_siguiente\": [False, True],\n",
    "    \"atr_threshold\": [0.005, 0.008, 0.012]\n",
    "}\n",
    "\n",
    "claves = list(param_grid.keys())\n",
    "combinaciones = list(itertools.product(*param_grid.values()))\n",
    "print(f\"Total de combinaciones a evaluar: {len(combinaciones)}\")\n",
    "\n",
    "# %%\n",
    "# Funcion de simulacion por combinacion\n",
    "import sys\n",
    "sys.path.append(\"D:/trading\")\n",
    "from my_modules.estrategias.v3 import mov_avg_v3\n",
    "\n",
    "def simular_combinacion(args):\n",
    "    combinacion, historicos = args\n",
    "    params = dict(zip(claves, combinacion))\n",
    "    params[\"debug\"] = False  # Desactivar debug en tuning\n",
    "\n",
    "    resultados = []\n",
    "    for simbolo, df in historicos.items():\n",
    "        try:\n",
    "            df_out = mov_avg_v3.generar_senales(df.copy(), **params)\n",
    "            df_out[\"simbolo\"] = simbolo\n",
    "            resultados.append(df_out)\n",
    "        except Exception as e:\n",
    "            print(f\"Error {simbolo}: {e}\")\n",
    "\n",
    "    if not resultados:\n",
    "        return {\"params\": params, \"score\": -999, \"n\": 0}\n",
    "\n",
    "    df_all = pd.concat(resultados)\n",
    "    n_signals = (df_all.signal != \"hold\").sum()\n",
    "    buy_ratio = (df_all.signal == \"buy\").sum() / max(n_signals, 1)\n",
    "    score = round(n_signals * (1 + buy_ratio), 2)\n",
    "\n",
    "    return {\"params\": params, \"score\": score, \"n\": n_signals}"
   ]
  },
  {
   "cell_type": "code",
   "execution_count": 2,
   "id": "458e29dc-5949-493c-b425-13a4ac30f3b9",
   "metadata": {},
   "outputs": [
    {
     "name": "stdout",
     "output_type": "stream",
     "text": [
      "Ejecutando tuning con joblib...\n"
     ]
    },
    {
     "name": "stderr",
     "output_type": "stream",
     "text": [
      "100%|███████████████████████████████████████████████████████████████████████████████████| 6/6 [00:00<00:00, 599.56it/s]\n"
     ]
    }
   ],
   "source": [
    "# Tuning en paralelo usando joblib + tqdm\n",
    "from joblib import Parallel, delayed\n",
    "from tqdm import tqdm\n",
    "\n",
    "def ejecutar_tuning(historicos, combinaciones):\n",
    "    def safe_simulacion(comb):\n",
    "        try:\n",
    "            return simular_combinacion((comb, historicos))\n",
    "        except Exception as e:\n",
    "            print(f\"Error en combinación {comb}: {e}\")\n",
    "            return {\"params\": dict(zip(claves, comb)), \"score\": -999, \"n\": 0}\n",
    "\n",
    "    resultados = Parallel(n_jobs=-1, backend=\"loky\")(\n",
    "        delayed(safe_simulacion)(comb) for comb in tqdm(combinaciones)\n",
    "    )\n",
    "    return resultados\n",
    "\n",
    "# Ejecutar\n",
    "print(\"Ejecutando tuning con joblib...\")\n",
    "resultados = ejecutar_tuning(historicos, combinaciones)"
   ]
  },
  {
   "cell_type": "code",
   "execution_count": 3,
   "id": "d80e9ad4-9bec-4476-95f2-26a3c4181e68",
   "metadata": {},
   "outputs": [
    {
     "data": {
      "text/html": [
       "<div>\n",
       "<style scoped>\n",
       "    .dataframe tbody tr th:only-of-type {\n",
       "        vertical-align: middle;\n",
       "    }\n",
       "\n",
       "    .dataframe tbody tr th {\n",
       "        vertical-align: top;\n",
       "    }\n",
       "\n",
       "    .dataframe thead th {\n",
       "        text-align: right;\n",
       "    }\n",
       "</style>\n",
       "<table border=\"1\" class=\"dataframe\">\n",
       "  <thead>\n",
       "    <tr style=\"text-align: right;\">\n",
       "      <th></th>\n",
       "      <th>score</th>\n",
       "      <th>n</th>\n",
       "      <th>params_str</th>\n",
       "    </tr>\n",
       "  </thead>\n",
       "  <tbody>\n",
       "    <tr>\n",
       "      <th>0</th>\n",
       "      <td>15853.0</td>\n",
       "      <td>10569</td>\n",
       "      <td>{'confirmar_al_dia_siguiente': False, 'atr_thr...</td>\n",
       "    </tr>\n",
       "    <tr>\n",
       "      <th>1</th>\n",
       "      <td>15680.0</td>\n",
       "      <td>10449</td>\n",
       "      <td>{'confirmar_al_dia_siguiente': False, 'atr_thr...</td>\n",
       "    </tr>\n",
       "    <tr>\n",
       "      <th>2</th>\n",
       "      <td>15125.0</td>\n",
       "      <td>10070</td>\n",
       "      <td>{'confirmar_al_dia_siguiente': True, 'atr_thre...</td>\n",
       "    </tr>\n",
       "    <tr>\n",
       "      <th>3</th>\n",
       "      <td>15027.0</td>\n",
       "      <td>10015</td>\n",
       "      <td>{'confirmar_al_dia_siguiente': False, 'atr_thr...</td>\n",
       "    </tr>\n",
       "    <tr>\n",
       "      <th>4</th>\n",
       "      <td>14962.0</td>\n",
       "      <td>9956</td>\n",
       "      <td>{'confirmar_al_dia_siguiente': True, 'atr_thre...</td>\n",
       "    </tr>\n",
       "    <tr>\n",
       "      <th>5</th>\n",
       "      <td>14346.0</td>\n",
       "      <td>9546</td>\n",
       "      <td>{'confirmar_al_dia_siguiente': True, 'atr_thre...</td>\n",
       "    </tr>\n",
       "  </tbody>\n",
       "</table>\n",
       "</div>"
      ],
      "text/plain": [
       "     score      n                                         params_str\n",
       "0  15853.0  10569  {'confirmar_al_dia_siguiente': False, 'atr_thr...\n",
       "1  15680.0  10449  {'confirmar_al_dia_siguiente': False, 'atr_thr...\n",
       "2  15125.0  10070  {'confirmar_al_dia_siguiente': True, 'atr_thre...\n",
       "3  15027.0  10015  {'confirmar_al_dia_siguiente': False, 'atr_thr...\n",
       "4  14962.0   9956  {'confirmar_al_dia_siguiente': True, 'atr_thre...\n",
       "5  14346.0   9546  {'confirmar_al_dia_siguiente': True, 'atr_thre..."
      ]
     },
     "execution_count": 3,
     "metadata": {},
     "output_type": "execute_result"
    }
   ],
   "source": [
    "# Top combinaciones por score\n",
    "import pandas as pd\n",
    "\n",
    "df_resultados = pd.DataFrame(resultados)\n",
    "df_resultados = df_resultados.sort_values(\"score\", ascending=False).reset_index(drop=True)\n",
    "df_resultados[\"params_str\"] = df_resultados[\"params\"].astype(str)\n",
    "df_resultados[[\"score\", \"n\", \"params_str\"]].head(10)"
   ]
  },
  {
   "cell_type": "code",
   "execution_count": 4,
   "id": "a9d277bb-562f-49bd-bb7f-fc847a81dc58",
   "metadata": {},
   "outputs": [
    {
     "data": {
      "image/png": "[encoded data removed]",
      "text/plain": [
       "<Figure size 1000x600 with 1 Axes>"
      ]
     },
     "metadata": {},
     "output_type": "display_data"
    }
   ],
   "source": [
    "# Visualizacion de resultados\n",
    "import matplotlib.pyplot as plt\n",
    "\n",
    "plt.figure(figsize=(10, 6))\n",
    "plt.plot(df_resultados[\"score\"].values, marker=\"o\")\n",
    "plt.title(\"Distribución de Score por Configuración SMA5/20\")\n",
    "plt.xlabel(\"Ranking\")\n",
    "plt.ylabel(\"Score\")\n",
    "plt.grid(True)\n",
    "plt.tight_layout()\n",
    "plt.show()"
   ]
  }
 ],
 "metadata": {
  "kernelspec": {
   "display_name": "Python 3 (ipykernel)",
   "language": "python",
   "name": "python3"
  },
  "language_info": {
   "codemirror_mode": {
    "name": "ipython",
    "version": 3
   },
   "file_extension": ".py",
   "mimetype": "text/x-python",
   "name": "python",
   "nbconvert_exporter": "python",
   "pygments_lexer": "ipython3",
   "version": "3.11.9"
  }
 },
 "nbformat": 4,
 "nbformat_minor": 5
}
