{
 "cells": [
  {
   "cell_type": "code",
   "execution_count": 1,
   "id": "ba721a83-e915-4e44-99d5-f0f1bdb65ddc",
   "metadata": {},
   "outputs": [],
   "source": [
    "import sys\n",
    "sys.path.append(\"D:/trading\")  # o el path donde está tu carpeta my_modules"
   ]
  },
  {
   "cell_type": "code",
   "execution_count": 2,
   "id": "cd97052d-d79a-422c-b7aa-f766805f8ad1",
   "metadata": {},
   "outputs": [
    {
     "name": "stdout",
     "output_type": "stream",
     "text": [
      "Símbolos cargados: 48\n"
     ]
    }
   ],
   "source": [
    "import pandas as pd\n",
    "import numpy as np\n",
    "import itertools\n",
    "from joblib import Parallel, delayed\n",
    "from tqdm import tqdm\n",
    "\n",
    "# Cargar históricos locales\n",
    "import os\n",
    "ruta_historicos = \"D:/trading/data/historic\"\n",
    "historicos = {}\n",
    "for archivo in os.listdir(ruta_historicos):\n",
    "    if archivo.endswith(\".parquet\"):\n",
    "        ticker = archivo.replace(\".parquet\", \"\")\n",
    "        df = pd.read_parquet(os.path.join(ruta_historicos, archivo))\n",
    "        historicos[ticker] = df\n",
    "print(f\"Símbolos cargados: {len(historicos)}\")\n",
    "\n",
    "\n",
    "\n",
    "\n"
   ]
  },
  {
   "cell_type": "code",
   "execution_count": 3,
   "id": "ee083268-c5fc-440a-8e74-88558786faa9",
   "metadata": {},
   "outputs": [
    {
     "name": "stdout",
     "output_type": "stream",
     "text": [
      "Total combinaciones: 6\n"
     ]
    }
   ],
   "source": [
    "param_grid = list(itertools.product(\n",
    "    [True, False],              # confirmar_al_dia_siguiente\n",
    "    [0.006, 0.008, 0.010]       # atr_threshold\n",
    "))\n",
    "print(f\"Total combinaciones: {len(param_grid)}\")\n",
    "\n",
    "\n"
   ]
  },
  {
   "cell_type": "code",
   "execution_count": 4,
   "id": "b5e824ff-a07c-427c-922e-f81a88fd82dd",
   "metadata": {},
   "outputs": [
    {
     "ename": "ImportError",
     "evalue": "cannot import name 'macd_hist_reversal_v4' from 'my_modules.estrategias.v4' (unknown location)",
     "output_type": "error",
     "traceback": [
      "\u001b[31m---------------------------------------------------------------------------\u001b[39m",
      "\u001b[31mImportError\u001b[39m                               Traceback (most recent call last)",
      "\u001b[36mCell\u001b[39m\u001b[36m \u001b[39m\u001b[32mIn[4]\u001b[39m\u001b[32m, line 1\u001b[39m\n\u001b[32m----> \u001b[39m\u001b[32m1\u001b[39m \u001b[38;5;28;01mfrom\u001b[39;00m\u001b[38;5;250m \u001b[39m\u001b[34;01mmy_modules\u001b[39;00m\u001b[34;01m.\u001b[39;00m\u001b[34;01mestrategias\u001b[39;00m\u001b[34;01m.\u001b[39;00m\u001b[34;01mv4\u001b[39;00m\u001b[38;5;250m \u001b[39m\u001b[38;5;28;01mimport\u001b[39;00m macd_hist_reversal_v4\n\u001b[32m      3\u001b[39m \u001b[38;5;28;01mdef\u001b[39;00m\u001b[38;5;250m \u001b[39m\u001b[34msimular_combinacion\u001b[39m(params):\n\u001b[32m      4\u001b[39m     confirmar, atr_th = params\n",
      "\u001b[31mImportError\u001b[39m: cannot import name 'macd_hist_reversal_v4' from 'my_modules.estrategias.v4' (unknown location)"
     ]
    }
   ],
   "source": [
    "from my_modules.estrategias.v4 import macd_hist_reversal_v4\n",
    "\n",
    "def simular_combinacion(params):\n",
    "    confirmar, atr_th = params\n",
    "    resultados = []\n",
    "\n",
    "    for ticker, df_precio in historicos.items():\n",
    "        df_signals = macd_hist_reversal_v4.generar_senales(df_precio,\n",
    "            confirmar_al_dia_siguiente=confirmar,\n",
    "            atr_threshold=atr_th,\n",
    "            debug=False\n",
    "        )\n",
    "        df_signals = df_signals[df_signals[\"signal\"] != \"hold\"]\n",
    "        if df_signals.empty:\n",
    "            continue\n",
    "\n",
    "        df_precio = df_precio.copy()\n",
    "        df_precio = df_precio.merge(df_signals[[\"fecha\", \"signal\"]], on=\"fecha\")\n",
    "\n",
    "        for _, row in df_precio.iterrows():\n",
    "            fecha_entrada = row[\"fecha\"]\n",
    "            precio_entrada = row[\"close\"]\n",
    "            df_rango = df_precio[(df_precio[\"fecha\"] > fecha_entrada) & (df_precio[\"fecha\"] <= fecha_entrada + pd.Timedelta(days=7))]\n",
    "            if df_rango.empty:\n",
    "                continue\n",
    "\n",
    "            tipo_salida = \"TIMEOUT\"\n",
    "            fila_salida = df_rango.iloc[-1]\n",
    "\n",
    "            for _, f in df_rango.iterrows():\n",
    "                if row[\"signal\"] == \"buy\":\n",
    "                    if f[\"high\"] >= precio_entrada * 1.05:\n",
    "                        tipo_salida = \"TP\"; fila_salida = f; break\n",
    "                    if f[\"low\"] <= precio_entrada * 0.97:\n",
    "                        tipo_salida = \"SL\"; fila_salida = f; break\n",
    "                elif row[\"signal\"] == \"sell\":\n",
    "                    if f[\"low\"] <= precio_entrada * 0.95:\n",
    "                        tipo_salida = \"TP\"; fila_salida = f; break\n",
    "                    if f[\"high\"] >= precio_entrada * 1.03:\n",
    "                        tipo_salida = \"SL\"; fila_salida = f; break\n",
    "\n",
    "            precio_salida = fila_salida[\"close\"]\n",
    "            dias = (fila_salida[\"fecha\"] - fecha_entrada).days\n",
    "            resultado = precio_salida - precio_entrada if row[\"signal\"] == \"buy\" else precio_entrada - precio_salida\n",
    "            ret_pct = (precio_salida / precio_entrada - 1) * (1 if row[\"signal\"] == \"buy\" else -1)\n",
    "            log_ret = np.log(precio_salida / precio_entrada) * (1 if row[\"signal\"] == \"buy\" else -1)\n",
    "\n",
    "            resultados.append({\n",
    "                \"resultado\": resultado,\n",
    "                \"resultado_pct\": ret_pct,\n",
    "                \"log_ret\": log_ret,\n",
    "                \"f_win\": int(resultado > 0),\n",
    "                \"dias\": dias\n",
    "            })\n",
    "\n",
    "    df = pd.DataFrame(resultados)\n",
    "    if df.empty:\n",
    "        return {\n",
    "            \"confirmar_al_dia_siguiente\": confirmar,\n",
    "            \"atr_threshold\": atr_th,\n",
    "            \"n_trades\": 0,\n",
    "            \"winrate\": 0,\n",
    "            \"avg_profit\": 0,\n",
    "            \"score\": -999\n",
    "        }\n",
    "\n",
    "    return {\n",
    "        \"confirmar_al_dia_siguiente\": confirmar,\n",
    "        \"atr_threshold\": atr_th,\n",
    "        \"n_trades\": len(df),\n",
    "        \"winrate\": df[\"f_win\"].mean(),\n",
    "        \"avg_profit\": df[\"resultado\"].mean(),\n",
    "        \"score\": df[\"resultado\"].mean() * df[\"f_win\"].mean()\n",
    "    }"
   ]
  },
  {
   "cell_type": "code",
   "execution_count": null,
   "id": "433e388d-9eb1-4971-8b76-398a2e4f2be5",
   "metadata": {},
   "outputs": [],
   "source": [
    "from itertools import chain\n",
    "from pandas import DataFrame\n",
    "\n",
    "resultados = Parallel(n_jobs=-1)(\n",
    "    delayed(simular_combinacion)(params) for params in tqdm(param_grid)\n",
    ")\n",
    "\n",
    "df_tuning = pd.DataFrame(resultados).sort_values(\"score\", ascending=False).reset_index(drop=True)\n",
    "\n",
    "print(\"Top combinaciones por score:\")\n",
    "display(df_tuning.head(10))\n"
   ]
  },
  {
   "cell_type": "code",
   "execution_count": null,
   "id": "8ff844e8-d9ca-4ea8-891b-9325612dafd6",
   "metadata": {},
   "outputs": [],
   "source": [
    "import seaborn as sns\n",
    "import matplotlib.pyplot as plt\n",
    "\n",
    "plt.figure(figsize=(8, 6))\n",
    "sns.scatterplot(\n",
    "    data=df_tuning,\n",
    "    x=\"winrate\",\n",
    "    y=\"avg_profit\",\n",
    "    size=\"n_trades\",\n",
    "    hue=\"score\",\n",
    "    palette=\"viridis\",\n",
    "    sizes=(50, 400),\n",
    "    edgecolor=\"black\",\n",
    "    alpha=0.8\n",
    ")\n",
    "plt.axhline(0, color=\"gray\", linestyle=\"--\")\n",
    "plt.axvline(0.5, color=\"gray\", linestyle=\"--\")\n",
    "plt.title(\"Grid Search macd_hist_reversal_v4 — Winrate vs Profit\")\n",
    "plt.xlabel(\"Winrate\")\n",
    "plt.ylabel(\"Avg Profit ($)\")\n",
    "plt.tight_layout()\n",
    "plt.show()"
   ]
  },
  {
   "cell_type": "code",
   "execution_count": null,
   "id": "3ab29bf0-b83c-445c-9ad5-63afd40b679f",
   "metadata": {},
   "outputs": [],
   "source": []
  }
 ],
 "metadata": {
  "kernelspec": {
   "display_name": "Python 3 (ipykernel)",
   "language": "python",
   "name": "python3"
  },
  "language_info": {
   "codemirror_mode": {
    "name": "ipython",
    "version": 3
   },
   "file_extension": ".py",
   "mimetype": "text/x-python",
   "name": "python",
   "nbconvert_exporter": "python",
   "pygments_lexer": "ipython3",
   "version": "3.11.9"
  }
 },
 "nbformat": 4,
 "nbformat_minor": 5
}
