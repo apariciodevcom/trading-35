{
 "cells": [
  {
   "cell_type": "code",
   "execution_count": 1,
   "id": "8c97ad66-c41a-452e-9325-186150c837bd",
   "metadata": {},
   "outputs": [],
   "source": [
    "from datetime import datetime\n",
    "from pathlib import Path\n",
    "\n",
    "FECHA_HOY = datetime.now().strftime(\"%Y-%m-%d\")\n",
    "LOG_DIR = Path(\"D:/trading/logs/staging\")\n",
    "LOG_DIR.mkdir(parents=True, exist_ok=True)\n",
    "LOG_PATH = LOG_DIR / f\"nb_features_{FECHA_HOY}.log\"\n",
    "\n",
    "def log_event(status, mensaje):\n",
    "    timestamp = datetime.now().strftime(\"%Y-%m-%d %H:%M:%S\")\n",
    "    with open(LOG_PATH, \"a\", encoding=\"utf-8\") as f:\n",
    "        f.write(f\"{timestamp},{status},{mensaje}\\n\")\n",
    "    print(f\"[{timestamp}] {status}: {mensaje}\")"
   ]
  },
  {
   "cell_type": "code",
   "execution_count": 2,
   "id": "36d61c48-2308-4cd9-b557-3ec0d4820920",
   "metadata": {},
   "outputs": [
    {
     "name": "stdout",
     "output_type": "stream",
     "text": [
      "[2025-05-28 12:13:23] OK: 46 simbolos cargados desde symbol_groups.json\n"
     ]
    }
   ],
   "source": [
    "import pandas as pd\n",
    "import json\n",
    "\n",
    "# Leer grupos desde JSON\n",
    "with open(\"D:/trading/config/json/symbol_groups.json\", \"r\") as f:\n",
    "    symbol_groups = json.load(f)\n",
    "\n",
    "# Unificar simbolos en una lista\n",
    "simbolos = sorted(set(sum(symbol_groups.values(), [])))\n",
    "log_event(\"OK\", f\"{len(simbolos)} simbolos cargados desde symbol_groups.json\")\n"
   ]
  },
  {
   "cell_type": "code",
   "execution_count": 3,
   "id": "e76f2b2d-07eb-4d7d-843c-f2404cb403c6",
   "metadata": {},
   "outputs": [
    {
     "name": "stdout",
     "output_type": "stream",
     "text": [
      "[2025-05-28 12:13:23] OK: Features generados para AAPL\n",
      "[2025-05-28 12:13:23] OK: Features generados para AEP\n",
      "[2025-05-28 12:13:23] OK: Features generados para AGNCO\n",
      "[2025-05-28 12:13:23] OK: Features generados para AGNCP\n",
      "[2025-05-28 12:13:23] OK: Features generados para AMD\n",
      "[2025-05-28 12:13:23] OK: Features generados para AMZN\n",
      "[2025-05-28 12:13:23] OK: Features generados para AVGO\n",
      "[2025-05-28 12:13:23] OK: Features generados para CCI\n",
      "[2025-05-28 12:13:23] OK: Features generados para CRBG\n",
      "[2025-05-28 12:13:23] OK: Features generados para CRM\n",
      "[2025-05-28 12:13:23] OK: Features generados para CTVA\n",
      "[2025-05-28 12:13:23] OK: Features generados para DGX\n",
      "[2025-05-28 12:13:23] OK: Features generados para DUK\n",
      "[2025-05-28 12:13:23] OK: Features generados para ECCF\n",
      "[2025-05-28 12:13:23] OK: Features generados para ED\n",
      "[2025-05-28 12:13:23] OK: Features generados para EPD\n",
      "[2025-05-28 12:13:23] OK: Features generados para EQR\n",
      "[2025-05-28 12:13:23] OK: Features generados para EW\n",
      "[2025-05-28 12:13:23] OK: Features generados para F\n",
      "[2025-05-28 12:13:23] OK: Features generados para FITBO\n",
      "[2025-05-28 12:13:23] OK: Features generados para FWONA\n",
      "[2025-05-28 12:13:24] OK: Features generados para FWONK\n",
      "[2025-05-28 12:13:24] OK: Features generados para GOOGL\n",
      "[2025-05-28 12:13:24] OK: Features generados para HBANL\n",
      "[2025-05-28 12:13:24] OK: Features generados para HBANM\n",
      "[2025-05-28 12:13:24] OK: Features generados para HBANP\n",
      "[2025-05-28 12:13:24] OK: Features generados para INTC\n",
      "[2025-05-28 12:13:24] OK: Features generados para JPM\n",
      "[2025-05-28 12:13:24] OK: Features generados para KHC\n",
      "[2025-05-28 12:13:24] OK: Features generados para KKRS\n",
      "[2025-05-28 12:13:24] OK: Features generados para MCHPP\n",
      "[2025-05-28 12:13:24] OK: Features generados para META\n",
      "[2025-05-28 12:13:24] OK: Features generados para MORN\n",
      "[2025-05-28 12:13:24] OK: Features generados para MSFT\n",
      "[2025-05-28 12:13:24] OK: Features generados para NKE\n",
      "[2025-05-28 12:13:24] OK: Features generados para NVDA\n",
      "[2025-05-28 12:13:24] OK: Features generados para ORCL\n",
      "[2025-05-28 12:13:24] OK: Features generados para RPRX\n",
      "[2025-05-28 12:13:24] OK: Features generados para SMCI\n",
      "[2025-05-28 12:13:24] OK: Features generados para SOLV\n",
      "[2025-05-28 12:13:24] OK: Features generados para TBB\n",
      "[2025-05-28 12:13:24] OK: Features generados para TSLA\n",
      "[2025-05-28 12:13:24] OK: Features generados para V\n",
      "[2025-05-28 12:13:24] OK: Features generados para WMT\n",
      "[2025-05-28 12:13:24] OK: Features generados para WPC\n",
      "[2025-05-28 12:13:24] OK: Features generados para XOM\n"
     ]
    }
   ],
   "source": [
    "from pathlib import Path\n",
    "import pandas as pd\n",
    "\n",
    "INPUT_DIR = Path(\"D:/trading/data/historic\")\n",
    "OUTPUT_DIR = Path(\"D:/trading/data/features\")\n",
    "OUTPUT_DIR.mkdir(parents=True, exist_ok=True)\n",
    "\n",
    "errores = []\n",
    "\n",
    "for simbolo in simbolos:\n",
    "    try:\n",
    "        archivo = INPUT_DIR / f\"{simbolo}.parquet\"\n",
    "        df = pd.read_parquet(archivo)\n",
    "        df = df.reset_index() if df.index.name == 'datetime' else df\n",
    "\n",
    "        # === GRUPO 1 === Tendencia\n",
    "        df['ema_5'] = df['close'].ewm(span=5).mean()\n",
    "        df['ema_20'] = df['close'].ewm(span=20).mean()\n",
    "        df['ma_5'] = df['close'].rolling(5).mean()\n",
    "        df['ma_20'] = df['close'].rolling(20).mean()\n",
    "        df['ma_ratio_5_20'] = df['ma_5'] / df['ma_20']\n",
    "        df['slope_ma_5'] = df['ma_5'].diff()\n",
    "        df['slope_ma_5_std'] = df['slope_ma_5'] / df['ma_5'].rolling(5).std()\n",
    "\n",
    "        # === GRUPO 2 === Momentum\n",
    "        df['retorno'] = df['close'].pct_change()\n",
    "        df['retorno_5d'] = df['close'].pct_change(5)\n",
    "        df['momentum_10d'] = df['close'] - df['close'].shift(10)\n",
    "        df['roc_10d'] = df['close'].pct_change(10)\n",
    "\n",
    "        # === GRUPO 3 === Volatilidad y rango\n",
    "        df['volatilidad_5d'] = df['retorno'].rolling(5).std()\n",
    "        df['volatilidad_20d'] = df['retorno'].rolling(20).std()\n",
    "        df['rango'] = df['high'] - df['low']\n",
    "\n",
    "        # === GRUPO 5 === Temporales\n",
    "        if df.index.name == 'datetime':\n",
    "            df = df.reset_index()\n",
    "        \n",
    "        if 'datetime' in df.columns:\n",
    "            df['fecha'] = pd.to_datetime(df['datetime'])\n",
    "        elif 'fecha' in df.columns:\n",
    "            df['fecha'] = pd.to_datetime(df['fecha'])\n",
    "        else:\n",
    "            raise KeyError(\"No se encontró columna de fechas valida ('datetime' o 'fecha')\")\n",
    "        \n",
    "        df['dia_semana'] = df['fecha'].dt.dayofweek\n",
    "        df['es_fin_de_mes'] = df['fecha'].dt.is_month_end.astype(int)\n",
    "\n",
    "        # Guardar salida\n",
    "        df.to_parquet(OUTPUT_DIR / f\"{simbolo}_features.parquet\", index=False)\n",
    "        log_event(\"OK\", f\"Features generados para {simbolo}\")\n",
    "\n",
    "    except Exception as e:\n",
    "        errores.append(simbolo)\n",
    "        log_event(\"ERROR\", f\"{simbolo}: {str(e)}\")\n"
   ]
  },
  {
   "cell_type": "code",
   "execution_count": 4,
   "id": "fc822a72-16d3-450e-800a-47f9e5000c3d",
   "metadata": {},
   "outputs": [
    {
     "name": "stdout",
     "output_type": "stream",
     "text": [
      "[2025-05-28 12:13:24] OK: Todos los simbolos procesados exitosamente\n"
     ]
    }
   ],
   "source": [
    "if errores:\n",
    "    log_event(\"WARNING\", f\"{len(errores)} simbolos con errores: {errores}\")\n",
    "else:\n",
    "    log_event(\"OK\", \"Todos los simbolos procesados exitosamente\")"
   ]
  },
  {
   "cell_type": "code",
   "execution_count": null,
   "id": "0acf667d-3da1-4d68-afba-4fbc13825563",
   "metadata": {},
   "outputs": [],
   "source": []
  }
 ],
 "metadata": {
  "kernelspec": {
   "display_name": "Python 3 (ipykernel)",
   "language": "python",
   "name": "python3"
  },
  "language_info": {
   "codemirror_mode": {
    "name": "ipython",
    "version": 3
   },
   "file_extension": ".py",
   "mimetype": "text/x-python",
   "name": "python",
   "nbconvert_exporter": "python",
   "pygments_lexer": "ipython3",
   "version": "3.11.9"
  }
 },
 "nbformat": 4,
 "nbformat_minor": 5
}
