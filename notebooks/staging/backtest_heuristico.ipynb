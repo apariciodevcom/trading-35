{
 "cells": [
  {
   "cell_type": "code",
   "execution_count": 1,
   "id": "c1297553-8816-4a2c-9989-16bf659cfa52",
   "metadata": {},
   "outputs": [],
   "source": [
    "from datetime import datetime\n",
    "from pathlib import Path\n",
    "\n",
    "FECHA_HOY = datetime.now().strftime(\"%Y-%m-%d\")\n",
    "LOG_DIR = Path(\"D:/trading/logs/staging\")\n",
    "LOG_DIR.mkdir(parents=True, exist_ok=True)\n",
    "LOG_PATH = LOG_DIR / f\"nb_backtest_heuristico_{FECHA_HOY}.log\"\n",
    "\n",
    "def log_event(status, mensaje):\n",
    "    timestamp = datetime.now().strftime(\"%Y-%m-%d %H:%M:%S\")\n",
    "    with open(LOG_PATH, \"a\", encoding=\"utf-8\") as f:\n",
    "        f.write(f\"{timestamp},{status},{mensaje}\\n\")\n",
    "    print(f\"[{timestamp}] {status}: {mensaje}\")\n"
   ]
  },
  {
   "cell_type": "code",
   "execution_count": 2,
   "id": "ada62070-cd0f-438f-b47f-e7c9f36ddaf6",
   "metadata": {},
   "outputs": [
    {
     "name": "stdout",
     "output_type": "stream",
     "text": [
      "[2025-05-28 12:28:38] OK: 4 combinaciones definidas para backtest: [(0.04, 0.02), (0.04, 0.03), (0.06, 0.02), (0.06, 0.03)]\n"
     ]
    }
   ],
   "source": [
    "from itertools import product\n",
    "\n",
    "tp_vals = [0.04, 0.06]\n",
    "sl_vals = [0.02, 0.03]\n",
    "\n",
    "combinaciones = list(product(tp_vals, sl_vals))\n",
    "log_event(\"OK\", f\"{len(combinaciones)} combinaciones definidas para backtest: {combinaciones}\")\n"
   ]
  },
  {
   "cell_type": "code",
   "execution_count": 6,
   "id": "b3a0e463-117b-4fd5-96d3-1c408c33d322",
   "metadata": {},
   "outputs": [
    {
     "name": "stdout",
     "output_type": "stream",
     "text": [
      "[2025-05-28 12:31:56] START: Ejecutando backtest con TP=0.04 SL=0.02\n",
      "[2025-05-28 12:35:26] OK: Backtest TP=0.04 SL=0.02 ejecutado correctamente\n",
      "[2025-05-28 12:35:26] START: Ejecutando backtest con TP=0.04 SL=0.03\n",
      "[2025-05-28 12:38:57] OK: Backtest TP=0.04 SL=0.03 ejecutado correctamente\n",
      "[2025-05-28 12:38:57] START: Ejecutando backtest con TP=0.06 SL=0.02\n",
      "[2025-05-28 12:42:35] OK: Backtest TP=0.06 SL=0.02 ejecutado correctamente\n",
      "[2025-05-28 12:42:35] START: Ejecutando backtest con TP=0.06 SL=0.03\n",
      "[2025-05-28 12:46:19] OK: Backtest TP=0.06 SL=0.03 ejecutado correctamente\n"
     ]
    }
   ],
   "source": [
    "import subprocess\n",
    "\n",
    "RUTA_SCRIPT = \"D:/trading/scripts/core/run_backtest_heuristicoV2.py\"\n",
    "PYTHON_EXE = \"D:/trading_env/Scripts/python.exe\"\n",
    "\n",
    "for tp, sl in combinaciones:\n",
    "    log_event(\"START\", f\"Ejecutando backtest con TP={tp} SL={sl}\")\n",
    "    comando = [PYTHON_EXE, RUTA_SCRIPT, \"--tp\", str(tp), \"--sl\", str(sl)]\n",
    "\n",
    "    try:\n",
    "        resultado = subprocess.run(comando, capture_output=True, text=True)\n",
    "        if resultado.returncode == 0:\n",
    "            log_event(\"OK\", f\"Backtest TP={tp} SL={sl} ejecutado correctamente\")\n",
    "        else:\n",
    "            log_event(\"ERROR\", f\"Backtest TP={tp} SL={sl} fallo con codigo {resultado.returncode}\")\n",
    "            print(resultado.stderr)\n",
    "    except Exception as e:\n",
    "        log_event(\"ERROR\", f\"Fallo al ejecutar backtest TP={tp} SL={sl}: {str(e)}\")\n"
   ]
  },
  {
   "cell_type": "code",
   "execution_count": 7,
   "id": "c7a6fcc5-5f19-479b-8209-afa7c37b5551",
   "metadata": {},
   "outputs": [
    {
     "name": "stdout",
     "output_type": "stream",
     "text": [
      "Archivo generado: resumen_metricas_tp4_sl2_2025-05-28.csv\n",
      "Archivo generado: resumen_metricas_tp4_sl3_2025-05-28.csv\n",
      "Archivo generado: resumen_metricas_tp6_sl2_2025-05-28.csv\n",
      "Archivo generado: resumen_metricas_tp6_sl3_2025-05-28.csv\n"
     ]
    }
   ],
   "source": [
    "from pathlib import Path\n",
    "\n",
    "resultados = sorted(Path(\"D:/trading/reports/backtesting/\").glob(\"resumen_metricas_tp*.csv\"))\n",
    "for archivo in resultados:\n",
    "    print(\"Archivo generado:\", archivo.name)\n"
   ]
  },
  {
   "cell_type": "code",
   "execution_count": null,
   "id": "ec484d48-ed28-4296-98eb-5b9478e37f8e",
   "metadata": {},
   "outputs": [],
   "source": []
  }
 ],
 "metadata": {
  "kernelspec": {
   "display_name": "Python 3 (ipykernel)",
   "language": "python",
   "name": "python3"
  },
  "language_info": {
   "codemirror_mode": {
    "name": "ipython",
    "version": 3
   },
   "file_extension": ".py",
   "mimetype": "text/x-python",
   "name": "python",
   "nbconvert_exporter": "python",
   "pygments_lexer": "ipython3",
   "version": "3.11.9"
  }
 },
 "nbformat": 4,
 "nbformat_minor": 5
}
